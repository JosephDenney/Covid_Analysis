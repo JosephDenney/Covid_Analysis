{
 "cells": [
  {
   "cell_type": "markdown",
   "metadata": {},
   "source": [
    "# COVID-19 Data Analysis and Forecasting"
   ]
  },
  {
   "cell_type": "markdown",
   "metadata": {},
   "source": [
    "#### Author: Joseph Denney\n",
    "#### Email: joseph.d.denney@gmail.com\n",
    "#### github: www.github.com/josephdenney/Tweet_Analysis"
   ]
  },
  {
   "cell_type": "markdown",
   "metadata": {},
   "source": [
    "## Introduction"
   ]
  },
  {
   "cell_type": "markdown",
   "metadata": {},
   "source": [
    "### Problem and Purpose"
   ]
  },
  {
   "cell_type": "markdown",
   "metadata": {},
   "source": [
    "#### This project will use forecasting to model Covid-19 deaths  based on current hospitalization, ventilator, and death data. I will be using API html links to bring in up to date data regularly. This project will use supervised learning in the form of ARIMA and SARIMAX in order to create time series death forecasts."
   ]
  },
  {
   "cell_type": "markdown",
   "metadata": {},
   "source": [
    "#### The purpose of this analysis is to provide an accurate forecast of Covid-19 related deaths as 2021 progresses.\n",
    "#### Our challenges are -\n",
    "#### * 1. Create multiple forecasts by creating forecasts for specific states\n",
    "#### * 2. Build a forecast for the United States as a whole\n",
    "#### * 3. Provide insights as to the urgency of making changes to how we are operating as a country"
   ]
  },
  {
   "cell_type": "markdown",
   "metadata": {},
   "source": [
    "## Table of Contents"
   ]
  },
  {
   "cell_type": "markdown",
   "metadata": {},
   "source": [
    "### Standard Libraries"
   ]
  },
  {
   "cell_type": "code",
   "execution_count": 1,
   "metadata": {},
   "outputs": [],
   "source": [
    "from tensorflow.random import set_seed\n",
    "import numpy as np\n",
    "\n",
    "set_seed(42)\n",
    "np.random.seed(42)"
   ]
  },
  {
   "cell_type": "code",
   "execution_count": 2,
   "metadata": {},
   "outputs": [],
   "source": [
    "import pandas as pd\n",
    "import matplotlib.pyplot as plt\n",
    "from matplotlib.lines import Line2D\n",
    "import matplotlib\n",
    "%matplotlib inline\n",
    "import functools\n",
    "from jupyter_plotly_dash import JupyterDash\n",
    "import datetime as dt\n",
    "from datetime import date\n",
    "from datetime import datetime, timedelta\n",
    "import pandas_datareader as pdr\n",
    "import holidays\n",
    "# import dash\n",
    "# import dash_core_components as dcc\n",
    "# import dash_html_components as html\n",
    "# from dash.dependencies import Input, Output,State\n",
    "# app = JupyterDash('our app')\n",
    "# # pio.templates\n",
    "# import plotly.express as px\n",
    "# import plotly.io as pio"
   ]
  },
  {
   "cell_type": "code",
   "execution_count": 3,
   "metadata": {},
   "outputs": [],
   "source": [
    "# import statsmodels.api as sm\n",
    "from statsmodels.tsa.statespace.tools import diff\n",
    "from statsmodels.tsa.stattools import acovf, acf, pacf, pacf_yw, pacf_ols\n",
    "from statsmodels.graphics.tsaplots import plot_acf, plot_pacf\n",
    "from statsmodels.tsa.stattools import adfuller\n",
    "from statsmodels.tools.eval_measures import mse,rmse\n",
    "from pmdarima import auto_arima\n",
    "from statsmodels.tsa.seasonal import seasonal_decompose as sd\n",
    "from statsmodels.tsa.statespace.varmax import VARMAX, VARMAXResults\n",
    "from statsmodels.tsa.ar_model import AR, ARResults\n",
    "from statsmodels.tsa.arima_model import ARMA, ARIMA, ARMAResults\n",
    "from statsmodels.tsa.statespace.sarimax import SARIMAX\n",
    "from sklearn.preprocessing import MinMaxScaler, StandardScaler\n",
    "from keras.preprocessing.sequence import TimeseriesGenerator\n",
    "from keras.models import Sequential\n",
    "from keras.layers import Dense, LSTM, Dropout\n",
    "from keras.callbacks import EarlyStopping, ReduceLROnPlateau\n",
    "from keras.callbacks import ModelCheckpoint, TensorBoard"
   ]
  },
  {
   "cell_type": "code",
   "execution_count": 4,
   "metadata": {},
   "outputs": [],
   "source": [
    "import warnings\n",
    "warnings.filterwarnings('ignore')\n",
    "import itertools\n",
    "import pandas as pd\n",
    "import numpy as np\n",
    "import statsmodels.api as sm\n",
    "import matplotlib.pyplot as plt\n",
    "from matplotlib.pylab import rcParams\n",
    "plt.style.use('ggplot')"
   ]
  },
  {
   "cell_type": "code",
   "execution_count": 5,
   "metadata": {},
   "outputs": [],
   "source": [
    "scaler = MinMaxScaler()\n",
    "standard_scaler = StandardScaler()"
   ]
  },
  {
   "cell_type": "code",
   "execution_count": 6,
   "metadata": {},
   "outputs": [],
   "source": [
    "import warnings\n",
    "warnings.filterwarnings('ignore')"
   ]
  },
  {
   "cell_type": "markdown",
   "metadata": {},
   "source": [
    "### Custom Libraries"
   ]
  },
  {
   "cell_type": "code",
   "execution_count": 8,
   "metadata": {
    "scrolled": false
   },
   "outputs": [
    {
     "name": "stdout",
     "output_type": "stream",
     "text": [
      "The autoreload extension is already loaded. To reload it, use:\n",
      "  %reload_ext autoreload\n"
     ]
    }
   ],
   "source": [
    "%load_ext autoreload\n",
    "%autoreload 2\n",
    "%reload_ext autoreload\n",
    "from Cust_Func import *"
   ]
  },
  {
   "cell_type": "markdown",
   "metadata": {},
   "source": [
    "## Explore Data"
   ]
  },
  {
   "cell_type": "markdown",
   "metadata": {},
   "source": [
    "### Create New DataFrame"
   ]
  },
  {
   "cell_type": "code",
   "execution_count": 9,
   "metadata": {},
   "outputs": [],
   "source": [
    "df_states = pd.read_csv('https://api.covidtracking.com/v1/states/daily.csv',index_col='date',parse_dates=True)\n",
    "df_whole_US = pd.read_csv('https://api.covidtracking.com/v1/us/daily.csv',index_col='date',parse_dates=True)"
   ]
  },
  {
   "cell_type": "code",
   "execution_count": 10,
   "metadata": {},
   "outputs": [
    {
     "data": {
      "text/html": [
       "<div>\n",
       "<style scoped>\n",
       "    .dataframe tbody tr th:only-of-type {\n",
       "        vertical-align: middle;\n",
       "    }\n",
       "\n",
       "    .dataframe tbody tr th {\n",
       "        vertical-align: top;\n",
       "    }\n",
       "\n",
       "    .dataframe thead th {\n",
       "        text-align: right;\n",
       "    }\n",
       "</style>\n",
       "<table border=\"1\" class=\"dataframe\">\n",
       "  <thead>\n",
       "    <tr style=\"text-align: right;\">\n",
       "      <th></th>\n",
       "      <th>state</th>\n",
       "      <th>positive</th>\n",
       "      <th>probableCases</th>\n",
       "      <th>negative</th>\n",
       "      <th>pending</th>\n",
       "      <th>totalTestResultsSource</th>\n",
       "      <th>totalTestResults</th>\n",
       "      <th>hospitalizedCurrently</th>\n",
       "      <th>hospitalizedCumulative</th>\n",
       "      <th>inIcuCurrently</th>\n",
       "      <th>...</th>\n",
       "      <th>posNeg</th>\n",
       "      <th>deathIncrease</th>\n",
       "      <th>hospitalizedIncrease</th>\n",
       "      <th>hash</th>\n",
       "      <th>commercialScore</th>\n",
       "      <th>negativeRegularScore</th>\n",
       "      <th>negativeScore</th>\n",
       "      <th>positiveScore</th>\n",
       "      <th>score</th>\n",
       "      <th>grade</th>\n",
       "    </tr>\n",
       "    <tr>\n",
       "      <th>date</th>\n",
       "      <th></th>\n",
       "      <th></th>\n",
       "      <th></th>\n",
       "      <th></th>\n",
       "      <th></th>\n",
       "      <th></th>\n",
       "      <th></th>\n",
       "      <th></th>\n",
       "      <th></th>\n",
       "      <th></th>\n",
       "      <th></th>\n",
       "      <th></th>\n",
       "      <th></th>\n",
       "      <th></th>\n",
       "      <th></th>\n",
       "      <th></th>\n",
       "      <th></th>\n",
       "      <th></th>\n",
       "      <th></th>\n",
       "      <th></th>\n",
       "      <th></th>\n",
       "    </tr>\n",
       "  </thead>\n",
       "  <tbody>\n",
       "    <tr>\n",
       "      <th>2021-02-09</th>\n",
       "      <td>AK</td>\n",
       "      <td>53809.0</td>\n",
       "      <td>NaN</td>\n",
       "      <td>NaN</td>\n",
       "      <td>NaN</td>\n",
       "      <td>totalTestsViral</td>\n",
       "      <td>1561249.0</td>\n",
       "      <td>35.0</td>\n",
       "      <td>1223.0</td>\n",
       "      <td>NaN</td>\n",
       "      <td>...</td>\n",
       "      <td>53809</td>\n",
       "      <td>1</td>\n",
       "      <td>4</td>\n",
       "      <td>7338b19efe7cde0a4058731da6a8d03d9f2b1692</td>\n",
       "      <td>0</td>\n",
       "      <td>0</td>\n",
       "      <td>0</td>\n",
       "      <td>0</td>\n",
       "      <td>0</td>\n",
       "      <td>NaN</td>\n",
       "    </tr>\n",
       "    <tr>\n",
       "      <th>2021-02-09</th>\n",
       "      <td>AL</td>\n",
       "      <td>474666.0</td>\n",
       "      <td>102040.0</td>\n",
       "      <td>1825185.0</td>\n",
       "      <td>NaN</td>\n",
       "      <td>totalTestsPeopleViral</td>\n",
       "      <td>2197811.0</td>\n",
       "      <td>1441.0</td>\n",
       "      <td>43499.0</td>\n",
       "      <td>NaN</td>\n",
       "      <td>...</td>\n",
       "      <td>2299851</td>\n",
       "      <td>56</td>\n",
       "      <td>116</td>\n",
       "      <td>86849c05f0870078849df188cb497d0998b35a82</td>\n",
       "      <td>0</td>\n",
       "      <td>0</td>\n",
       "      <td>0</td>\n",
       "      <td>0</td>\n",
       "      <td>0</td>\n",
       "      <td>NaN</td>\n",
       "    </tr>\n",
       "    <tr>\n",
       "      <th>2021-02-09</th>\n",
       "      <td>AR</td>\n",
       "      <td>308848.0</td>\n",
       "      <td>63615.0</td>\n",
       "      <td>2297201.0</td>\n",
       "      <td>NaN</td>\n",
       "      <td>totalTestsViral</td>\n",
       "      <td>2542434.0</td>\n",
       "      <td>775.0</td>\n",
       "      <td>14174.0</td>\n",
       "      <td>276.0</td>\n",
       "      <td>...</td>\n",
       "      <td>2606049</td>\n",
       "      <td>42</td>\n",
       "      <td>75</td>\n",
       "      <td>c2fb235bdee84b1b318a2d72eec7696c18656f8f</td>\n",
       "      <td>0</td>\n",
       "      <td>0</td>\n",
       "      <td>0</td>\n",
       "      <td>0</td>\n",
       "      <td>0</td>\n",
       "      <td>NaN</td>\n",
       "    </tr>\n",
       "    <tr>\n",
       "      <th>2021-02-09</th>\n",
       "      <td>AS</td>\n",
       "      <td>0.0</td>\n",
       "      <td>NaN</td>\n",
       "      <td>2140.0</td>\n",
       "      <td>NaN</td>\n",
       "      <td>totalTestsViral</td>\n",
       "      <td>2140.0</td>\n",
       "      <td>NaN</td>\n",
       "      <td>NaN</td>\n",
       "      <td>NaN</td>\n",
       "      <td>...</td>\n",
       "      <td>2140</td>\n",
       "      <td>0</td>\n",
       "      <td>0</td>\n",
       "      <td>f016b3c68f39b5aacf58a5dd90d22104c6571a5c</td>\n",
       "      <td>0</td>\n",
       "      <td>0</td>\n",
       "      <td>0</td>\n",
       "      <td>0</td>\n",
       "      <td>0</td>\n",
       "      <td>NaN</td>\n",
       "    </tr>\n",
       "    <tr>\n",
       "      <th>2021-02-09</th>\n",
       "      <td>AZ</td>\n",
       "      <td>787268.0</td>\n",
       "      <td>52032.0</td>\n",
       "      <td>2834530.0</td>\n",
       "      <td>NaN</td>\n",
       "      <td>totalTestsViral</td>\n",
       "      <td>7037126.0</td>\n",
       "      <td>2744.0</td>\n",
       "      <td>54967.0</td>\n",
       "      <td>797.0</td>\n",
       "      <td>...</td>\n",
       "      <td>3621798</td>\n",
       "      <td>231</td>\n",
       "      <td>254</td>\n",
       "      <td>2a802c72b74f4fe38062321952e3f38c90e72d9e</td>\n",
       "      <td>0</td>\n",
       "      <td>0</td>\n",
       "      <td>0</td>\n",
       "      <td>0</td>\n",
       "      <td>0</td>\n",
       "      <td>NaN</td>\n",
       "    </tr>\n",
       "  </tbody>\n",
       "</table>\n",
       "<p>5 rows × 54 columns</p>\n",
       "</div>"
      ],
      "text/plain": [
       "           state  positive  probableCases   negative  pending  \\\n",
       "date                                                            \n",
       "2021-02-09    AK   53809.0            NaN        NaN      NaN   \n",
       "2021-02-09    AL  474666.0       102040.0  1825185.0      NaN   \n",
       "2021-02-09    AR  308848.0        63615.0  2297201.0      NaN   \n",
       "2021-02-09    AS       0.0            NaN     2140.0      NaN   \n",
       "2021-02-09    AZ  787268.0        52032.0  2834530.0      NaN   \n",
       "\n",
       "           totalTestResultsSource  totalTestResults  hospitalizedCurrently  \\\n",
       "date                                                                         \n",
       "2021-02-09        totalTestsViral         1561249.0                   35.0   \n",
       "2021-02-09  totalTestsPeopleViral         2197811.0                 1441.0   \n",
       "2021-02-09        totalTestsViral         2542434.0                  775.0   \n",
       "2021-02-09        totalTestsViral            2140.0                    NaN   \n",
       "2021-02-09        totalTestsViral         7037126.0                 2744.0   \n",
       "\n",
       "            hospitalizedCumulative  inIcuCurrently  ...   posNeg  \\\n",
       "date                                                ...            \n",
       "2021-02-09                  1223.0             NaN  ...    53809   \n",
       "2021-02-09                 43499.0             NaN  ...  2299851   \n",
       "2021-02-09                 14174.0           276.0  ...  2606049   \n",
       "2021-02-09                     NaN             NaN  ...     2140   \n",
       "2021-02-09                 54967.0           797.0  ...  3621798   \n",
       "\n",
       "            deathIncrease  hospitalizedIncrease  \\\n",
       "date                                              \n",
       "2021-02-09              1                     4   \n",
       "2021-02-09             56                   116   \n",
       "2021-02-09             42                    75   \n",
       "2021-02-09              0                     0   \n",
       "2021-02-09            231                   254   \n",
       "\n",
       "                                                hash commercialScore  \\\n",
       "date                                                                   \n",
       "2021-02-09  7338b19efe7cde0a4058731da6a8d03d9f2b1692               0   \n",
       "2021-02-09  86849c05f0870078849df188cb497d0998b35a82               0   \n",
       "2021-02-09  c2fb235bdee84b1b318a2d72eec7696c18656f8f               0   \n",
       "2021-02-09  f016b3c68f39b5aacf58a5dd90d22104c6571a5c               0   \n",
       "2021-02-09  2a802c72b74f4fe38062321952e3f38c90e72d9e               0   \n",
       "\n",
       "           negativeRegularScore negativeScore positiveScore  score  grade  \n",
       "date                                                                       \n",
       "2021-02-09                    0             0             0      0    NaN  \n",
       "2021-02-09                    0             0             0      0    NaN  \n",
       "2021-02-09                    0             0             0      0    NaN  \n",
       "2021-02-09                    0             0             0      0    NaN  \n",
       "2021-02-09                    0             0             0      0    NaN  \n",
       "\n",
       "[5 rows x 54 columns]"
      ]
     },
     "execution_count": 10,
     "metadata": {},
     "output_type": "execute_result"
    }
   ],
   "source": [
    "df_states.head()"
   ]
  },
  {
   "cell_type": "code",
   "execution_count": 11,
   "metadata": {
    "scrolled": true
   },
   "outputs": [
    {
     "name": "stdout",
     "output_type": "stream",
     "text": [
      "<class 'pandas.core.frame.DataFrame'>\n",
      "DatetimeIndex: 19317 entries, 2021-02-09 to 2020-01-13\n",
      "Data columns (total 54 columns):\n",
      " #   Column                       Non-Null Count  Dtype  \n",
      "---  ------                       --------------  -----  \n",
      " 0   state                        19317 non-null  object \n",
      " 1   positive                     19128 non-null  float64\n",
      " 2   probableCases                8282 non-null   float64\n",
      " 3   negative                     15379 non-null  float64\n",
      " 4   pending                      2009 non-null   float64\n",
      " 5   totalTestResultsSource       19317 non-null  object \n",
      " 6   totalTestResults             19215 non-null  float64\n",
      " 7   hospitalizedCurrently        15960 non-null  float64\n",
      " 8   hospitalizedCumulative       11903 non-null  float64\n",
      " 9   inIcuCurrently               10442 non-null  float64\n",
      " 10  inIcuCumulative              3480 non-null   float64\n",
      " 11  onVentilatorCurrently        8290 non-null   float64\n",
      " 12  onVentilatorCumulative       1189 non-null   float64\n",
      " 13  recovered                    13860 non-null  float64\n",
      " 14  dataQualityGrade             17983 non-null  object \n",
      " 15  lastUpdateEt                 18734 non-null  object \n",
      " 16  dateModified                 18734 non-null  object \n",
      " 17  checkTimeEt                  18734 non-null  object \n",
      " 18  death                        18446 non-null  float64\n",
      " 19  hospitalized                 11903 non-null  float64\n",
      " 20  dateChecked                  18734 non-null  object \n",
      " 21  totalTestsViral              12785 non-null  float64\n",
      " 22  positiveTestsViral           7424 non-null   float64\n",
      " 23  negativeTestsViral           4447 non-null   float64\n",
      " 24  positiveCasesViral           13542 non-null  float64\n",
      " 25  deathConfirmed               8987 non-null   float64\n",
      " 26  deathProbable                6871 non-null   float64\n",
      " 27  totalTestEncountersViral     4867 non-null   float64\n",
      " 28  totalTestsPeopleViral        8526 non-null   float64\n",
      " 29  totalTestsAntibody           4366 non-null   float64\n",
      " 30  positiveTestsAntibody        3356 non-null   float64\n",
      " 31  negativeTestsAntibody        1385 non-null   float64\n",
      " 32  totalTestsPeopleAntibody     1713 non-null   float64\n",
      " 33  positiveTestsPeopleAntibody  990 non-null    float64\n",
      " 34  negativeTestsPeopleAntibody  894 non-null    float64\n",
      " 35  totalTestsPeopleAntigen      869 non-null    float64\n",
      " 36  positiveTestsPeopleAntigen   555 non-null    float64\n",
      " 37  totalTestsAntigen            2868 non-null   float64\n",
      " 38  positiveTestsAntigen         1886 non-null   float64\n",
      " 39  fips                         19317 non-null  int64  \n",
      " 40  positiveIncrease             19317 non-null  int64  \n",
      " 41  negativeIncrease             19317 non-null  int64  \n",
      " 42  total                        19317 non-null  int64  \n",
      " 43  totalTestResultsIncrease     19317 non-null  int64  \n",
      " 44  posNeg                       19317 non-null  int64  \n",
      " 45  deathIncrease                19317 non-null  int64  \n",
      " 46  hospitalizedIncrease         19317 non-null  int64  \n",
      " 47  hash                         19317 non-null  object \n",
      " 48  commercialScore              19317 non-null  int64  \n",
      " 49  negativeRegularScore         19317 non-null  int64  \n",
      " 50  negativeScore                19317 non-null  int64  \n",
      " 51  positiveScore                19317 non-null  int64  \n",
      " 52  score                        19317 non-null  int64  \n",
      " 53  grade                        0 non-null      float64\n",
      "dtypes: float64(33), int64(13), object(8)\n",
      "memory usage: 8.1+ MB\n"
     ]
    }
   ],
   "source": [
    "df_states.info()"
   ]
  },
  {
   "cell_type": "code",
   "execution_count": 12,
   "metadata": {},
   "outputs": [
    {
     "data": {
      "text/html": [
       "<div>\n",
       "<style scoped>\n",
       "    .dataframe tbody tr th:only-of-type {\n",
       "        vertical-align: middle;\n",
       "    }\n",
       "\n",
       "    .dataframe tbody tr th {\n",
       "        vertical-align: top;\n",
       "    }\n",
       "\n",
       "    .dataframe thead th {\n",
       "        text-align: right;\n",
       "    }\n",
       "</style>\n",
       "<table border=\"1\" class=\"dataframe\">\n",
       "  <thead>\n",
       "    <tr style=\"text-align: right;\">\n",
       "      <th></th>\n",
       "      <th>states</th>\n",
       "      <th>positive</th>\n",
       "      <th>negative</th>\n",
       "      <th>pending</th>\n",
       "      <th>hospitalizedCurrently</th>\n",
       "      <th>hospitalizedCumulative</th>\n",
       "      <th>inIcuCurrently</th>\n",
       "      <th>inIcuCumulative</th>\n",
       "      <th>onVentilatorCurrently</th>\n",
       "      <th>onVentilatorCumulative</th>\n",
       "      <th>...</th>\n",
       "      <th>lastModified</th>\n",
       "      <th>recovered</th>\n",
       "      <th>total</th>\n",
       "      <th>posNeg</th>\n",
       "      <th>deathIncrease</th>\n",
       "      <th>hospitalizedIncrease</th>\n",
       "      <th>negativeIncrease</th>\n",
       "      <th>positiveIncrease</th>\n",
       "      <th>totalTestResultsIncrease</th>\n",
       "      <th>hash</th>\n",
       "    </tr>\n",
       "    <tr>\n",
       "      <th>date</th>\n",
       "      <th></th>\n",
       "      <th></th>\n",
       "      <th></th>\n",
       "      <th></th>\n",
       "      <th></th>\n",
       "      <th></th>\n",
       "      <th></th>\n",
       "      <th></th>\n",
       "      <th></th>\n",
       "      <th></th>\n",
       "      <th></th>\n",
       "      <th></th>\n",
       "      <th></th>\n",
       "      <th></th>\n",
       "      <th></th>\n",
       "      <th></th>\n",
       "      <th></th>\n",
       "      <th></th>\n",
       "      <th></th>\n",
       "      <th></th>\n",
       "      <th></th>\n",
       "    </tr>\n",
       "  </thead>\n",
       "  <tbody>\n",
       "    <tr>\n",
       "      <th>2021-02-09</th>\n",
       "      <td>56</td>\n",
       "      <td>26968049.0</td>\n",
       "      <td>125324107.0</td>\n",
       "      <td>10516.0</td>\n",
       "      <td>79179.0</td>\n",
       "      <td>831088.0</td>\n",
       "      <td>16129.0</td>\n",
       "      <td>43000.0</td>\n",
       "      <td>5216.0</td>\n",
       "      <td>4092.0</td>\n",
       "      <td>...</td>\n",
       "      <td>2021-02-09T24:00:00Z</td>\n",
       "      <td>NaN</td>\n",
       "      <td>0</td>\n",
       "      <td>0</td>\n",
       "      <td>2795</td>\n",
       "      <td>3144</td>\n",
       "      <td>544215</td>\n",
       "      <td>92986</td>\n",
       "      <td>1611368</td>\n",
       "      <td>acb0551c7e583fceb1c856f410ec6fb9ffe7499d</td>\n",
       "    </tr>\n",
       "    <tr>\n",
       "      <th>2021-02-08</th>\n",
       "      <td>56</td>\n",
       "      <td>26875063.0</td>\n",
       "      <td>124779892.0</td>\n",
       "      <td>12114.0</td>\n",
       "      <td>80055.0</td>\n",
       "      <td>827944.0</td>\n",
       "      <td>16174.0</td>\n",
       "      <td>42833.0</td>\n",
       "      <td>5260.0</td>\n",
       "      <td>4080.0</td>\n",
       "      <td>...</td>\n",
       "      <td>2021-02-08T24:00:00Z</td>\n",
       "      <td>NaN</td>\n",
       "      <td>0</td>\n",
       "      <td>0</td>\n",
       "      <td>1309</td>\n",
       "      <td>1638</td>\n",
       "      <td>4866739</td>\n",
       "      <td>77737</td>\n",
       "      <td>1434298</td>\n",
       "      <td>fe5eb3c282fee2b8fa0cacce8bc9497711b286db</td>\n",
       "    </tr>\n",
       "    <tr>\n",
       "      <th>2021-02-07</th>\n",
       "      <td>56</td>\n",
       "      <td>26797326.0</td>\n",
       "      <td>119913153.0</td>\n",
       "      <td>12061.0</td>\n",
       "      <td>81439.0</td>\n",
       "      <td>826306.0</td>\n",
       "      <td>16616.0</td>\n",
       "      <td>42779.0</td>\n",
       "      <td>5342.0</td>\n",
       "      <td>4079.0</td>\n",
       "      <td>...</td>\n",
       "      <td>2021-02-07T24:00:00Z</td>\n",
       "      <td>NaN</td>\n",
       "      <td>0</td>\n",
       "      <td>0</td>\n",
       "      <td>1475</td>\n",
       "      <td>1543</td>\n",
       "      <td>393480</td>\n",
       "      <td>95994</td>\n",
       "      <td>1498467</td>\n",
       "      <td>652854f6dbc5adcea89dd9eb3338eba0c155b458</td>\n",
       "    </tr>\n",
       "    <tr>\n",
       "      <th>2021-02-06</th>\n",
       "      <td>56</td>\n",
       "      <td>26701332.0</td>\n",
       "      <td>119519673.0</td>\n",
       "      <td>12070.0</td>\n",
       "      <td>84233.0</td>\n",
       "      <td>824763.0</td>\n",
       "      <td>17093.0</td>\n",
       "      <td>42730.0</td>\n",
       "      <td>5475.0</td>\n",
       "      <td>4078.0</td>\n",
       "      <td>...</td>\n",
       "      <td>2021-02-06T24:00:00Z</td>\n",
       "      <td>NaN</td>\n",
       "      <td>0</td>\n",
       "      <td>0</td>\n",
       "      <td>2994</td>\n",
       "      <td>2443</td>\n",
       "      <td>518729</td>\n",
       "      <td>114557</td>\n",
       "      <td>1881694</td>\n",
       "      <td>049e3795a89dd7b777094aaecc923ed916ea3aee</td>\n",
       "    </tr>\n",
       "    <tr>\n",
       "      <th>2021-02-05</th>\n",
       "      <td>56</td>\n",
       "      <td>26586775.0</td>\n",
       "      <td>119000944.0</td>\n",
       "      <td>11546.0</td>\n",
       "      <td>86373.0</td>\n",
       "      <td>822320.0</td>\n",
       "      <td>17284.0</td>\n",
       "      <td>42626.0</td>\n",
       "      <td>5596.0</td>\n",
       "      <td>4060.0</td>\n",
       "      <td>...</td>\n",
       "      <td>2021-02-05T24:00:00Z</td>\n",
       "      <td>NaN</td>\n",
       "      <td>0</td>\n",
       "      <td>0</td>\n",
       "      <td>3543</td>\n",
       "      <td>2940</td>\n",
       "      <td>595505</td>\n",
       "      <td>131146</td>\n",
       "      <td>1879114</td>\n",
       "      <td>ea7540de670c42935d25446d48c71a2c399f58b0</td>\n",
       "    </tr>\n",
       "  </tbody>\n",
       "</table>\n",
       "<p>5 rows × 24 columns</p>\n",
       "</div>"
      ],
      "text/plain": [
       "            states    positive     negative  pending  hospitalizedCurrently  \\\n",
       "date                                                                          \n",
       "2021-02-09      56  26968049.0  125324107.0  10516.0                79179.0   \n",
       "2021-02-08      56  26875063.0  124779892.0  12114.0                80055.0   \n",
       "2021-02-07      56  26797326.0  119913153.0  12061.0                81439.0   \n",
       "2021-02-06      56  26701332.0  119519673.0  12070.0                84233.0   \n",
       "2021-02-05      56  26586775.0  119000944.0  11546.0                86373.0   \n",
       "\n",
       "            hospitalizedCumulative  inIcuCurrently  inIcuCumulative  \\\n",
       "date                                                                  \n",
       "2021-02-09                831088.0         16129.0          43000.0   \n",
       "2021-02-08                827944.0         16174.0          42833.0   \n",
       "2021-02-07                826306.0         16616.0          42779.0   \n",
       "2021-02-06                824763.0         17093.0          42730.0   \n",
       "2021-02-05                822320.0         17284.0          42626.0   \n",
       "\n",
       "            onVentilatorCurrently  onVentilatorCumulative  ...  \\\n",
       "date                                                       ...   \n",
       "2021-02-09                 5216.0                  4092.0  ...   \n",
       "2021-02-08                 5260.0                  4080.0  ...   \n",
       "2021-02-07                 5342.0                  4079.0  ...   \n",
       "2021-02-06                 5475.0                  4078.0  ...   \n",
       "2021-02-05                 5596.0                  4060.0  ...   \n",
       "\n",
       "                    lastModified  recovered  total  posNeg deathIncrease  \\\n",
       "date                                                                       \n",
       "2021-02-09  2021-02-09T24:00:00Z        NaN      0       0          2795   \n",
       "2021-02-08  2021-02-08T24:00:00Z        NaN      0       0          1309   \n",
       "2021-02-07  2021-02-07T24:00:00Z        NaN      0       0          1475   \n",
       "2021-02-06  2021-02-06T24:00:00Z        NaN      0       0          2994   \n",
       "2021-02-05  2021-02-05T24:00:00Z        NaN      0       0          3543   \n",
       "\n",
       "            hospitalizedIncrease  negativeIncrease  positiveIncrease  \\\n",
       "date                                                                   \n",
       "2021-02-09                  3144            544215             92986   \n",
       "2021-02-08                  1638           4866739             77737   \n",
       "2021-02-07                  1543            393480             95994   \n",
       "2021-02-06                  2443            518729            114557   \n",
       "2021-02-05                  2940            595505            131146   \n",
       "\n",
       "            totalTestResultsIncrease                                      hash  \n",
       "date                                                                            \n",
       "2021-02-09                   1611368  acb0551c7e583fceb1c856f410ec6fb9ffe7499d  \n",
       "2021-02-08                   1434298  fe5eb3c282fee2b8fa0cacce8bc9497711b286db  \n",
       "2021-02-07                   1498467  652854f6dbc5adcea89dd9eb3338eba0c155b458  \n",
       "2021-02-06                   1881694  049e3795a89dd7b777094aaecc923ed916ea3aee  \n",
       "2021-02-05                   1879114  ea7540de670c42935d25446d48c71a2c399f58b0  \n",
       "\n",
       "[5 rows x 24 columns]"
      ]
     },
     "execution_count": 12,
     "metadata": {},
     "output_type": "execute_result"
    }
   ],
   "source": [
    "df_whole_US.head()"
   ]
  },
  {
   "cell_type": "markdown",
   "metadata": {},
   "source": [
    "### Plot of Ventilators and Deaths for Each State"
   ]
  },
  {
   "cell_type": "code",
   "execution_count": 13,
   "metadata": {
    "scrolled": false
   },
   "outputs": [
    {
     "data": {
      "text/plain": [
       "<bound method Index.unique of Index(['state', 'positive', 'probableCases', 'negative', 'pending',\n",
       "       'totalTestResultsSource', 'totalTestResults', 'hospitalizedCurrently',\n",
       "       'hospitalizedCumulative', 'inIcuCurrently', 'inIcuCumulative',\n",
       "       'onVentilatorCurrently', 'onVentilatorCumulative', 'recovered',\n",
       "       'dataQualityGrade', 'lastUpdateEt', 'dateModified', 'checkTimeEt',\n",
       "       'death', 'hospitalized', 'dateChecked', 'totalTestsViral',\n",
       "       'positiveTestsViral', 'negativeTestsViral', 'positiveCasesViral',\n",
       "       'deathConfirmed', 'deathProbable', 'totalTestEncountersViral',\n",
       "       'totalTestsPeopleViral', 'totalTestsAntibody', 'positiveTestsAntibody',\n",
       "       'negativeTestsAntibody', 'totalTestsPeopleAntibody',\n",
       "       'positiveTestsPeopleAntibody', 'negativeTestsPeopleAntibody',\n",
       "       'totalTestsPeopleAntigen', 'positiveTestsPeopleAntigen',\n",
       "       'totalTestsAntigen', 'positiveTestsAntigen', 'fips', 'positiveIncrease',\n",
       "       'negativeIncrease', 'total', 'totalTestResultsIncrease', 'posNeg',\n",
       "       'deathIncrease', 'hospitalizedIncrease', 'hash', 'commercialScore',\n",
       "       'negativeRegularScore', 'negativeScore', 'positiveScore', 'score',\n",
       "       'grade'],\n",
       "      dtype='object')>"
      ]
     },
     "execution_count": 13,
     "metadata": {},
     "output_type": "execute_result"
    }
   ],
   "source": [
    "df_states.columns.unique"
   ]
  },
  {
   "cell_type": "code",
   "execution_count": 14,
   "metadata": {
    "scrolled": true
   },
   "outputs": [
    {
     "data": {
      "text/plain": [
       "state                              0\n",
       "positive                         189\n",
       "probableCases                  11035\n",
       "negative                        3938\n",
       "pending                        17308\n",
       "totalTestResultsSource             0\n",
       "totalTestResults                 102\n",
       "hospitalizedCurrently           3357\n",
       "hospitalizedCumulative          7414\n",
       "inIcuCurrently                  8875\n",
       "inIcuCumulative                15837\n",
       "onVentilatorCurrently          11027\n",
       "onVentilatorCumulative         18128\n",
       "recovered                       5457\n",
       "dataQualityGrade                1334\n",
       "lastUpdateEt                     583\n",
       "dateModified                     583\n",
       "checkTimeEt                      583\n",
       "death                            871\n",
       "hospitalized                    7414\n",
       "dateChecked                      583\n",
       "totalTestsViral                 6532\n",
       "positiveTestsViral             11893\n",
       "negativeTestsViral             14870\n",
       "positiveCasesViral              5775\n",
       "deathConfirmed                 10330\n",
       "deathProbable                  12446\n",
       "totalTestEncountersViral       14450\n",
       "totalTestsPeopleViral          10791\n",
       "totalTestsAntibody             14951\n",
       "positiveTestsAntibody          15961\n",
       "negativeTestsAntibody          17932\n",
       "totalTestsPeopleAntibody       17604\n",
       "positiveTestsPeopleAntibody    18327\n",
       "negativeTestsPeopleAntibody    18423\n",
       "totalTestsPeopleAntigen        18448\n",
       "positiveTestsPeopleAntigen     18762\n",
       "totalTestsAntigen              16449\n",
       "positiveTestsAntigen           17431\n",
       "fips                               0\n",
       "positiveIncrease                   0\n",
       "negativeIncrease                   0\n",
       "total                              0\n",
       "totalTestResultsIncrease           0\n",
       "posNeg                             0\n",
       "deathIncrease                      0\n",
       "hospitalizedIncrease               0\n",
       "hash                               0\n",
       "commercialScore                    0\n",
       "negativeRegularScore               0\n",
       "negativeScore                      0\n",
       "positiveScore                      0\n",
       "score                              0\n",
       "grade                          19317\n",
       "dtype: int64"
      ]
     },
     "execution_count": 14,
     "metadata": {},
     "output_type": "execute_result"
    }
   ],
   "source": [
    "df_states.isnull().sum()"
   ]
  },
  {
   "cell_type": "code",
   "execution_count": 15,
   "metadata": {},
   "outputs": [],
   "source": [
    "df_states['death'] = df_states['death'].fillna(0) # nan values for death counts are from early 2020 when there were no deaths\n",
    "df_states['onVentilatorCurrently'] = df_states['onVentilatorCurrently'].fillna(0) # same for onVentilatorCurrently column"
   ]
  },
  {
   "cell_type": "code",
   "execution_count": 16,
   "metadata": {},
   "outputs": [],
   "source": [
    "# columns to keep in dataframe\n",
    "columns = ['state','death','inIcuCurrently','onVentilatorCurrently','positive','hospitalizedCurrently']"
   ]
  },
  {
   "cell_type": "code",
   "execution_count": 17,
   "metadata": {
    "scrolled": true
   },
   "outputs": [],
   "source": [
    "df_states = sort_and_clean_df(df_states, .05, target_columns=columns)"
   ]
  },
  {
   "cell_type": "code",
   "execution_count": 18,
   "metadata": {
    "scrolled": true
   },
   "outputs": [
    {
     "data": {
      "text/html": [
       "<div>\n",
       "<style scoped>\n",
       "    .dataframe tbody tr th:only-of-type {\n",
       "        vertical-align: middle;\n",
       "    }\n",
       "\n",
       "    .dataframe tbody tr th {\n",
       "        vertical-align: top;\n",
       "    }\n",
       "\n",
       "    .dataframe thead th {\n",
       "        text-align: right;\n",
       "    }\n",
       "</style>\n",
       "<table border=\"1\" class=\"dataframe\">\n",
       "  <thead>\n",
       "    <tr style=\"text-align: right;\">\n",
       "      <th></th>\n",
       "      <th>state</th>\n",
       "      <th>death</th>\n",
       "      <th>onVentilatorCurrently</th>\n",
       "      <th>positive</th>\n",
       "    </tr>\n",
       "    <tr>\n",
       "      <th>date</th>\n",
       "      <th></th>\n",
       "      <th></th>\n",
       "      <th></th>\n",
       "      <th></th>\n",
       "    </tr>\n",
       "  </thead>\n",
       "  <tbody>\n",
       "    <tr>\n",
       "      <th>2021-02-09</th>\n",
       "      <td>CA</td>\n",
       "      <td>44477.0</td>\n",
       "      <td>0.0</td>\n",
       "      <td>3354591.0</td>\n",
       "    </tr>\n",
       "    <tr>\n",
       "      <th>2021-02-09</th>\n",
       "      <td>TX</td>\n",
       "      <td>39001.0</td>\n",
       "      <td>0.0</td>\n",
       "      <td>2504556.0</td>\n",
       "    </tr>\n",
       "    <tr>\n",
       "      <th>2021-02-09</th>\n",
       "      <td>NY</td>\n",
       "      <td>36481.0</td>\n",
       "      <td>971.0</td>\n",
       "      <td>1487086.0</td>\n",
       "    </tr>\n",
       "    <tr>\n",
       "      <th>2021-02-09</th>\n",
       "      <td>FL</td>\n",
       "      <td>28526.0</td>\n",
       "      <td>0.0</td>\n",
       "      <td>1758254.0</td>\n",
       "    </tr>\n",
       "    <tr>\n",
       "      <th>2021-02-09</th>\n",
       "      <td>PA</td>\n",
       "      <td>22620.0</td>\n",
       "      <td>304.0</td>\n",
       "      <td>876913.0</td>\n",
       "    </tr>\n",
       "    <tr>\n",
       "      <th>2021-02-09</th>\n",
       "      <td>NJ</td>\n",
       "      <td>22103.0</td>\n",
       "      <td>360.0</td>\n",
       "      <td>728304.0</td>\n",
       "    </tr>\n",
       "    <tr>\n",
       "      <th>2021-02-09</th>\n",
       "      <td>IL</td>\n",
       "      <td>21802.0</td>\n",
       "      <td>240.0</td>\n",
       "      <td>1150170.0</td>\n",
       "    </tr>\n",
       "    <tr>\n",
       "      <th>2021-02-09</th>\n",
       "      <td>MI</td>\n",
       "      <td>15925.0</td>\n",
       "      <td>149.0</td>\n",
       "      <td>623731.0</td>\n",
       "    </tr>\n",
       "    <tr>\n",
       "      <th>2021-02-09</th>\n",
       "      <td>GA</td>\n",
       "      <td>15301.0</td>\n",
       "      <td>0.0</td>\n",
       "      <td>947416.0</td>\n",
       "    </tr>\n",
       "    <tr>\n",
       "      <th>2021-02-09</th>\n",
       "      <td>MA</td>\n",
       "      <td>15124.0</td>\n",
       "      <td>191.0</td>\n",
       "      <td>546896.0</td>\n",
       "    </tr>\n",
       "    <tr>\n",
       "      <th>2021-02-09</th>\n",
       "      <td>AZ</td>\n",
       "      <td>14286.0</td>\n",
       "      <td>524.0</td>\n",
       "      <td>787268.0</td>\n",
       "    </tr>\n",
       "    <tr>\n",
       "      <th>2021-02-09</th>\n",
       "      <td>IN</td>\n",
       "      <td>11942.0</td>\n",
       "      <td>142.0</td>\n",
       "      <td>641874.0</td>\n",
       "    </tr>\n",
       "    <tr>\n",
       "      <th>2021-02-09</th>\n",
       "      <td>OH</td>\n",
       "      <td>11793.0</td>\n",
       "      <td>340.0</td>\n",
       "      <td>925350.0</td>\n",
       "    </tr>\n",
       "    <tr>\n",
       "      <th>2021-02-09</th>\n",
       "      <td>TN</td>\n",
       "      <td>10631.0</td>\n",
       "      <td>220.0</td>\n",
       "      <td>747462.0</td>\n",
       "    </tr>\n",
       "    <tr>\n",
       "      <th>2021-02-09</th>\n",
       "      <td>NC</td>\n",
       "      <td>10046.0</td>\n",
       "      <td>0.0</td>\n",
       "      <td>802065.0</td>\n",
       "    </tr>\n",
       "    <tr>\n",
       "      <th>2021-02-09</th>\n",
       "      <td>LA</td>\n",
       "      <td>9162.0</td>\n",
       "      <td>151.0</td>\n",
       "      <td>414354.0</td>\n",
       "    </tr>\n",
       "    <tr>\n",
       "      <th>2021-02-09</th>\n",
       "      <td>AL</td>\n",
       "      <td>8579.0</td>\n",
       "      <td>0.0</td>\n",
       "      <td>474666.0</td>\n",
       "    </tr>\n",
       "    <tr>\n",
       "      <th>2021-02-09</th>\n",
       "      <td>SC</td>\n",
       "      <td>7693.0</td>\n",
       "      <td>208.0</td>\n",
       "      <td>470311.0</td>\n",
       "    </tr>\n",
       "    <tr>\n",
       "      <th>2021-02-09</th>\n",
       "      <td>MD</td>\n",
       "      <td>7413.0</td>\n",
       "      <td>0.0</td>\n",
       "      <td>365529.0</td>\n",
       "    </tr>\n",
       "    <tr>\n",
       "      <th>2021-02-09</th>\n",
       "      <td>CT</td>\n",
       "      <td>7298.0</td>\n",
       "      <td>0.0</td>\n",
       "      <td>264608.0</td>\n",
       "    </tr>\n",
       "    <tr>\n",
       "      <th>2021-02-09</th>\n",
       "      <td>MO</td>\n",
       "      <td>7149.0</td>\n",
       "      <td>188.0</td>\n",
       "      <td>467313.0</td>\n",
       "    </tr>\n",
       "    <tr>\n",
       "      <th>2021-02-09</th>\n",
       "      <td>VA</td>\n",
       "      <td>6898.0</td>\n",
       "      <td>290.0</td>\n",
       "      <td>534116.0</td>\n",
       "    </tr>\n",
       "    <tr>\n",
       "      <th>2021-02-09</th>\n",
       "      <td>MS</td>\n",
       "      <td>6342.0</td>\n",
       "      <td>127.0</td>\n",
       "      <td>282969.0</td>\n",
       "    </tr>\n",
       "    <tr>\n",
       "      <th>2021-02-09</th>\n",
       "      <td>MN</td>\n",
       "      <td>6308.0</td>\n",
       "      <td>0.0</td>\n",
       "      <td>469254.0</td>\n",
       "    </tr>\n",
       "    <tr>\n",
       "      <th>2021-02-09</th>\n",
       "      <td>CO</td>\n",
       "      <td>5746.0</td>\n",
       "      <td>0.0</td>\n",
       "      <td>407210.0</td>\n",
       "    </tr>\n",
       "    <tr>\n",
       "      <th>2021-02-09</th>\n",
       "      <td>AR</td>\n",
       "      <td>5148.0</td>\n",
       "      <td>137.0</td>\n",
       "      <td>308848.0</td>\n",
       "    </tr>\n",
       "    <tr>\n",
       "      <th>2021-02-09</th>\n",
       "      <td>IA</td>\n",
       "      <td>5145.0</td>\n",
       "      <td>29.0</td>\n",
       "      <td>272103.0</td>\n",
       "    </tr>\n",
       "    <tr>\n",
       "      <th>2021-02-09</th>\n",
       "      <td>NV</td>\n",
       "      <td>4559.0</td>\n",
       "      <td>151.0</td>\n",
       "      <td>285136.0</td>\n",
       "    </tr>\n",
       "    <tr>\n",
       "      <th>2021-02-09</th>\n",
       "      <td>KS</td>\n",
       "      <td>4197.0</td>\n",
       "      <td>39.0</td>\n",
       "      <td>282960.0</td>\n",
       "    </tr>\n",
       "    <tr>\n",
       "      <th>2021-02-09</th>\n",
       "      <td>KY</td>\n",
       "      <td>4126.0</td>\n",
       "      <td>148.0</td>\n",
       "      <td>381121.0</td>\n",
       "    </tr>\n",
       "    <tr>\n",
       "      <th>2021-02-09</th>\n",
       "      <td>OK</td>\n",
       "      <td>3870.0</td>\n",
       "      <td>0.0</td>\n",
       "      <td>406064.0</td>\n",
       "    </tr>\n",
       "    <tr>\n",
       "      <th>2021-02-09</th>\n",
       "      <td>NM</td>\n",
       "      <td>3430.0</td>\n",
       "      <td>0.0</td>\n",
       "      <td>178280.0</td>\n",
       "    </tr>\n",
       "    <tr>\n",
       "      <th>2021-02-09</th>\n",
       "      <td>RI</td>\n",
       "      <td>2248.0</td>\n",
       "      <td>20.0</td>\n",
       "      <td>119434.0</td>\n",
       "    </tr>\n",
       "    <tr>\n",
       "      <th>2021-02-09</th>\n",
       "      <td>OR</td>\n",
       "      <td>2024.0</td>\n",
       "      <td>29.0</td>\n",
       "      <td>147419.0</td>\n",
       "    </tr>\n",
       "    <tr>\n",
       "      <th>2021-02-09</th>\n",
       "      <td>NE</td>\n",
       "      <td>1978.0</td>\n",
       "      <td>0.0</td>\n",
       "      <td>194170.0</td>\n",
       "    </tr>\n",
       "    <tr>\n",
       "      <th>2021-02-09</th>\n",
       "      <td>PR</td>\n",
       "      <td>1893.0</td>\n",
       "      <td>38.0</td>\n",
       "      <td>96402.0</td>\n",
       "    </tr>\n",
       "    <tr>\n",
       "      <th>2021-02-09</th>\n",
       "      <td>SD</td>\n",
       "      <td>1809.0</td>\n",
       "      <td>13.0</td>\n",
       "      <td>109405.0</td>\n",
       "    </tr>\n",
       "    <tr>\n",
       "      <th>2021-02-09</th>\n",
       "      <td>ID</td>\n",
       "      <td>1776.0</td>\n",
       "      <td>0.0</td>\n",
       "      <td>165658.0</td>\n",
       "    </tr>\n",
       "    <tr>\n",
       "      <th>2021-02-09</th>\n",
       "      <td>UT</td>\n",
       "      <td>1748.0</td>\n",
       "      <td>0.0</td>\n",
       "      <td>356040.0</td>\n",
       "    </tr>\n",
       "    <tr>\n",
       "      <th>2021-02-09</th>\n",
       "      <td>ND</td>\n",
       "      <td>1457.0</td>\n",
       "      <td>0.0</td>\n",
       "      <td>98175.0</td>\n",
       "    </tr>\n",
       "    <tr>\n",
       "      <th>2021-02-09</th>\n",
       "      <td>MT</td>\n",
       "      <td>1315.0</td>\n",
       "      <td>14.0</td>\n",
       "      <td>96288.0</td>\n",
       "    </tr>\n",
       "    <tr>\n",
       "      <th>2021-02-09</th>\n",
       "      <td>DE</td>\n",
       "      <td>1221.0</td>\n",
       "      <td>0.0</td>\n",
       "      <td>81210.0</td>\n",
       "    </tr>\n",
       "    <tr>\n",
       "      <th>2021-02-09</th>\n",
       "      <td>NH</td>\n",
       "      <td>1109.0</td>\n",
       "      <td>0.0</td>\n",
       "      <td>68918.0</td>\n",
       "    </tr>\n",
       "    <tr>\n",
       "      <th>2021-02-09</th>\n",
       "      <td>DC</td>\n",
       "      <td>961.0</td>\n",
       "      <td>31.0</td>\n",
       "      <td>38281.0</td>\n",
       "    </tr>\n",
       "    <tr>\n",
       "      <th>2021-02-09</th>\n",
       "      <td>ME</td>\n",
       "      <td>639.0</td>\n",
       "      <td>13.0</td>\n",
       "      <td>41630.0</td>\n",
       "    </tr>\n",
       "    <tr>\n",
       "      <th>2021-02-09</th>\n",
       "      <td>HI</td>\n",
       "      <td>418.0</td>\n",
       "      <td>12.0</td>\n",
       "      <td>27226.0</td>\n",
       "    </tr>\n",
       "    <tr>\n",
       "      <th>2021-02-09</th>\n",
       "      <td>AK</td>\n",
       "      <td>280.0</td>\n",
       "      <td>6.0</td>\n",
       "      <td>53809.0</td>\n",
       "    </tr>\n",
       "    <tr>\n",
       "      <th>2021-02-09</th>\n",
       "      <td>GU</td>\n",
       "      <td>130.0</td>\n",
       "      <td>3.0</td>\n",
       "      <td>7673.0</td>\n",
       "    </tr>\n",
       "    <tr>\n",
       "      <th>2021-02-09</th>\n",
       "      <td>MP</td>\n",
       "      <td>2.0</td>\n",
       "      <td>0.0</td>\n",
       "      <td>133.0</td>\n",
       "    </tr>\n",
       "    <tr>\n",
       "      <th>2021-02-09</th>\n",
       "      <td>AS</td>\n",
       "      <td>0.0</td>\n",
       "      <td>0.0</td>\n",
       "      <td>0.0</td>\n",
       "    </tr>\n",
       "  </tbody>\n",
       "</table>\n",
       "</div>"
      ],
      "text/plain": [
       "           state    death  onVentilatorCurrently   positive\n",
       "date                                                       \n",
       "2021-02-09    CA  44477.0                    0.0  3354591.0\n",
       "2021-02-09    TX  39001.0                    0.0  2504556.0\n",
       "2021-02-09    NY  36481.0                  971.0  1487086.0\n",
       "2021-02-09    FL  28526.0                    0.0  1758254.0\n",
       "2021-02-09    PA  22620.0                  304.0   876913.0\n",
       "2021-02-09    NJ  22103.0                  360.0   728304.0\n",
       "2021-02-09    IL  21802.0                  240.0  1150170.0\n",
       "2021-02-09    MI  15925.0                  149.0   623731.0\n",
       "2021-02-09    GA  15301.0                    0.0   947416.0\n",
       "2021-02-09    MA  15124.0                  191.0   546896.0\n",
       "2021-02-09    AZ  14286.0                  524.0   787268.0\n",
       "2021-02-09    IN  11942.0                  142.0   641874.0\n",
       "2021-02-09    OH  11793.0                  340.0   925350.0\n",
       "2021-02-09    TN  10631.0                  220.0   747462.0\n",
       "2021-02-09    NC  10046.0                    0.0   802065.0\n",
       "2021-02-09    LA   9162.0                  151.0   414354.0\n",
       "2021-02-09    AL   8579.0                    0.0   474666.0\n",
       "2021-02-09    SC   7693.0                  208.0   470311.0\n",
       "2021-02-09    MD   7413.0                    0.0   365529.0\n",
       "2021-02-09    CT   7298.0                    0.0   264608.0\n",
       "2021-02-09    MO   7149.0                  188.0   467313.0\n",
       "2021-02-09    VA   6898.0                  290.0   534116.0\n",
       "2021-02-09    MS   6342.0                  127.0   282969.0\n",
       "2021-02-09    MN   6308.0                    0.0   469254.0\n",
       "2021-02-09    CO   5746.0                    0.0   407210.0\n",
       "2021-02-09    AR   5148.0                  137.0   308848.0\n",
       "2021-02-09    IA   5145.0                   29.0   272103.0\n",
       "2021-02-09    NV   4559.0                  151.0   285136.0\n",
       "2021-02-09    KS   4197.0                   39.0   282960.0\n",
       "2021-02-09    KY   4126.0                  148.0   381121.0\n",
       "2021-02-09    OK   3870.0                    0.0   406064.0\n",
       "2021-02-09    NM   3430.0                    0.0   178280.0\n",
       "2021-02-09    RI   2248.0                   20.0   119434.0\n",
       "2021-02-09    OR   2024.0                   29.0   147419.0\n",
       "2021-02-09    NE   1978.0                    0.0   194170.0\n",
       "2021-02-09    PR   1893.0                   38.0    96402.0\n",
       "2021-02-09    SD   1809.0                   13.0   109405.0\n",
       "2021-02-09    ID   1776.0                    0.0   165658.0\n",
       "2021-02-09    UT   1748.0                    0.0   356040.0\n",
       "2021-02-09    ND   1457.0                    0.0    98175.0\n",
       "2021-02-09    MT   1315.0                   14.0    96288.0\n",
       "2021-02-09    DE   1221.0                    0.0    81210.0\n",
       "2021-02-09    NH   1109.0                    0.0    68918.0\n",
       "2021-02-09    DC    961.0                   31.0    38281.0\n",
       "2021-02-09    ME    639.0                   13.0    41630.0\n",
       "2021-02-09    HI    418.0                   12.0    27226.0\n",
       "2021-02-09    AK    280.0                    6.0    53809.0\n",
       "2021-02-09    GU    130.0                    3.0     7673.0\n",
       "2021-02-09    MP      2.0                    0.0      133.0\n",
       "2021-02-09    AS      0.0                    0.0        0.0"
      ]
     },
     "execution_count": 18,
     "metadata": {},
     "output_type": "execute_result"
    }
   ],
   "source": [
    "df_states.iloc[:50].sort_values(by='death',ascending=False) # only graph the top 7 \n",
    "# that keep state ventilator data"
   ]
  },
  {
   "cell_type": "code",
   "execution_count": 19,
   "metadata": {
    "scrolled": false
   },
   "outputs": [
    {
     "data": {
      "text/plain": [
       "array(['AK', 'AL', 'AR', 'AS', 'AZ', 'CA', 'CO', 'CT', 'DC', 'DE', 'FL',\n",
       "       'GA', 'GU', 'HI', 'IA', 'ID', 'IL', 'IN', 'KS', 'KY', 'LA', 'MA',\n",
       "       'MD', 'ME', 'MI', 'MN', 'MO', 'MP', 'MS', 'MT', 'NC', 'ND', 'NE',\n",
       "       'NH', 'NJ', 'NM', 'NV', 'NY', 'OH', 'OK', 'OR', 'PA', 'PR', 'RI',\n",
       "       'SC', 'SD', 'TN', 'TX', 'UT', 'VA', 'VI', 'VT', 'WA', 'WI', 'WV',\n",
       "       'WY'], dtype=object)"
      ]
     },
     "execution_count": 19,
     "metadata": {},
     "output_type": "execute_result"
    }
   ],
   "source": [
    "df_states['state'].unique() # list of states to iterate through"
   ]
  },
  {
   "cell_type": "code",
   "execution_count": 20,
   "metadata": {},
   "outputs": [],
   "source": [
    "# list of unique state postal codes\n",
    "# state_postal = ['AK', 'AL', 'AR', 'AS', 'AZ', 'CA', 'CO', 'CT', 'DC', 'DE', 'FL',\n",
    "#        'GA', 'GU', 'HI', 'IA', 'ID', 'IL', 'IN', 'KS', 'KY', 'LA', 'MA',\n",
    "#        'MD', 'ME', 'MI', 'MN', 'MO', 'MP', 'MS', 'MT', 'NC', 'ND', 'NE',\n",
    "#        'NH', 'NJ', 'NM', 'NV', 'NY', 'OH', 'OK', 'OR', 'PA', 'PR', 'RI',\n",
    "#        'SC', 'SD', 'TN', 'TX', 'UT', 'VA', 'VI', 'VT', 'WA', 'WI', 'WV',\n",
    "#        'WY']\n",
    "\n",
    "state_postal = ['CA', 'NY', 'TX', 'FL', 'PA', 'NJ','IL','MI','MA'] # highest death count states\n",
    "# some do not have ventilator data reported. "
   ]
  },
  {
   "cell_type": "code",
   "execution_count": 21,
   "metadata": {
    "scrolled": false
   },
   "outputs": [
    {
     "data": {
      "image/png": "[encoded data removed]",
      "text/plain": [
       "<Figure size 1008x504 with 1 Axes>"
      ]
     },
     "metadata": {},
     "output_type": "display_data"
    }
   ],
   "source": [
    "# for loop iterates through shortened list and prints ventilator usage\n",
    "# for the trailing 180 day period. \n",
    "state_postal = ['NY', 'PA', 'NJ','IL','MI','MA']\n",
    "\n",
    "fig = plt.figure(figsize=(14,7));\n",
    "\n",
    "for state in state_postal:\n",
    "    df_individual = df_states[df_states['state']==state]['onVentilatorCurrently'].sort_index()\n",
    "    df_plot = df_individual.iloc[(df_individual.index.argmax()-180):(df_individual.index.argmax())]\n",
    "    plt.plot(df_plot,label=f'{state}');\n",
    "    plt.title('Number of People on Ventilators')\n",
    "    plt.xlabel('Date')\n",
    "    plt.ylabel('People')\n",
    "    plt.legend();\n"
   ]
  },
  {
   "cell_type": "code",
   "execution_count": 22,
   "metadata": {
    "scrolled": false
   },
   "outputs": [
    {
     "data": {
      "image/png": "[encoded data removed]",
      "text/plain": [
       "<Figure size 1008x504 with 1 Axes>"
      ]
     },
     "metadata": {},
     "output_type": "display_data"
    }
   ],
   "source": [
    "# same as above graph - all states have death data, this is a graph of the\n",
    "# states with the highest covid mortality \n",
    "state_postal = ['CA', 'NY', 'TX', 'FL', 'PA', 'NJ','IL','MI','MA']\n",
    "\n",
    "fig = plt.figure(figsize=(14,7));\n",
    "\n",
    "for state in state_postal:\n",
    "    df_individual = df_states[df_states['state']==state].death.sort_index()\n",
    "    df_plot = df_individual.iloc[(df_individual.index.argmax()-180):(df_individual.index.argmax())]\n",
    "    plt.plot(df_plot,label=f'{state}');\n",
    "    plt.title('Number of Total Covid Related Deaths')\n",
    "    plt.xlabel('Date')\n",
    "    plt.ylabel('Deaths')\n",
    "    plt.legend();"
   ]
  },
  {
   "cell_type": "markdown",
   "metadata": {},
   "source": [
    "### Plot Alaska Death Count"
   ]
  },
  {
   "cell_type": "code",
   "execution_count": 23,
   "metadata": {},
   "outputs": [],
   "source": [
    "df_AK = df_states[df_states['state']=='AK'] # just look at Alaska for now"
   ]
  },
  {
   "cell_type": "code",
   "execution_count": 24,
   "metadata": {
    "scrolled": false
   },
   "outputs": [
    {
     "data": {
      "image/png": "[encoded data removed]",
      "text/plain": [
       "<Figure size 1080x504 with 1 Axes>"
      ]
     },
     "metadata": {},
     "output_type": "display_data"
    }
   ],
   "source": [
    "fig = plt.figure(figsize=(15,7));\n",
    "\n",
    "df_AK['death'].plot(legend=True,title='Current Ventilator Usage and Death Totals');\n",
    "df_AK['onVentilatorCurrently'].plot(legend=True);"
   ]
  },
  {
   "cell_type": "markdown",
   "metadata": {},
   "source": [
    "## Modeling and Forecasts"
   ]
  },
  {
   "cell_type": "markdown",
   "metadata": {},
   "source": [
    "### Auto Regression Models"
   ]
  },
  {
   "cell_type": "markdown",
   "metadata": {},
   "source": [
    "### Working Model with Exogenous Input"
   ]
  },
  {
   "cell_type": "code",
   "execution_count": 25,
   "metadata": {
    "scrolled": true
   },
   "outputs": [
    {
     "name": "stdout",
     "output_type": "stream",
     "text": [
      "Successfully returned indexed dataframe for NY\n"
     ]
    }
   ],
   "source": [
    "df = state_dataframe(df_states, 'NY')"
   ]
  },
  {
   "cell_type": "code",
   "execution_count": 26,
   "metadata": {
    "scrolled": true
   },
   "outputs": [
    {
     "name": "stdout",
     "output_type": "stream",
     "text": [
      "Successfully returned indexed dataframe for NY\n"
     ]
    }
   ],
   "source": [
    "df_ref = state_dataframe(df_states, 'NY')"
   ]
  },
  {
   "cell_type": "code",
   "execution_count": 27,
   "metadata": {
    "scrolled": true
   },
   "outputs": [
    {
     "name": "stdout",
     "output_type": "stream",
     "text": [
      "<class 'pandas.core.frame.DataFrame'>\n",
      "DatetimeIndex: 345 entries, 2020-03-02 to 2021-02-09\n",
      "Freq: D\n",
      "Data columns (total 4 columns):\n",
      " #   Column                 Non-Null Count  Dtype  \n",
      "---  ------                 --------------  -----  \n",
      " 0   state                  345 non-null    object \n",
      " 1   death                  345 non-null    float64\n",
      " 2   onVentilatorCurrently  345 non-null    float64\n",
      " 3   positive               345 non-null    float64\n",
      "dtypes: float64(3), object(1)\n",
      "memory usage: 13.5+ KB\n"
     ]
    }
   ],
   "source": [
    "df.info()"
   ]
  },
  {
   "cell_type": "code",
   "execution_count": 28,
   "metadata": {},
   "outputs": [
    {
     "data": {
      "image/png": "[encoded data removed]",
      "text/plain": [
       "<Figure size 1080x720 with 4 Axes>"
      ]
     },
     "metadata": {},
     "output_type": "display_data"
    }
   ],
   "source": [
    "plt.rcParams['figure.figsize']=(15,10);\n",
    "sd(df.loc['04-2020':'06-2020']['onVentilatorCurrently']).plot();"
   ]
  },
  {
   "cell_type": "code",
   "execution_count": 29,
   "metadata": {
    "scrolled": true
   },
   "outputs": [
    {
     "name": "stdout",
     "output_type": "stream",
     "text": [
      "ARIMA order is:  (3, 2, 1)\n",
      "Seasonal ARIMA order is:  (0, 0, 0, 0)\n",
      "Use ARIMA object stepwise_fit to store ARIMA and seasonal ARIMA orders in variables.\n"
     ]
    }
   ],
   "source": [
    "stepwise_fit, results = return_sarima_model(df, 'onVentilatorCurrently', days=30, m_periods=1)"
   ]
  },
  {
   "cell_type": "code",
   "execution_count": 30,
   "metadata": {
    "scrolled": false
   },
   "outputs": [
    {
     "data": {
      "text/html": [
       "<table class=\"simpletable\">\n",
       "<caption>SARIMAX Results</caption>\n",
       "<tr>\n",
       "  <th>Dep. Variable:</th>   <td>onVentilatorCurrently</td> <th>  No. Observations:  </th>    <td>315</td>   \n",
       "</tr>\n",
       "<tr>\n",
       "  <th>Model:</th>             <td>SARIMAX(3, 2, 1)</td>    <th>  Log Likelihood     </th> <td>-1973.889</td>\n",
       "</tr>\n",
       "<tr>\n",
       "  <th>Date:</th>              <td>Tue, 09 Feb 2021</td>    <th>  AIC                </th> <td>3957.777</td> \n",
       "</tr>\n",
       "<tr>\n",
       "  <th>Time:</th>                  <td>18:06:24</td>        <th>  BIC                </th> <td>3976.460</td> \n",
       "</tr>\n",
       "<tr>\n",
       "  <th>Sample:</th>               <td>03-02-2020</td>       <th>  HQIC               </th> <td>3965.246</td> \n",
       "</tr>\n",
       "<tr>\n",
       "  <th></th>                     <td>- 01-10-2021</td>      <th>                     </th>     <td> </td>    \n",
       "</tr>\n",
       "<tr>\n",
       "  <th>Covariance Type:</th>          <td>opg</td>          <th>                     </th>     <td> </td>    \n",
       "</tr>\n",
       "</table>\n",
       "<table class=\"simpletable\">\n",
       "<tr>\n",
       "     <td></td>       <th>coef</th>     <th>std err</th>      <th>z</th>      <th>P>|z|</th>  <th>[0.025</th>    <th>0.975]</th>  \n",
       "</tr>\n",
       "<tr>\n",
       "  <th>ar.L1</th>  <td>   -0.0337</td> <td>    0.094</td> <td>   -0.359</td> <td> 0.720</td> <td>   -0.218</td> <td>    0.150</td>\n",
       "</tr>\n",
       "<tr>\n",
       "  <th>ar.L2</th>  <td>   -0.0155</td> <td>    0.085</td> <td>   -0.183</td> <td> 0.855</td> <td>   -0.182</td> <td>    0.151</td>\n",
       "</tr>\n",
       "<tr>\n",
       "  <th>ar.L3</th>  <td>   -0.0315</td> <td>    0.086</td> <td>   -0.365</td> <td> 0.715</td> <td>   -0.200</td> <td>    0.137</td>\n",
       "</tr>\n",
       "<tr>\n",
       "  <th>ma.L1</th>  <td>   -1.0000</td> <td>    0.007</td> <td> -147.658</td> <td> 0.000</td> <td>   -1.013</td> <td>   -0.987</td>\n",
       "</tr>\n",
       "<tr>\n",
       "  <th>sigma2</th> <td> 1.957e+04</td> <td> 3.46e-07</td> <td> 5.66e+10</td> <td> 0.000</td> <td> 1.96e+04</td> <td> 1.96e+04</td>\n",
       "</tr>\n",
       "</table>\n",
       "<table class=\"simpletable\">\n",
       "<tr>\n",
       "  <th>Ljung-Box (L1) (Q):</th>     <td>0.00</td> <th>  Jarque-Bera (JB):  </th> <td>1020723.09</td>\n",
       "</tr>\n",
       "<tr>\n",
       "  <th>Prob(Q):</th>                <td>1.00</td> <th>  Prob(JB):          </th>    <td>0.00</td>   \n",
       "</tr>\n",
       "<tr>\n",
       "  <th>Heteroskedasticity (H):</th> <td>0.00</td> <th>  Skew:              </th>    <td>16.38</td>  \n",
       "</tr>\n",
       "<tr>\n",
       "  <th>Prob(H) (two-sided):</th>    <td>0.00</td> <th>  Kurtosis:          </th>   <td>282.20</td>  \n",
       "</tr>\n",
       "</table><br/><br/>Warnings:<br/>[1] Covariance matrix calculated using the outer product of gradients (complex-step).<br/>[2] Covariance matrix is singular or near-singular, with condition number 1.74e+25. Standard errors may be unstable."
      ],
      "text/plain": [
       "<class 'statsmodels.iolib.summary.Summary'>\n",
       "\"\"\"\n",
       "                                 SARIMAX Results                                 \n",
       "=================================================================================\n",
       "Dep. Variable:     onVentilatorCurrently   No. Observations:                  315\n",
       "Model:                  SARIMAX(3, 2, 1)   Log Likelihood               -1973.889\n",
       "Date:                   Tue, 09 Feb 2021   AIC                           3957.777\n",
       "Time:                           18:06:24   BIC                           3976.460\n",
       "Sample:                       03-02-2020   HQIC                          3965.246\n",
       "                            - 01-10-2021                                         \n",
       "Covariance Type:                     opg                                         \n",
       "==============================================================================\n",
       "                 coef    std err          z      P>|z|      [0.025      0.975]\n",
       "------------------------------------------------------------------------------\n",
       "ar.L1         -0.0337      0.094     -0.359      0.720      -0.218       0.150\n",
       "ar.L2         -0.0155      0.085     -0.183      0.855      -0.182       0.151\n",
       "ar.L3         -0.0315      0.086     -0.365      0.715      -0.200       0.137\n",
       "ma.L1         -1.0000      0.007   -147.658      0.000      -1.013      -0.987\n",
       "sigma2      1.957e+04   3.46e-07   5.66e+10      0.000    1.96e+04    1.96e+04\n",
       "===================================================================================\n",
       "Ljung-Box (L1) (Q):                   0.00   Jarque-Bera (JB):           1020723.09\n",
       "Prob(Q):                              1.00   Prob(JB):                         0.00\n",
       "Heteroskedasticity (H):               0.00   Skew:                            16.38\n",
       "Prob(H) (two-sided):                  0.00   Kurtosis:                       282.20\n",
       "===================================================================================\n",
       "\n",
       "Warnings:\n",
       "[1] Covariance matrix calculated using the outer product of gradients (complex-step).\n",
       "[2] Covariance matrix is singular or near-singular, with condition number 1.74e+25. Standard errors may be unstable.\n",
       "\"\"\""
      ]
     },
     "metadata": {},
     "output_type": "display_data"
    },
    {
     "data": {
      "image/png": "[encoded data removed]",
      "text/plain": [
       "<Figure size 1080x720 with 4 Axes>"
      ]
     },
     "metadata": {},
     "output_type": "display_data"
    }
   ],
   "source": [
    "display(results.summary())\n",
    "results.plot_diagnostics();"
   ]
  },
  {
   "cell_type": "code",
   "execution_count": 55,
   "metadata": {
    "scrolled": false
   },
   "outputs": [
    {
     "data": {
      "image/png": "[encoded data removed]",
      "text/plain": [
       "<Figure size 1152x576 with 1 Axes>"
      ]
     },
     "metadata": {},
     "output_type": "display_data"
    }
   ],
   "source": [
    "evaluate_predictions(results, df, 'onVentilatorCurrently', days=30, stepwise_fit=stepwise_fit, alpha=.95)"
   ]
  },
  {
   "cell_type": "code",
   "execution_count": 54,
   "metadata": {
    "scrolled": false
   },
   "outputs": [
    {
     "data": {
      "image/png": "[encoded data removed]",
      "text/plain": [
       "<Figure size 1152x576 with 1 Axes>"
      ]
     },
     "metadata": {},
     "output_type": "display_data"
    }
   ],
   "source": [
    "forecast_model, forecast_obj = build_SARIMAX_forecast(df, 'onVentilatorCurrently', days=30, stepwise_fit=stepwise_fit, alpha=.95)"
   ]
  },
  {
   "cell_type": "code",
   "execution_count": 56,
   "metadata": {
    "scrolled": true
   },
   "outputs": [],
   "source": [
    "exog_forecast = forecast_obj.predicted_mean"
   ]
  },
  {
   "cell_type": "markdown",
   "metadata": {},
   "source": [
    "### Alaska Deaths Forecast"
   ]
  },
  {
   "cell_type": "code",
   "execution_count": 57,
   "metadata": {
    "scrolled": true
   },
   "outputs": [
    {
     "name": "stdout",
     "output_type": "stream",
     "text": [
      "ARIMA order is:  (1, 2, 2)\n",
      "Seasonal ARIMA order is:  (0, 0, 0, 52)\n",
      "Use ARIMA object stepwise_fit to store ARIMA and seasonal ARIMA orders in variables.\n"
     ]
    }
   ],
   "source": [
    "stepwise_fit, df_forecast = get_exogenous_forecast_dataframe(dataframe=df,\n",
    "                                                            original_dataframe=df_ref,\n",
    "                                                            forecast=exog_forecast, \n",
    "                                                            target_column='death',\n",
    "                                                            exogenous_column='onVentilatorCurrently',\n",
    "                                                            days=30)"
   ]
  },
  {
   "cell_type": "code",
   "execution_count": 58,
   "metadata": {
    "scrolled": false
   },
   "outputs": [
    {
     "data": {
      "text/html": [
       "<div>\n",
       "<style scoped>\n",
       "    .dataframe tbody tr th:only-of-type {\n",
       "        vertical-align: middle;\n",
       "    }\n",
       "\n",
       "    .dataframe tbody tr th {\n",
       "        vertical-align: top;\n",
       "    }\n",
       "\n",
       "    .dataframe thead th {\n",
       "        text-align: right;\n",
       "    }\n",
       "</style>\n",
       "<table border=\"1\" class=\"dataframe\">\n",
       "  <thead>\n",
       "    <tr style=\"text-align: right;\">\n",
       "      <th></th>\n",
       "      <th>state</th>\n",
       "      <th>death</th>\n",
       "      <th>onVentilatorCurrently</th>\n",
       "      <th>positive</th>\n",
       "    </tr>\n",
       "  </thead>\n",
       "  <tbody>\n",
       "    <tr>\n",
       "      <th>2021-03-07</th>\n",
       "      <td>NaN</td>\n",
       "      <td>NaN</td>\n",
       "      <td>1044.190931</td>\n",
       "      <td>NaN</td>\n",
       "    </tr>\n",
       "    <tr>\n",
       "      <th>2021-03-08</th>\n",
       "      <td>NaN</td>\n",
       "      <td>NaN</td>\n",
       "      <td>1047.014944</td>\n",
       "      <td>NaN</td>\n",
       "    </tr>\n",
       "    <tr>\n",
       "      <th>2021-03-09</th>\n",
       "      <td>NaN</td>\n",
       "      <td>NaN</td>\n",
       "      <td>1049.838958</td>\n",
       "      <td>NaN</td>\n",
       "    </tr>\n",
       "    <tr>\n",
       "      <th>2021-03-10</th>\n",
       "      <td>NaN</td>\n",
       "      <td>NaN</td>\n",
       "      <td>1052.662972</td>\n",
       "      <td>NaN</td>\n",
       "    </tr>\n",
       "    <tr>\n",
       "      <th>2021-03-11</th>\n",
       "      <td>NaN</td>\n",
       "      <td>NaN</td>\n",
       "      <td>1055.486986</td>\n",
       "      <td>NaN</td>\n",
       "    </tr>\n",
       "  </tbody>\n",
       "</table>\n",
       "</div>"
      ],
      "text/plain": [
       "           state  death  onVentilatorCurrently  positive\n",
       "2021-03-07   NaN    NaN            1044.190931       NaN\n",
       "2021-03-08   NaN    NaN            1047.014944       NaN\n",
       "2021-03-09   NaN    NaN            1049.838958       NaN\n",
       "2021-03-10   NaN    NaN            1052.662972       NaN\n",
       "2021-03-11   NaN    NaN            1055.486986       NaN"
      ]
     },
     "execution_count": 58,
     "metadata": {},
     "output_type": "execute_result"
    }
   ],
   "source": [
    "df_forecast.tail(5)"
   ]
  },
  {
   "cell_type": "code",
   "execution_count": 61,
   "metadata": {},
   "outputs": [
    {
     "ename": "ValueError",
     "evalue": "Out-of-sample operations in a model with a regression component require additional exogenous values via the `exog` argument.",
     "output_type": "error",
     "traceback": [
      "\u001b[1;31m---------------------------------------------------------------------------\u001b[0m",
      "\u001b[1;31mValueError\u001b[0m                                Traceback (most recent call last)",
      "\u001b[1;32m<ipython-input-61-897212522fa5>\u001b[0m in \u001b[0;36m<module>\u001b[1;34m\u001b[0m\n\u001b[1;32m----> 1\u001b[1;33m exog_forecast, results_forecast = build_SARIMAX_forecast(dataframe=df_forecast, \n\u001b[0m\u001b[0;32m      2\u001b[0m                                                          \u001b[0mtarget_column\u001b[0m\u001b[1;33m=\u001b[0m\u001b[1;34m'death'\u001b[0m\u001b[1;33m,\u001b[0m \u001b[0mdays\u001b[0m\u001b[1;33m=\u001b[0m\u001b[1;36m30\u001b[0m\u001b[1;33m,\u001b[0m\u001b[1;33m\u001b[0m\u001b[1;33m\u001b[0m\u001b[0m\n\u001b[0;32m      3\u001b[0m                                                          \u001b[0mstepwise_fit\u001b[0m\u001b[1;33m=\u001b[0m\u001b[0mstepwise_fit\u001b[0m\u001b[1;33m,\u001b[0m\u001b[1;33m\u001b[0m\u001b[1;33m\u001b[0m\u001b[0m\n\u001b[0;32m      4\u001b[0m                                                          \u001b[0moriginal_df\u001b[0m\u001b[1;33m=\u001b[0m\u001b[0mdf_ref\u001b[0m\u001b[1;33m,\u001b[0m\u001b[1;33m\u001b[0m\u001b[1;33m\u001b[0m\u001b[0m\n\u001b[0;32m      5\u001b[0m                                                          \u001b[0malpha\u001b[0m\u001b[1;33m=\u001b[0m\u001b[1;36m.5\u001b[0m\u001b[1;33m,\u001b[0m\u001b[1;33m\u001b[0m\u001b[1;33m\u001b[0m\u001b[0m\n",
      "\u001b[1;32m~\\desktop\\coursework\\phase_1\\Phase5 - Capstone\\Covid-19_Analysis\\Cust_Func.py\u001b[0m in \u001b[0;36mbuild_SARIMAX_forecast\u001b[1;34m(dataframe, target_column, days, stepwise_fit, alpha, original_df, exogenous_column)\u001b[0m\n\u001b[0;32m    318\u001b[0m         \u001b[0mforecast_object\u001b[0m \u001b[1;33m=\u001b[0m \u001b[0mresults_forecast\u001b[0m\u001b[1;33m.\u001b[0m\u001b[0mget_prediction\u001b[0m\u001b[1;33m(\u001b[0m\u001b[0mstart\u001b[0m\u001b[1;33m,\u001b[0m\u001b[0mend\u001b[0m\u001b[1;33m,\u001b[0m\u001b[0mtyp\u001b[0m\u001b[1;33m=\u001b[0m\u001b[1;34m'endogenous'\u001b[0m\u001b[1;33m)\u001b[0m\u001b[1;33m\u001b[0m\u001b[1;33m\u001b[0m\u001b[0m\n\u001b[0;32m    319\u001b[0m     \u001b[1;32melse\u001b[0m\u001b[1;33m:\u001b[0m\u001b[1;33m\u001b[0m\u001b[1;33m\u001b[0m\u001b[0m\n\u001b[1;32m--> 320\u001b[1;33m         \u001b[0mforecast_object\u001b[0m \u001b[1;33m=\u001b[0m \u001b[0mresults_forecast\u001b[0m\u001b[1;33m.\u001b[0m\u001b[0mget_prediction\u001b[0m\u001b[1;33m(\u001b[0m\u001b[0mstart\u001b[0m\u001b[1;33m,\u001b[0m\u001b[0mend\u001b[0m\u001b[1;33m,\u001b[0m\u001b[0mtyp\u001b[0m\u001b[1;33m=\u001b[0m\u001b[1;34m'exogenous'\u001b[0m\u001b[1;33m)\u001b[0m\u001b[1;33m\u001b[0m\u001b[1;33m\u001b[0m\u001b[0m\n\u001b[0m\u001b[0;32m    321\u001b[0m \u001b[1;33m\u001b[0m\u001b[0m\n\u001b[0;32m    322\u001b[0m     \u001b[1;31m# build confidence intervals and predicted mean line in one df\u001b[0m\u001b[1;33m\u001b[0m\u001b[1;33m\u001b[0m\u001b[1;33m\u001b[0m\u001b[0m\n",
      "\u001b[1;32m~\\anaconda3\\envs\\learn-env\\lib\\site-packages\\statsmodels\\tsa\\statespace\\mlemodel.py\u001b[0m in \u001b[0;36mget_prediction\u001b[1;34m(self, start, end, dynamic, index, exog, extend_model, extend_kwargs, **kwargs)\u001b[0m\n\u001b[0;32m   3299\u001b[0m                             not self.filter_results.time_invariant)\n\u001b[0;32m   3300\u001b[0m         \u001b[1;32mif\u001b[0m \u001b[0mout_of_sample\u001b[0m \u001b[1;32mand\u001b[0m \u001b[0mextend_model\u001b[0m\u001b[1;33m:\u001b[0m\u001b[1;33m\u001b[0m\u001b[1;33m\u001b[0m\u001b[0m\n\u001b[1;32m-> 3301\u001b[1;33m             kwargs = self.model._get_extension_time_varying_matrices(\n\u001b[0m\u001b[0;32m   3302\u001b[0m                 \u001b[0mself\u001b[0m\u001b[1;33m.\u001b[0m\u001b[0mparams\u001b[0m\u001b[1;33m,\u001b[0m \u001b[0mexog\u001b[0m\u001b[1;33m,\u001b[0m \u001b[0mout_of_sample\u001b[0m\u001b[1;33m,\u001b[0m \u001b[0mextend_kwargs\u001b[0m\u001b[1;33m,\u001b[0m\u001b[1;33m\u001b[0m\u001b[1;33m\u001b[0m\u001b[0m\n\u001b[0;32m   3303\u001b[0m                 transformed=True, includes_fixed=True, **kwargs)\n",
      "\u001b[1;32m~\\anaconda3\\envs\\learn-env\\lib\\site-packages\\statsmodels\\tsa\\statespace\\sarimax.py\u001b[0m in \u001b[0;36m_get_extension_time_varying_matrices\u001b[1;34m(self, params, exog, out_of_sample, extend_kwargs, transformed, includes_fixed, **kwargs)\u001b[0m\n\u001b[0;32m   1716\u001b[0m \u001b[1;33m\u001b[0m\u001b[0m\n\u001b[0;32m   1717\u001b[0m         \u001b[1;31m# Get the appropriate exog for the extended sample\u001b[0m\u001b[1;33m\u001b[0m\u001b[1;33m\u001b[0m\u001b[1;33m\u001b[0m\u001b[0m\n\u001b[1;32m-> 1718\u001b[1;33m         \u001b[0mexog\u001b[0m \u001b[1;33m=\u001b[0m \u001b[0mself\u001b[0m\u001b[1;33m.\u001b[0m\u001b[0m_validate_out_of_sample_exog\u001b[0m\u001b[1;33m(\u001b[0m\u001b[0mexog\u001b[0m\u001b[1;33m,\u001b[0m \u001b[0mout_of_sample\u001b[0m\u001b[1;33m)\u001b[0m\u001b[1;33m\u001b[0m\u001b[1;33m\u001b[0m\u001b[0m\n\u001b[0m\u001b[0;32m   1719\u001b[0m \u001b[1;33m\u001b[0m\u001b[0m\n\u001b[0;32m   1720\u001b[0m         \u001b[1;31m# Get the tmp endog, exog\u001b[0m\u001b[1;33m\u001b[0m\u001b[1;33m\u001b[0m\u001b[1;33m\u001b[0m\u001b[0m\n",
      "\u001b[1;32m~\\anaconda3\\envs\\learn-env\\lib\\site-packages\\statsmodels\\tsa\\statespace\\mlemodel.py\u001b[0m in \u001b[0;36m_validate_out_of_sample_exog\u001b[1;34m(self, exog, out_of_sample)\u001b[0m\n\u001b[0;32m   1749\u001b[0m         \u001b[1;32mif\u001b[0m \u001b[0mout_of_sample\u001b[0m \u001b[1;32mand\u001b[0m \u001b[0mself\u001b[0m\u001b[1;33m.\u001b[0m\u001b[0mk_exog\u001b[0m \u001b[1;33m>\u001b[0m \u001b[1;36m0\u001b[0m\u001b[1;33m:\u001b[0m\u001b[1;33m\u001b[0m\u001b[1;33m\u001b[0m\u001b[0m\n\u001b[0;32m   1750\u001b[0m             \u001b[1;32mif\u001b[0m \u001b[0mexog\u001b[0m \u001b[1;32mis\u001b[0m \u001b[1;32mNone\u001b[0m\u001b[1;33m:\u001b[0m\u001b[1;33m\u001b[0m\u001b[1;33m\u001b[0m\u001b[0m\n\u001b[1;32m-> 1751\u001b[1;33m                 raise ValueError('Out-of-sample operations in a model'\n\u001b[0m\u001b[0;32m   1752\u001b[0m                                  \u001b[1;34m' with a regression component require'\u001b[0m\u001b[1;33m\u001b[0m\u001b[1;33m\u001b[0m\u001b[0m\n\u001b[0;32m   1753\u001b[0m                                  \u001b[1;34m' additional exogenous values via the'\u001b[0m\u001b[1;33m\u001b[0m\u001b[1;33m\u001b[0m\u001b[0m\n",
      "\u001b[1;31mValueError\u001b[0m: Out-of-sample operations in a model with a regression component require additional exogenous values via the `exog` argument."
     ]
    }
   ],
   "source": [
    "exog_forecast, results_forecast = build_SARIMAX_forecast(dataframe=df_forecast, \n",
    "                                                         target_column='death', days=30, \n",
    "                                                         stepwise_fit=stepwise_fit, \n",
    "                                                         original_df=df_ref,\n",
    "                                                         alpha=.5,\n",
    "                                                         exogenous_column='onVentilatorCurrently')"
   ]
  },
  {
   "cell_type": "code",
   "execution_count": null,
   "metadata": {},
   "outputs": [],
   "source": []
  },
  {
   "cell_type": "code",
   "execution_count": null,
   "metadata": {},
   "outputs": [],
   "source": []
  },
  {
   "cell_type": "code",
   "execution_count": null,
   "metadata": {},
   "outputs": [],
   "source": []
  },
  {
   "cell_type": "code",
   "execution_count": null,
   "metadata": {},
   "outputs": [],
   "source": []
  },
  {
   "cell_type": "code",
   "execution_count": null,
   "metadata": {},
   "outputs": [],
   "source": []
  },
  {
   "cell_type": "code",
   "execution_count": null,
   "metadata": {},
   "outputs": [],
   "source": []
  },
  {
   "cell_type": "markdown",
   "metadata": {},
   "source": [
    "### Alaska SARIMA Model"
   ]
  },
  {
   "cell_type": "code",
   "execution_count": null,
   "metadata": {},
   "outputs": [],
   "source": [
    "df_AK = df_AK.sort_index()"
   ]
  },
  {
   "cell_type": "code",
   "execution_count": null,
   "metadata": {},
   "outputs": [],
   "source": [
    "df_AK = df_AK.dropna(subset=['death'])\n",
    "df_AK = df_AK.dropna(subset=['onVentilatorCurrently'])"
   ]
  },
  {
   "cell_type": "code",
   "execution_count": null,
   "metadata": {},
   "outputs": [],
   "source": [
    "df_alaska = pd.DataFrame(df_AK)"
   ]
  },
  {
   "cell_type": "code",
   "execution_count": null,
   "metadata": {},
   "outputs": [],
   "source": [
    "print(df_alaska.index.min())\n",
    "print(df_alaska.index.max())\n",
    "print('Length of dataframe: ' , len(df_alaska))"
   ]
  },
  {
   "cell_type": "code",
   "execution_count": null,
   "metadata": {},
   "outputs": [],
   "source": [
    "sd(df_alaska['death'], model='additive').plot(); # alaska = seasonal"
   ]
  },
  {
   "cell_type": "code",
   "execution_count": null,
   "metadata": {},
   "outputs": [],
   "source": [
    "stepwise_fit = auto_arima(df_alaska['death'],start_p=0,start_q=0,max_p=10,\n",
    "                          max_q=10, seasonal=True, seasonal_test='ocsb', maxiter=75, method='lbfgs',\n",
    "                          n_jobs=-1,stepwise=True)"
   ]
  },
  {
   "cell_type": "code",
   "execution_count": null,
   "metadata": {},
   "outputs": [],
   "source": [
    "model = SARIMAX(df_alaska['death'], order=stepwise_fit.order,seasonal_order=stepwise_fit.seasonal_order).fit()\n",
    "model.summary()"
   ]
  },
  {
   "cell_type": "code",
   "execution_count": null,
   "metadata": {},
   "outputs": [],
   "source": [
    "# dont forget get_predict\n",
    "predictions_AK = model.get_forecast(30)"
   ]
  },
  {
   "cell_type": "code",
   "execution_count": null,
   "metadata": {
    "scrolled": true
   },
   "outputs": [],
   "source": [
    "predictions_AK.predicted_mean"
   ]
  },
  {
   "cell_type": "code",
   "execution_count": null,
   "metadata": {
    "scrolled": true
   },
   "outputs": [],
   "source": [
    "predictions_AK.predicted_mean\n",
    "predictions_AK.conf_int(alpha=.05) # lower and upper confidence intervals, \n",
    "# phase4 appendix will tell you how to graph and shade in between these two plots\n",
    "\n",
    "# # Get forecast 500 steps ahead in future\n",
    "# prediction = output.get_forecast(steps=500)\n",
    "\n",
    "# # Get confidence intervals of forecasts\n",
    "# pred_conf = prediction.conf_int()\n",
    "\n",
    "# ax = CO2.plot(label='observed', figsize=(20, 15))\n",
    "# prediction.predicted_mean.plot(ax=ax, label='Forecast')\n",
    "# ax.fill_between(pred_conf.index,\n",
    "#                 pred_conf.iloc[:, 0],\n",
    "#                 pred_conf.iloc[:, 1], color='k', alpha=0.25)\n",
    "# ax.set_xlabel('Date')\n",
    "# ax.set_ylabel('CO2 Levels')\n",
    "\n",
    "# plt.legend()\n",
    "# plt.show()"
   ]
  },
  {
   "cell_type": "code",
   "execution_count": null,
   "metadata": {},
   "outputs": [],
   "source": [
    "stepwise_fit.order"
   ]
  },
  {
   "cell_type": "code",
   "execution_count": null,
   "metadata": {},
   "outputs": [],
   "source": [
    "stepwise_fit.summary()"
   ]
  },
  {
   "cell_type": "code",
   "execution_count": null,
   "metadata": {},
   "outputs": [],
   "source": [
    "length = len(df_alaska)-45"
   ]
  },
  {
   "cell_type": "code",
   "execution_count": null,
   "metadata": {},
   "outputs": [],
   "source": [
    "train_data = df_alaska.iloc[:length]\n",
    "test_data = df_alaska.iloc[length:]"
   ]
  },
  {
   "cell_type": "code",
   "execution_count": null,
   "metadata": {},
   "outputs": [],
   "source": [
    "train_data"
   ]
  },
  {
   "cell_type": "code",
   "execution_count": null,
   "metadata": {
    "scrolled": true
   },
   "outputs": [],
   "source": [
    "test_data"
   ]
  },
  {
   "cell_type": "code",
   "execution_count": null,
   "metadata": {},
   "outputs": [],
   "source": [
    "model = sm.tsa.statespace.SARIMAX(train_data['death'],trend='ct', order=(0,2,1))\n",
    "res = model.fit(disp=False)\n",
    "print(res.summary())"
   ]
  },
  {
   "cell_type": "code",
   "execution_count": null,
   "metadata": {},
   "outputs": [],
   "source": [
    "start = len(train_data)\n",
    "end = len(train_data) + len(test_data) - 1"
   ]
  },
  {
   "cell_type": "code",
   "execution_count": null,
   "metadata": {},
   "outputs": [],
   "source": [
    "predictions_AK = res.predict(start,end,typ='endogenous').rename('SARIMAX(0,2,1) Predictions')"
   ]
  },
  {
   "cell_type": "code",
   "execution_count": null,
   "metadata": {},
   "outputs": [],
   "source": [
    "train_data.index"
   ]
  },
  {
   "cell_type": "code",
   "execution_count": null,
   "metadata": {},
   "outputs": [],
   "source": [
    "test_data.index"
   ]
  },
  {
   "cell_type": "code",
   "execution_count": null,
   "metadata": {},
   "outputs": [],
   "source": [
    "predictions_AK = pd.DataFrame(predictions_AK)"
   ]
  },
  {
   "cell_type": "code",
   "execution_count": null,
   "metadata": {
    "scrolled": true
   },
   "outputs": [],
   "source": [
    "predictions_AK.index.name = 'date'"
   ]
  },
  {
   "cell_type": "markdown",
   "metadata": {},
   "source": [
    "#### Compare Test Data with Predictions"
   ]
  },
  {
   "cell_type": "code",
   "execution_count": null,
   "metadata": {},
   "outputs": [],
   "source": [
    "train_data.index.freq = 'D'\n",
    "test_data.index.freq = 'D' # -1D is reverse index, ie most recent date is at top of dataframe\n",
    "# perform sort_index on dataframe to correct. set frequencies to match for plotting\n",
    "# on same visualization"
   ]
  },
  {
   "cell_type": "code",
   "execution_count": null,
   "metadata": {
    "scrolled": true
   },
   "outputs": [],
   "source": [
    "pd.DataFrame(test_data['death']).info()"
   ]
  },
  {
   "cell_type": "code",
   "execution_count": null,
   "metadata": {},
   "outputs": [],
   "source": [
    "predictions_AK.info()"
   ]
  },
  {
   "cell_type": "code",
   "execution_count": null,
   "metadata": {},
   "outputs": [],
   "source": [
    "pd.DataFrame(test_data['death']).plot(figsize=(16,8),legend=True,title='Test Data vs SARIMA',grid=True)\n",
    "plt.plot(pd.DataFrame(predictions_AK))\n",
    "plt.show()"
   ]
  },
  {
   "cell_type": "code",
   "execution_count": null,
   "metadata": {},
   "outputs": [],
   "source": [
    "model = sm.tsa.statespace.SARIMAX(df_alaska['death'],trend='ct', order=(0,2,1))\n",
    "res = model.fit(disp=False)\n",
    "print(res.summary())"
   ]
  },
  {
   "cell_type": "code",
   "execution_count": null,
   "metadata": {},
   "outputs": [],
   "source": [
    "fcast = res.predict(start=len(df_AK),end=len(df_AK)+45, typ='endogenous').rename('SARIMAX FORECAST')"
   ]
  },
  {
   "cell_type": "code",
   "execution_count": null,
   "metadata": {
    "scrolled": false
   },
   "outputs": [],
   "source": [
    "fig, ax = plt.subplots()\n",
    "\n",
    "train_data['death'].plot(figsize=(16,8),legend=True,ylabel='Deaths',title='Forecast Deaths, Alaska',grid=True);\n",
    "test_data['death'].plot(grid=True);\n",
    "fcast.plot(legend=True,figsize=(18,8)); \n",
    "ax.grid();\n",
    "plt.show();"
   ]
  },
  {
   "cell_type": "code",
   "execution_count": null,
   "metadata": {
    "scrolled": false
   },
   "outputs": [],
   "source": [
    "fig, ax = plt.subplots()\n",
    "\n",
    "test_data['death'].plot(figsize=(16,8),legend=True,title='Forecast Deaths, Alaska',grid=True);\n",
    "train_data['death'].plot(figsize=(16,8),legend=True,ylabel='Deaths',grid=True);\n",
    "plt.plot(pd.DataFrame(predictions_AK)); # 'FORECAST' FROM END OF TRAINING DATA\n",
    "fcast.plot(legend=True,figsize=(18,8)); # SARIMA FORECAST\n",
    "ax.grid();\n",
    "plt.show();"
   ]
  },
  {
   "cell_type": "markdown",
   "metadata": {
    "heading_collapsed": true
   },
   "source": [
    "### Dashboard Dev, Work in Progress"
   ]
  },
  {
   "cell_type": "code",
   "execution_count": null,
   "metadata": {
    "hidden": true
   },
   "outputs": [],
   "source": [
    "# ## getting S&P500 symbols\n",
    "# import requests\n",
    "# url= 'https://api.covidtracking.com/v1/states/daily.csv'\n",
    "# response = requests.get(url)\n",
    "# response.status_code"
   ]
  },
  {
   "cell_type": "code",
   "execution_count": null,
   "metadata": {
    "hidden": true,
    "scrolled": true
   },
   "outputs": [],
   "source": [
    "# response."
   ]
  },
  {
   "cell_type": "code",
   "execution_count": null,
   "metadata": {
    "hidden": true
   },
   "outputs": [],
   "source": [
    "# def summary_states(df_states,state_postal_code,days):\n",
    "    \n",
    "#     '''\n",
    "#     *purpose: creates a SARIMA model based on datetime dataframe with column 'death'\n",
    "#               and a state postal code under column 'state'\n",
    "    \n",
    "#     *inputs:\n",
    "#     df_states: a dataframe of the state Covid data\n",
    "#     state_postal_code: state postal code to get state related death data\n",
    "#     days: number of days out you wish to forecast\n",
    "#     '''\n",
    "#     # create dataframe based on state_postal_code\n",
    "#     df_state = df_states[df_states['state']==state_postal_code]    \n",
    "\n",
    "#     # sort index, lowest index to oldest date, drop na's in death column\n",
    "#     df_state = df_state.sort_index()\n",
    "#     df_state = df_state.dropna(subset=['death'])\n",
    "#     df_state_new = pd.DataFrame(df_state)\n",
    "\n",
    "#     # create stepwise fit model, see summary\n",
    "#     stepwise_fit = auto_arima(df_state_new['death'],start_p=0,start_q=0,max_p=10,\n",
    "#                               max_q=10, seasonal=True, maxiter=1000, method='bfgs',\n",
    "#                               n_jobs=-1,stepwise=True) \n",
    "\n",
    "#     # auto_arima automatically differences and returns that differencing for the model in the arima_order = stepwise_fit.order below\n",
    "#     ## find correct ARIMA order\n",
    "\n",
    "#     arima_order = stepwise_fit.order\n",
    "\n",
    "#     length = len(df_state_new)-days\n",
    "\n",
    "#     df_actuals = df_state_new\n",
    "#     train_data = df_state_new.iloc[:length]\n",
    "#     test_data = df_state_new.iloc[length:]\n",
    "\n",
    "#     model = sm.tsa.statespace.SARIMAX(train_data['death'],trend='ct', order=arima_order)\n",
    "#     res = model.fit(disp=False)\n",
    "\n",
    "#     start = len(train_data)\n",
    "#     end = len(train_data) + len(test_data) - 1\n",
    "\n",
    "#     predictions_state = res.predict(start,end,typ='endogenous').rename(f'SARIMA{arima_order} Predictions')\n",
    "\n",
    "#     # ensure predictions are in DataFrame format, label index as date to match df_alaska\n",
    "#     # predictions_state = pd.DataFrame(predictions_state)\n",
    "#     predictions_state.index.name = 'date'\n",
    "\n",
    "#     train_data.index.freq = 'D'\n",
    "#     test_data.index.freq = 'D' # -1D is reverse index, ie most recent date is at top of dataframe\n",
    "#     # perform sort_index on dataframe to correct. set frequencies to match for plotting\n",
    "#     # on same visualization\n",
    "\n",
    "#     # graph test vs. prediction data - {PLOT}\n",
    "#     legend_elements = [Line2D([0], [0], color='b', lw=4, label='Actual Deaths'),\n",
    "#                        Line2D([0], [0], color='r', lw=4, label=f'SARIMA{arima_order} Predictions')]\n",
    "\n",
    "#     fig, ax = plt.subplots(figsize=(20,10));\n",
    "#     ax.plot(test_data['death'])\n",
    "#     ax.plot(predictions_state);\n",
    "#     ax.grid(b=True,alpha=.5)\n",
    "#     plt.title(f'Test Data vs SARIMA, {state_postal_code}')\n",
    "#     ax.legend(handles=legend_elements)\n",
    "#     plt.xlabel('Date')\n",
    "#     plt.ylabel('Deaths')\n",
    "#     plt.show();\n",
    "\n",
    "#     # train model for forecast\n",
    "#     model = sm.tsa.statespace.SARIMAX(df_state['death'],trend='ct', order=arima_order)\n",
    "#     res = model.fit(disp=False)\n",
    "\n",
    "#     # create forecast\n",
    "#     fcast = res.predict(start=len(df_state_new),end=len(df_state_new)+days, typ='endogenous').rename(f'SARIMA{arima_order} {days} Days Forecast')\n",
    "\n",
    "#     # graph forecast deaths, breakout of train and test split is present in graph - {PLOT}\n",
    "#     legend_elements = [Line2D([0], [0], color='b', lw=5, label='Actual Deaths'),\n",
    "#                        Line2D([0], [0], color='r', lw=5, label='Actual Deaths'),\n",
    "#                        Line2D([0], [0], color='y', lw=5, label=f'SARIMA{arima_order} Predictions'),\n",
    "#                        Line2D([0], [0], color='g', lw=5, label=f'SARIMA{arima_order} {days} Day Forecast')]\n",
    "\n",
    "#     fig, ax = plt.subplots(figsize=(20,10));\n",
    "#     ax.plot(train_data['death'])\n",
    "#     ax.plot(test_data['death'])\n",
    "#     ax.plot(predictions_state)\n",
    "#     ax.plot(fcast)\n",
    "#     ax.grid(b=True,alpha=.5)\n",
    "#     plt.title(f'SARIMA {days} Day Forecast, {state_postal_code}')\n",
    "#     ax.legend(handles=legend_elements)\n",
    "#     plt.xlabel('Date')\n",
    "#     plt.ylabel('Deaths')\n",
    "#     plt.show();\n",
    "    \n",
    "#     return df_actuals\n",
    "#     return fcast # returning fcast to put into plot_forecast"
   ]
  },
  {
   "cell_type": "code",
   "execution_count": null,
   "metadata": {
    "hidden": true
   },
   "outputs": [],
   "source": [
    "# summary_states(df_states,'CA',30)"
   ]
  },
  {
   "cell_type": "code",
   "execution_count": null,
   "metadata": {
    "hidden": true
   },
   "outputs": [],
   "source": [
    "# def plot_forecast(df,states=[]):\n",
    "#     if len(states)==0:\n",
    "#         states=None\n",
    "#     pfig = px.line(df)\n",
    "#     return pfig"
   ]
  },
  {
   "cell_type": "code",
   "execution_count": null,
   "metadata": {
    "hidden": true,
    "scrolled": true
   },
   "outputs": [],
   "source": [
    "# def make_options(menu_choices,ignore_cols=['Date']):\n",
    "#     \"\"\"Returns list of dictionary with {'label':menu_choice,'value':menu_choice}\"\"\"\n",
    "#     options = []\n",
    "#     for choice in menu_choices:\n",
    "#         if choice not in ignore_cols:\n",
    "#             options.append({'State':choice,'Postal Code':choice})\n",
    "#     return options\n",
    "\n",
    "# state_options = make_options(state_postal)\n",
    "# make_options(state_postal)"
   ]
  },
  {
   "cell_type": "code",
   "execution_count": null,
   "metadata": {
    "hidden": true
   },
   "outputs": [],
   "source": [
    "# pio.templates.default = \"plotly_dark\""
   ]
  },
  {
   "cell_type": "code",
   "execution_count": null,
   "metadata": {
    "hidden": true
   },
   "outputs": [],
   "source": [
    "# df_state = df_states[df_states['state']=='CA']    \n",
    "\n",
    "# # sort index, lowest index to oldest date, drop na's in death column\n",
    "# df_state = df_state.sort_index()\n",
    "# df_state = df_state.dropna(subset=['death'])\n",
    "# df_actuals = pd.DataFrame(df_state)\n",
    "    \n",
    "# ## App here\n",
    "# app = JupyterDash('App2')\n",
    "\n",
    "# app.layout = html.Div(children=[\n",
    "#     html.H1('Forecasting'),\n",
    "#     html.H2('COVID-19 Deaths Forecast'),\n",
    "#     dcc.Dropdown(id='states',options=state_options,multi=True),\n",
    "#     dcc.Graph(id=f'{state}',figure=plot_forecast(df_actuals['death'],fcast))])\n",
    "# app    \n",
    "\n",
    "# @app.callback(Output('states','figure'),\n",
    "#               [Input(f'{state}','value')])\n",
    "\n",
    "# def update_forecast(states,state):\n",
    "#     return plot_forecast(df_states[f'{state}'])\n",
    "# app"
   ]
  },
  {
   "cell_type": "code",
   "execution_count": null,
   "metadata": {
    "hidden": true
   },
   "outputs": [],
   "source": [
    "# today = dt.date.today().strftime(\"%Y-%m-%d\")\n",
    "\n",
    "# def get_data(start_date=df_states,end_date=today,state_codes=state_postal_code):\n",
    "    \n",
    "#     data = {}\n",
    "#     for state in state_codes:\n",
    "#         try:\n",
    "#             data[state] = pdr.DataReader(df_states,'yahoo',start_date,end_date)['death']\n",
    "#         except:\n",
    "#             print('Error with stock: '+stock)\n",
    "#     df = pd.DataFrame(data).reset_index()\n",
    "#     return df\n",
    "\n",
    "\n",
    "# def plot_forecast_df(df=None,stocks=['FB','AAPL']):\n",
    "#     if df is None:\n",
    "#         df = get_data(stocks)#.reset_index()\n",
    "#     stocks_exist = [s for s in stocks if s in df.columns]\n",
    "#     pfig = px.scatter(df,x='Date',y=stocks_exist)\n",
    "#     return pfig\n",
    "\n",
    "# from jupyter_plotly_dash import JupyterDash\n",
    "# app = JupyterDash('Example', \n",
    "#                   serve_locally=False)\n",
    "# defaults = ['MSFT','AMZN']\n",
    "# # df = get_data(date(2012, 1, 1))\n",
    "\n",
    "# app.layout = html.Div(children = [\n",
    "#     html.H1('Our AMAZING Dashboard'),\n",
    "    \n",
    "#     html.Div(children=[\n",
    "#         html.Div(style={\"border\":'1px solid black','padding':'3px'},id='menu',children=[\n",
    "#             html.H3('Enter state postal codes, separated by a comma.\\nPress Enter to update.'),\n",
    "\n",
    "#             dcc.Input(id='choose_stocks',value='MSFT,AMZN',\n",
    "#                       placeholder='MSFT,AAPL',#,\n",
    "#                          style={'width': '90%', 'height': 50}),           \n",
    "\n",
    "#             dcc.DatePickerRange( id='my-date-picker-range',\n",
    "#                                 start_date=date(2012,1,1),\n",
    "#                                 min_date_allowed=date(2010, 1, 1),\n",
    "#                                 max_date_allowed=today,#date.today(),#date(2021),\n",
    "#                                 end_date=today,style={'width':'50%'}),#date.today()), #date(2017, 8, 25)),\n",
    "#             html.Button('Submit',id='submit',style={'size':'40 px'})\n",
    "    \n",
    "#         ]),\n",
    "        \n",
    "#         dcc.Graph(id='line_plot')\n",
    "\n",
    "#     ])\n",
    "# ])\n",
    "\n",
    "# @app.callback(Output('line_plot','figure'),\n",
    "#               [Input('submit','n_clicks')],\n",
    "#               [State('choose_stocks','value'),\n",
    "#                State('my-date-picker-range', 'start_date'),\n",
    "#                State('my-date-picker-range', 'end_date')])\n",
    "# def update_stocks(n_clicks, stocks,start_date,end_date):\n",
    "#     stocks = stocks.split(',')\n",
    "#     plot_df = get_data(start_date,end_date,symbols=stocks)\n",
    "#     return plot_stocks_df(df=plot_df,stocks=stocks)#,start_date,end_date)\n",
    "    \n",
    "# app"
   ]
  },
  {
   "cell_type": "code",
   "execution_count": null,
   "metadata": {
    "hidden": true
   },
   "outputs": [],
   "source": [
    "# data = {}\n",
    "# days = 20\n",
    "\n",
    "# for state in state_postal:\n",
    "#     cas_state(df_states,state,days)"
   ]
  },
  {
   "cell_type": "code",
   "execution_count": null,
   "metadata": {
    "hidden": true
   },
   "outputs": [],
   "source": []
  },
  {
   "cell_type": "code",
   "execution_count": null,
   "metadata": {
    "hidden": true
   },
   "outputs": [],
   "source": []
  },
  {
   "cell_type": "markdown",
   "metadata": {},
   "source": [
    "### Forecast by State, SARIMA"
   ]
  },
  {
   "cell_type": "markdown",
   "metadata": {},
   "source": [
    "#### Here, provide DataFrame, postal code, and number of days in the future you wish to forecast. Code for this function is in Python file, Cust_Func.py"
   ]
  },
  {
   "cell_type": "markdown",
   "metadata": {},
   "source": [
    "### Alaska"
   ]
  },
  {
   "cell_type": "code",
   "execution_count": null,
   "metadata": {
    "scrolled": false
   },
   "outputs": [],
   "source": [
    "cas_state(df_states=df_states, state_postal_code='AK',days=35)"
   ]
  },
  {
   "cell_type": "markdown",
   "metadata": {},
   "source": [
    "#### Based on a 35 day forecast as of data pulled on 01-24-2021 and good thru 01-23-2021, Alaska is seeing an increase in death rate. As of mid-December, the trend was flatter than the forecasted trend. Deaths currently sit at just over 250, but are projected to reach over 400 by the beginning of March. "
   ]
  },
  {
   "cell_type": "markdown",
   "metadata": {},
   "source": [
    "## Univariate Forecast with RNN"
   ]
  },
  {
   "cell_type": "markdown",
   "metadata": {},
   "source": [
    "### Texas"
   ]
  },
  {
   "cell_type": "code",
   "execution_count": null,
   "metadata": {},
   "outputs": [],
   "source": [
    "create_nn(df_states=df_states,state_postal_code='TX',days=25,epochs=4) # "
   ]
  },
  {
   "cell_type": "markdown",
   "metadata": {},
   "source": [
    "### Florida"
   ]
  },
  {
   "cell_type": "code",
   "execution_count": null,
   "metadata": {},
   "outputs": [],
   "source": [
    "create_nn(df_states,'FL',20,epochs=4)"
   ]
  },
  {
   "cell_type": "markdown",
   "metadata": {},
   "source": [
    "### California"
   ]
  },
  {
   "cell_type": "code",
   "execution_count": null,
   "metadata": {},
   "outputs": [],
   "source": [
    "create_nn(df_states,'CA',20,epochs=4)"
   ]
  },
  {
   "cell_type": "markdown",
   "metadata": {},
   "source": [
    "## Using an Exogenous Variable with SARIMAX"
   ]
  },
  {
   "cell_type": "markdown",
   "metadata": {},
   "source": [
    "### pdq SARIMAX build"
   ]
  },
  {
   "cell_type": "code",
   "execution_count": null,
   "metadata": {},
   "outputs": [],
   "source": [
    "# Define the p, d and q parameters to take any value between 0 and 2\n",
    "p = d = q = [0,1,2]\n",
    "\n",
    "# Generate all different combinations of p, q and q triplets\n",
    "pdq = list(itertools.product(p, d, q))\n",
    "\n",
    "# Generate all different combinations of seasonal p, q and q triplets\n",
    "pdqs = [(x[0], x[1], x[2], 52) for x in list(itertools.product(p, d, q))]"
   ]
  },
  {
   "cell_type": "code",
   "execution_count": null,
   "metadata": {},
   "outputs": [],
   "source": [
    "# Run a grid with pdq and seasonal pdq parameters calculated above and get the best AIC value\n",
    "ans = []\n",
    "for comb in pdq:\n",
    "    for combs in pdqs:\n",
    "        try:\n",
    "            mod = sm.tsa.statespace.SARIMAX(alaska_df['death'],\n",
    "                                            order=comb,\n",
    "                                            seasonal_order=combs,\n",
    "                                            enforce_stationarity=False,\n",
    "                                            enforce_invertibility=False)\n",
    "\n",
    "            output = mod.fit()\n",
    "            ans.append([comb, combs, output.aic])\n",
    "            print('ARIMA {} x {}52 : AIC Calculated ={}'.format(comb, combs, output.aic))\n",
    "        except:\n",
    "            continue"
   ]
  },
  {
   "cell_type": "code",
   "execution_count": null,
   "metadata": {},
   "outputs": [],
   "source": [
    "# Find the parameters with minimal AIC value\n",
    "ans_df = pd.DataFrame(ans, columns=['pdq', 'pdqs', 'aic'])\n",
    "arima_order = ans_df['pdq'].loc[ans_df['aic'].idxmin()]\n",
    "seasonal_arima = ans_df['pdqs'].loc[ans_df['aic'].idxmin()]"
   ]
  },
  {
   "cell_type": "code",
   "execution_count": null,
   "metadata": {},
   "outputs": [],
   "source": [
    "# Plug the optimal parameter values into a new SARIMAX model\n",
    "ARIMA_MODEL = sm.tsa.statespace.SARIMAX(df_alaska['death'],\n",
    "                                        exogenous=df_alaska['ventilator_forecast']\n",
    "                                        order=arima_order, \n",
    "                                        seasonal_order=seasonal_arima, \n",
    "                                        enforce_stationarity=False, \n",
    "                                        enforce_invertibility=False)\n",
    "\n",
    "# Fit the model and print results\n",
    "output = ARIMA_MODEL.fit()\n",
    "\n",
    "print(output.summary().tables[1])"
   ]
  },
  {
   "cell_type": "code",
   "execution_count": null,
   "metadata": {},
   "outputs": [],
   "source": [
    "# Call plot_diagnostics() on the results calculated above \n",
    "output.plot_diagnostics(figsize=(15, 18))\n",
    "plt.show()"
   ]
  },
  {
   "cell_type": "code",
   "execution_count": null,
   "metadata": {},
   "outputs": [],
   "source": []
  },
  {
   "cell_type": "code",
   "execution_count": null,
   "metadata": {},
   "outputs": [],
   "source": [
    "# adding holidays into dataframe below"
   ]
  },
  {
   "cell_type": "code",
   "execution_count": null,
   "metadata": {
    "scrolled": true
   },
   "outputs": [],
   "source": [
    "from pandas.tseries.holiday import USFederalHolidayCalendar as calendar\n",
    "\n",
    "calendar = calendar()\n",
    "holidays = calendar.holidays(start=df_states.index.min(), end=df_states.index.max())\n",
    "\n",
    "df_states['holiday'] = df_states.index.isin(holidays)\n",
    "\n",
    "df_whole_US['holiday'] = df_whole_US.index.isin(holidays)"
   ]
  },
  {
   "cell_type": "code",
   "execution_count": null,
   "metadata": {
    "scrolled": true
   },
   "outputs": [],
   "source": [
    "df_states = clean_df(df_states,.05)"
   ]
  },
  {
   "cell_type": "code",
   "execution_count": null,
   "metadata": {},
   "outputs": [],
   "source": [
    "state_postal_code = 'TX'\n",
    "days = 30\n",
    "\n",
    "df_state = df_states[df_states['state']==state_postal_code]    \n",
    "\n",
    "# sort index, lowest index to oldest date, drop na's in death column\n",
    "df_state = df_state.sort_index()\n",
    "df_state = df_state.dropna(subset=['death'])\n",
    "df_state_new = pd.DataFrame(df_state)\n",
    "\n",
    "#     ets_decomp = sd(df_state_new['death'])\n",
    "#     ets_decomp.plot();\n",
    "\n",
    "# create stepwise fit model, see summary\n",
    "stepwise_fit = auto_arima(df_state_new['death'],seasonal=True,m=52,maxiter=2)\n",
    "\n",
    "# auto_arima automatically differences and returns that differencing for the model in the arima_order = stepwise_fit.order below\n",
    "## find correct ARIMA order\n",
    "\n",
    "arima_order = stepwise_fit.order\n",
    "seasonal_order = stepwise_fit.seasonal_order\n",
    "\n",
    "length = len(df_state_new)-days\n",
    "\n",
    "train_data = df_state_new.iloc[:length]\n",
    "test_data = df_state_new.iloc[length:]\n",
    "\n",
    "model = sm.tsa.statespace.SARIMAX(train_data['death'], trend='ct', seasonal_order=seasonal_order, \n",
    "                                  order=arima_order, enforce_invertibility=False)\n",
    "res = model.fit()\n",
    "\n",
    "start = len(train_data)\n",
    "end = len(train_data) + len(test_data) - 1\n",
    "\n",
    "predictions_state = res.predict(start,end,dynamic=False).rename(f'SARIMAX {arima_order} Predictions')\n",
    "\n",
    "# ensure predictions are in DataFrame format, label index as date to match df_alaska\n",
    "predictions_state = pd.DataFrame(predictions_state)\n",
    "predictions_state.index.name = 'date'\n",
    "\n",
    "train_data.index.freq = 'D'\n",
    "test_data.index.freq = 'D' # -1D is reverse index, ie most recent date is at top of dataframe\n",
    "# perform sort_index on dataframe to correct. set frequencies to match for plotting\n",
    "# on same visualization\n",
    "\n",
    "# graph test vs. prediction data - {PLOT}\n",
    "legend_elements = [Line2D([0], [0], color='b', lw=4, label='Actual Deaths'),\n",
    "                   Line2D([0], [0], color='#FFA500', lw=4, label=f'SARIMAX {arima_order} Predictions')]\n",
    "\n",
    "fig, ax = plt.subplots(figsize=(20,10));\n",
    "ax.plot(test_data['death'])\n",
    "ax.plot(predictions_state);\n",
    "ax.grid(b=True,alpha=.5)\n",
    "plt.title(f'Test Data vs SARIMA, {state_postal_code}')\n",
    "ax.legend(handles=legend_elements)\n",
    "for x in test_data.index:\n",
    "    if test_data['holiday'].loc[x]==1:    # for days where holiday == 1\n",
    "        ax.axvline(x=x, color='red', alpha = 0.4);   \n",
    "plt.xlabel('Date')\n",
    "plt.ylabel('Deaths')\n",
    "plt.show();\n",
    "\n",
    "error1 = mse(test_data['death'], predictions_state)\n",
    "error2 = rmse(test_data['death'], predictions_state)\n",
    "\n",
    "# print(f'SARIMAX{arima_order}{seasonal_order} MSE Error: {error1}')\n",
    "# print(f'SARIMAX{arima_order}{seasonal_order} RMSE Error: {error2}')\n",
    "\n",
    "# train model for forecast\n",
    "model = sm.tsa.statespace.SARIMAX(df_state_new['death'],exog=df_state_new['holiday'],\n",
    "                                  order=arima_order, seasonal_order=seasonal_order,\n",
    "                                  enforce_invertibility=False)\n",
    "res = model.fit(disp=False)\n",
    "\n",
    "# create forecast\n",
    "exog_forecast = df_state_new[length:][['holiday']]\n",
    "fcast = res.predict(start=len(df_state_new),end=len(df_state_new)+days-1,exog=exog_forecast).rename(f'SARIMAX{arima_order},{seasonal_order} {days} Days Forecast')\n",
    "\n",
    "# graph forecast deaths, breakout of train and test split is present in graph - {PLOT}\n",
    "legend_elements = [Line2D([0], [0], color='b', lw=5, label='Actual Deaths'),\n",
    "                   Line2D([0], [0], color='#FFA500', lw=5, label='Actual Deaths'),\n",
    "                   Line2D([0], [0], color='g', lw=5, label=f'SARIMAX {arima_order} , {seasonal_order} Predictions'),\n",
    "                   Line2D([0], [0], color='r', lw=5, label=f'SARIMAX {arima_order} , {seasonal_order} {days} Day Forecast')]\n",
    "\n",
    "fig, ax = plt.subplots(figsize=(20,10));\n",
    "ax.plot(train_data['death'])\n",
    "ax.plot(test_data['death'])\n",
    "ax.plot(predictions_state)\n",
    "ax.plot(fcast)\n",
    "ax.grid(b=True,alpha=.5)\n",
    "plt.title(f'SARIMAX {days} Day Forecast, {state_postal_code}')\n",
    "ax.legend(handles=legend_elements)\n",
    "for x in df_state_new.index:\n",
    "    if df_state_new['holiday'].loc[x]==1:    # for days where holiday == 1\n",
    "        ax.axvline(x=x, color='red', alpha = 0.4);   \n",
    "plt.xlabel('Date')\n",
    "plt.ylabel('Deaths')\n",
    "plt.show();\n",
    "\n",
    "last_predictions = len(fcast)-5\n",
    "actual_numbers = fcast[last_predictions:]\n",
    "\n",
    "return actual_numbers"
   ]
  },
  {
   "cell_type": "markdown",
   "metadata": {},
   "source": [
    "### Texas"
   ]
  },
  {
   "cell_type": "code",
   "execution_count": null,
   "metadata": {},
   "outputs": [],
   "source": []
  },
  {
   "cell_type": "code",
   "execution_count": null,
   "metadata": {},
   "outputs": [],
   "source": []
  },
  {
   "cell_type": "code",
   "execution_count": null,
   "metadata": {},
   "outputs": [],
   "source": []
  },
  {
   "cell_type": "code",
   "execution_count": null,
   "metadata": {},
   "outputs": [],
   "source": []
  },
  {
   "cell_type": "code",
   "execution_count": null,
   "metadata": {},
   "outputs": [],
   "source": [
    "create_SAX(df_states,'TX',30)"
   ]
  },
  {
   "cell_type": "markdown",
   "metadata": {},
   "source": [
    "#### An exogenous SARIMA model is taking holidays into account and provides an accurate picture. Red vertical lines represent holidays. Green and orange graphed lines in the second graph are the evaluation of the model against the Test Data. Forecasted data is putting Texas deaths at 44,000 by February 22nd. \n",
    "\n",
    "#### The largest states in the country are problem areas because of their concentrations of populations in large metropolitan areas, regardless of political leanings or affiliations. People need to be more careful and stay away from others on a more strict basis."
   ]
  },
  {
   "cell_type": "markdown",
   "metadata": {},
   "source": [
    "### California"
   ]
  },
  {
   "cell_type": "code",
   "execution_count": null,
   "metadata": {},
   "outputs": [],
   "source": [
    "create_SAX(df_states,'CA',30)"
   ]
  },
  {
   "cell_type": "markdown",
   "metadata": {},
   "source": [
    "#### An exogenous SARIMA model is taking holidays into account and provides an accurate picture. Red vertical lines represent holidays. Green and orange graphed lines in the second graph are the evaluation of the model against the Test Data. Forecasted data is putting California deaths at 51,000 by February 22nd. \n",
    "\n",
    "#### The largest states in the country are problem areas because of their concentrations of populations in large metropolitan areas, regardless of political leanings or affiliations. People need to be more careful and stay away from others on a more strict basis."
   ]
  },
  {
   "cell_type": "markdown",
   "metadata": {},
   "source": [
    "### Florida"
   ]
  },
  {
   "cell_type": "code",
   "execution_count": null,
   "metadata": {},
   "outputs": [],
   "source": [
    "create_SAX(df_states,'FL',30)"
   ]
  },
  {
   "cell_type": "markdown",
   "metadata": {},
   "source": [
    "#### An exogenous SARIMA model is taking holidays into account and provides an accurate picture. Red vertical lines represent holidays. Green and orange graphed lines in the second graph are the evaluation of the model against the Test Data. Forecasted data is putting Florida deaths at over 30,000 by February 22nd. \n",
    "\n",
    "#### The largest states in the country are problem areas because of their concentrations of populations in large metropolitan areas, regardless of political leanings or affiliations. People need to be more careful and stay away from others on a more strict basis."
   ]
  },
  {
   "cell_type": "markdown",
   "metadata": {},
   "source": [
    "### All States"
   ]
  },
  {
   "cell_type": "code",
   "execution_count": null,
   "metadata": {},
   "outputs": [],
   "source": [
    "create_SAX_usa(df_whole_US,25)"
   ]
  },
  {
   "cell_type": "markdown",
   "metadata": {},
   "source": [
    "## Multivariate Forecast with RNN"
   ]
  },
  {
   "cell_type": "markdown",
   "metadata": {},
   "source": [
    "### Data Import and Ventilator/Death Plot"
   ]
  },
  {
   "cell_type": "code",
   "execution_count": null,
   "metadata": {},
   "outputs": [],
   "source": [
    "# initialize Df\n",
    "df_whole_US = pd.read_csv('https://api.covidtracking.com/v1/us/daily.csv',index_col='date',parse_dates=True)"
   ]
  },
  {
   "cell_type": "code",
   "execution_count": null,
   "metadata": {},
   "outputs": [],
   "source": [
    "# we can see some lag here, common sense tells us we will probably see a \n",
    "#decrease in death rate after ICU and Ventilator populations fall. \n",
    "df_whole_US['inIcuCurrently'].plot(legend=True, figsize=(15,7))\n",
    "df_whole_US['onVentilatorCurrently'].plot(legend=True, figsize=(15,7))\n",
    "(df_whole_US['death']/10).plot(legend=True);  # to scale to other graphs"
   ]
  },
  {
   "cell_type": "code",
   "execution_count": null,
   "metadata": {},
   "outputs": [],
   "source": [
    "mv_forecast(df_whole_US,days_to_train=50,days_to_forecast=20,epochs=100) \n",
    "#hyperparameters to optimize days to train?"
   ]
  },
  {
   "cell_type": "code",
   "execution_count": null,
   "metadata": {},
   "outputs": [],
   "source": [
    "# right now deaths is running total, in icu currently is the current value. utility\n",
    "# slash usefulness are slightly different.\n",
    "# currently indicates pressure on the healthcare system\n",
    "\n",
    "# Feed in a ventilator forecast into the exogenous SARIMAX functions to\n",
    "# improve the modeling while adding sophistication. make this and return this\n",
    "# in a separate function. "
   ]
  },
  {
   "cell_type": "markdown",
   "metadata": {},
   "source": [
    "## Questions"
   ]
  },
  {
   "cell_type": "markdown",
   "metadata": {},
   "source": [
    "### Question 1"
   ]
  },
  {
   "cell_type": "code",
   "execution_count": null,
   "metadata": {},
   "outputs": [],
   "source": []
  },
  {
   "cell_type": "markdown",
   "metadata": {},
   "source": [
    "### Question 2"
   ]
  },
  {
   "cell_type": "code",
   "execution_count": null,
   "metadata": {},
   "outputs": [],
   "source": []
  },
  {
   "cell_type": "markdown",
   "metadata": {},
   "source": [
    "### Question 3"
   ]
  },
  {
   "cell_type": "code",
   "execution_count": null,
   "metadata": {},
   "outputs": [],
   "source": []
  },
  {
   "cell_type": "markdown",
   "metadata": {},
   "source": [
    "## Conclusions"
   ]
  },
  {
   "cell_type": "code",
   "execution_count": null,
   "metadata": {},
   "outputs": [],
   "source": []
  },
  {
   "cell_type": "markdown",
   "metadata": {},
   "source": [
    "## Future Work"
   ]
  },
  {
   "cell_type": "code",
   "execution_count": null,
   "metadata": {},
   "outputs": [],
   "source": []
  }
 ],
 "metadata": {
  "kernelspec": {
   "display_name": "Python 3",
   "language": "python",
   "name": "python3"
  },
  "language_info": {
   "codemirror_mode": {
    "name": "ipython",
    "version": 3
   },
   "file_extension": ".py",
   "mimetype": "text/x-python",
   "name": "python",
   "nbconvert_exporter": "python",
   "pygments_lexer": "ipython3",
   "version": "3.8.5"
  },
  "toc": {
   "base_numbering": 1,
   "nav_menu": {},
   "number_sections": true,
   "sideBar": true,
   "skip_h1_title": false,
   "title_cell": "Table of Contents",
   "title_sidebar": "Contents",
   "toc_cell": false,
   "toc_position": {
    "height": "calc(100% - 180px)",
    "left": "10px",
    "top": "150px",
    "width": "202px"
   },
   "toc_section_display": true,
   "toc_window_display": true
  }
 },
 "nbformat": 4,
 "nbformat_minor": 4
}
