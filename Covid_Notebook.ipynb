{
 "cells": [
  {
   "cell_type": "markdown",
   "metadata": {},
   "source": [
    "# COVID-19 Data Analysis and Forecasting"
   ]
  },
  {
   "cell_type": "markdown",
   "metadata": {},
   "source": [
    "#### Author: Joseph Denney\n",
    "#### Email: joseph.d.denney@gmail.com\n",
    "#### github: www.github.com/josephdenney/Tweet_Analysis"
   ]
  },
  {
   "cell_type": "markdown",
   "metadata": {},
   "source": [
    "## Introduction"
   ]
  },
  {
   "cell_type": "markdown",
   "metadata": {},
   "source": [
    "### Problem and Purpose"
   ]
  },
  {
   "cell_type": "markdown",
   "metadata": {},
   "source": [
    "#### This project will use forecasting to model Covid-19 deaths  based on current hospitalization, ventilator, and death data. I will be using API html links to bring in up to date data regularly. This project will use supervised learning in the form of ARIMA and SARIMAX in order to create time series death forecasts."
   ]
  },
  {
   "cell_type": "markdown",
   "metadata": {},
   "source": [
    "#### The purpose of this analysis is to provide an accurate forecast of Covid-19 related deaths as 2021 progresses.\n",
    "#### Our challenges are -\n",
    "#### * 1. Create multiple forecasts by creating forecasts for specific states\n",
    "#### * 2. Build a forecast for the United States as a whole\n",
    "#### * 3. Provide insights as to the urgency of making changes to how we are operating as a country"
   ]
  },
  {
   "cell_type": "markdown",
   "metadata": {},
   "source": [
    "## Table of Contents"
   ]
  },
  {
   "cell_type": "markdown",
   "metadata": {},
   "source": [
    "### Standard Libraries"
   ]
  },
  {
   "cell_type": "code",
   "execution_count": 1,
   "metadata": {},
   "outputs": [],
   "source": [
    "from tensorflow.random import set_seed\n",
    "import numpy as np\n",
    "\n",
    "set_seed(42)\n",
    "np.random.seed(42)"
   ]
  },
  {
   "cell_type": "code",
   "execution_count": 2,
   "metadata": {},
   "outputs": [],
   "source": [
    "import pandas as pd\n",
    "import matplotlib.pyplot as plt\n",
    "from matplotlib.lines import Line2D\n",
    "import matplotlib\n",
    "%matplotlib inline\n",
    "import functools\n",
    "from jupyter_plotly_dash import JupyterDash\n",
    "import datetime as dt\n",
    "from datetime import date\n",
    "from datetime import datetime, timedelta\n",
    "import pandas_datareader as pdr\n",
    "import holidays\n",
    "# import dash\n",
    "# import dash_core_components as dcc\n",
    "# import dash_html_components as html\n",
    "# from dash.dependencies import Input, Output,State\n",
    "# app = JupyterDash('our app')\n",
    "# # pio.templates\n",
    "# import plotly.express as px\n",
    "# import plotly.io as pio"
   ]
  },
  {
   "cell_type": "code",
   "execution_count": 3,
   "metadata": {},
   "outputs": [],
   "source": [
    "# import statsmodels.api as sm\n",
    "from statsmodels.tsa.statespace.tools import diff\n",
    "from statsmodels.tsa.stattools import acovf, acf, pacf, pacf_yw, pacf_ols\n",
    "from statsmodels.graphics.tsaplots import plot_acf, plot_pacf\n",
    "from statsmodels.tsa.stattools import adfuller\n",
    "from statsmodels.tools.eval_measures import mse,rmse\n",
    "from pmdarima import auto_arima\n",
    "from statsmodels.tsa.seasonal import seasonal_decompose as sd\n",
    "from statsmodels.tsa.statespace.varmax import VARMAX, VARMAXResults\n",
    "from statsmodels.tsa.ar_model import AR, ARResults\n",
    "from statsmodels.tsa.arima_model import ARMA, ARIMA, ARMAResults\n",
    "from statsmodels.tsa.statespace.sarimax import SARIMAX\n",
    "from sklearn.preprocessing import MinMaxScaler, StandardScaler\n",
    "from keras.preprocessing.sequence import TimeseriesGenerator\n",
    "from keras.models import Sequential\n",
    "from keras.layers import Dense, LSTM, Dropout\n",
    "from keras.callbacks import EarlyStopping, ReduceLROnPlateau\n",
    "from keras.callbacks import ModelCheckpoint, TensorBoard"
   ]
  },
  {
   "cell_type": "code",
   "execution_count": 4,
   "metadata": {},
   "outputs": [],
   "source": [
    "import warnings\n",
    "warnings.filterwarnings('ignore')\n",
    "import itertools\n",
    "import pandas as pd\n",
    "import numpy as np\n",
    "import statsmodels.api as sm\n",
    "import matplotlib.pyplot as plt\n",
    "from matplotlib.pylab import rcParams\n",
    "plt.style.use('ggplot')"
   ]
  },
  {
   "cell_type": "code",
   "execution_count": 5,
   "metadata": {},
   "outputs": [],
   "source": [
    "scaler = MinMaxScaler()\n",
    "standard_scaler = StandardScaler()"
   ]
  },
  {
   "cell_type": "code",
   "execution_count": 6,
   "metadata": {},
   "outputs": [],
   "source": [
    "import warnings\n",
    "warnings.filterwarnings('ignore')"
   ]
  },
  {
   "cell_type": "markdown",
   "metadata": {},
   "source": [
    "### Custom Libraries"
   ]
  },
  {
   "cell_type": "code",
   "execution_count": 7,
   "metadata": {
    "scrolled": true
   },
   "outputs": [],
   "source": [
    "from Cust_Func import *"
   ]
  },
  {
   "cell_type": "markdown",
   "metadata": {},
   "source": [
    "## Explore Data"
   ]
  },
  {
   "cell_type": "markdown",
   "metadata": {},
   "source": [
    "### Create New DataFrame"
   ]
  },
  {
   "cell_type": "code",
   "execution_count": 8,
   "metadata": {},
   "outputs": [],
   "source": [
    "df_states = pd.read_csv('https://api.covidtracking.com/v1/states/daily.csv',index_col='date',parse_dates=True)\n",
    "df_whole_US = pd.read_csv('https://api.covidtracking.com/v1/us/daily.csv',index_col='date',parse_dates=True)"
   ]
  },
  {
   "cell_type": "code",
   "execution_count": 9,
   "metadata": {},
   "outputs": [
    {
     "data": {
      "text/html": [
       "<div>\n",
       "<style scoped>\n",
       "    .dataframe tbody tr th:only-of-type {\n",
       "        vertical-align: middle;\n",
       "    }\n",
       "\n",
       "    .dataframe tbody tr th {\n",
       "        vertical-align: top;\n",
       "    }\n",
       "\n",
       "    .dataframe thead th {\n",
       "        text-align: right;\n",
       "    }\n",
       "</style>\n",
       "<table border=\"1\" class=\"dataframe\">\n",
       "  <thead>\n",
       "    <tr style=\"text-align: right;\">\n",
       "      <th></th>\n",
       "      <th>state</th>\n",
       "      <th>positive</th>\n",
       "      <th>probableCases</th>\n",
       "      <th>negative</th>\n",
       "      <th>pending</th>\n",
       "      <th>totalTestResultsSource</th>\n",
       "      <th>totalTestResults</th>\n",
       "      <th>hospitalizedCurrently</th>\n",
       "      <th>hospitalizedCumulative</th>\n",
       "      <th>inIcuCurrently</th>\n",
       "      <th>...</th>\n",
       "      <th>posNeg</th>\n",
       "      <th>deathIncrease</th>\n",
       "      <th>hospitalizedIncrease</th>\n",
       "      <th>hash</th>\n",
       "      <th>commercialScore</th>\n",
       "      <th>negativeRegularScore</th>\n",
       "      <th>negativeScore</th>\n",
       "      <th>positiveScore</th>\n",
       "      <th>score</th>\n",
       "      <th>grade</th>\n",
       "    </tr>\n",
       "    <tr>\n",
       "      <th>date</th>\n",
       "      <th></th>\n",
       "      <th></th>\n",
       "      <th></th>\n",
       "      <th></th>\n",
       "      <th></th>\n",
       "      <th></th>\n",
       "      <th></th>\n",
       "      <th></th>\n",
       "      <th></th>\n",
       "      <th></th>\n",
       "      <th></th>\n",
       "      <th></th>\n",
       "      <th></th>\n",
       "      <th></th>\n",
       "      <th></th>\n",
       "      <th></th>\n",
       "      <th></th>\n",
       "      <th></th>\n",
       "      <th></th>\n",
       "      <th></th>\n",
       "      <th></th>\n",
       "    </tr>\n",
       "  </thead>\n",
       "  <tbody>\n",
       "    <tr>\n",
       "      <th>2021-02-08</th>\n",
       "      <td>AK</td>\n",
       "      <td>53694.0</td>\n",
       "      <td>NaN</td>\n",
       "      <td>NaN</td>\n",
       "      <td>NaN</td>\n",
       "      <td>totalTestsViral</td>\n",
       "      <td>1555532.0</td>\n",
       "      <td>39.0</td>\n",
       "      <td>1219.0</td>\n",
       "      <td>NaN</td>\n",
       "      <td>...</td>\n",
       "      <td>53694</td>\n",
       "      <td>0</td>\n",
       "      <td>0</td>\n",
       "      <td>d85857d07675872189c4413c474e093aa816bd07</td>\n",
       "      <td>0</td>\n",
       "      <td>0</td>\n",
       "      <td>0</td>\n",
       "      <td>0</td>\n",
       "      <td>0</td>\n",
       "      <td>NaN</td>\n",
       "    </tr>\n",
       "    <tr>\n",
       "      <th>2021-02-08</th>\n",
       "      <td>AL</td>\n",
       "      <td>473348.0</td>\n",
       "      <td>101577.0</td>\n",
       "      <td>1820080.0</td>\n",
       "      <td>NaN</td>\n",
       "      <td>totalTestsPeopleViral</td>\n",
       "      <td>2191851.0</td>\n",
       "      <td>1524.0</td>\n",
       "      <td>43383.0</td>\n",
       "      <td>NaN</td>\n",
       "      <td>...</td>\n",
       "      <td>2293428</td>\n",
       "      <td>8</td>\n",
       "      <td>378</td>\n",
       "      <td>223d07c61fa18edd15ba5b06781eeace99993064</td>\n",
       "      <td>0</td>\n",
       "      <td>0</td>\n",
       "      <td>0</td>\n",
       "      <td>0</td>\n",
       "      <td>0</td>\n",
       "      <td>NaN</td>\n",
       "    </tr>\n",
       "    <tr>\n",
       "      <th>2021-02-08</th>\n",
       "      <td>AR</td>\n",
       "      <td>307373.0</td>\n",
       "      <td>62960.0</td>\n",
       "      <td>2290742.0</td>\n",
       "      <td>NaN</td>\n",
       "      <td>totalTestsViral</td>\n",
       "      <td>2535155.0</td>\n",
       "      <td>777.0</td>\n",
       "      <td>14099.0</td>\n",
       "      <td>274.0</td>\n",
       "      <td>...</td>\n",
       "      <td>2598115</td>\n",
       "      <td>30</td>\n",
       "      <td>33</td>\n",
       "      <td>29964941e602edf52ceb795c3a222940b57d37f7</td>\n",
       "      <td>0</td>\n",
       "      <td>0</td>\n",
       "      <td>0</td>\n",
       "      <td>0</td>\n",
       "      <td>0</td>\n",
       "      <td>NaN</td>\n",
       "    </tr>\n",
       "    <tr>\n",
       "      <th>2021-02-08</th>\n",
       "      <td>AS</td>\n",
       "      <td>0.0</td>\n",
       "      <td>NaN</td>\n",
       "      <td>2140.0</td>\n",
       "      <td>NaN</td>\n",
       "      <td>totalTestsViral</td>\n",
       "      <td>2140.0</td>\n",
       "      <td>NaN</td>\n",
       "      <td>NaN</td>\n",
       "      <td>NaN</td>\n",
       "      <td>...</td>\n",
       "      <td>2140</td>\n",
       "      <td>0</td>\n",
       "      <td>0</td>\n",
       "      <td>74ae8e0269fb6fbd5ea923792d3795972d8a4848</td>\n",
       "      <td>0</td>\n",
       "      <td>0</td>\n",
       "      <td>0</td>\n",
       "      <td>0</td>\n",
       "      <td>0</td>\n",
       "      <td>NaN</td>\n",
       "    </tr>\n",
       "    <tr>\n",
       "      <th>2021-02-08</th>\n",
       "      <td>AZ</td>\n",
       "      <td>782887.0</td>\n",
       "      <td>51100.0</td>\n",
       "      <td>2820314.0</td>\n",
       "      <td>NaN</td>\n",
       "      <td>totalTestsViral</td>\n",
       "      <td>6993662.0</td>\n",
       "      <td>2853.0</td>\n",
       "      <td>54713.0</td>\n",
       "      <td>828.0</td>\n",
       "      <td>...</td>\n",
       "      <td>3603201</td>\n",
       "      <td>7</td>\n",
       "      <td>56</td>\n",
       "      <td>1e61ea22f77c1ef1e936cc56410665ca7c34aed5</td>\n",
       "      <td>0</td>\n",
       "      <td>0</td>\n",
       "      <td>0</td>\n",
       "      <td>0</td>\n",
       "      <td>0</td>\n",
       "      <td>NaN</td>\n",
       "    </tr>\n",
       "  </tbody>\n",
       "</table>\n",
       "<p>5 rows × 54 columns</p>\n",
       "</div>"
      ],
      "text/plain": [
       "           state  positive  probableCases   negative  pending  \\\n",
       "date                                                            \n",
       "2021-02-08    AK   53694.0            NaN        NaN      NaN   \n",
       "2021-02-08    AL  473348.0       101577.0  1820080.0      NaN   \n",
       "2021-02-08    AR  307373.0        62960.0  2290742.0      NaN   \n",
       "2021-02-08    AS       0.0            NaN     2140.0      NaN   \n",
       "2021-02-08    AZ  782887.0        51100.0  2820314.0      NaN   \n",
       "\n",
       "           totalTestResultsSource  totalTestResults  hospitalizedCurrently  \\\n",
       "date                                                                         \n",
       "2021-02-08        totalTestsViral         1555532.0                   39.0   \n",
       "2021-02-08  totalTestsPeopleViral         2191851.0                 1524.0   \n",
       "2021-02-08        totalTestsViral         2535155.0                  777.0   \n",
       "2021-02-08        totalTestsViral            2140.0                    NaN   \n",
       "2021-02-08        totalTestsViral         6993662.0                 2853.0   \n",
       "\n",
       "            hospitalizedCumulative  inIcuCurrently  ...   posNeg  \\\n",
       "date                                                ...            \n",
       "2021-02-08                  1219.0             NaN  ...    53694   \n",
       "2021-02-08                 43383.0             NaN  ...  2293428   \n",
       "2021-02-08                 14099.0           274.0  ...  2598115   \n",
       "2021-02-08                     NaN             NaN  ...     2140   \n",
       "2021-02-08                 54713.0           828.0  ...  3603201   \n",
       "\n",
       "            deathIncrease  hospitalizedIncrease  \\\n",
       "date                                              \n",
       "2021-02-08              0                     0   \n",
       "2021-02-08              8                   378   \n",
       "2021-02-08             30                    33   \n",
       "2021-02-08              0                     0   \n",
       "2021-02-08              7                    56   \n",
       "\n",
       "                                                hash commercialScore  \\\n",
       "date                                                                   \n",
       "2021-02-08  d85857d07675872189c4413c474e093aa816bd07               0   \n",
       "2021-02-08  223d07c61fa18edd15ba5b06781eeace99993064               0   \n",
       "2021-02-08  29964941e602edf52ceb795c3a222940b57d37f7               0   \n",
       "2021-02-08  74ae8e0269fb6fbd5ea923792d3795972d8a4848               0   \n",
       "2021-02-08  1e61ea22f77c1ef1e936cc56410665ca7c34aed5               0   \n",
       "\n",
       "           negativeRegularScore negativeScore positiveScore  score  grade  \n",
       "date                                                                       \n",
       "2021-02-08                    0             0             0      0    NaN  \n",
       "2021-02-08                    0             0             0      0    NaN  \n",
       "2021-02-08                    0             0             0      0    NaN  \n",
       "2021-02-08                    0             0             0      0    NaN  \n",
       "2021-02-08                    0             0             0      0    NaN  \n",
       "\n",
       "[5 rows x 54 columns]"
      ]
     },
     "execution_count": 9,
     "metadata": {},
     "output_type": "execute_result"
    }
   ],
   "source": [
    "df_states.head()"
   ]
  },
  {
   "cell_type": "code",
   "execution_count": 10,
   "metadata": {},
   "outputs": [
    {
     "data": {
      "text/html": [
       "<div>\n",
       "<style scoped>\n",
       "    .dataframe tbody tr th:only-of-type {\n",
       "        vertical-align: middle;\n",
       "    }\n",
       "\n",
       "    .dataframe tbody tr th {\n",
       "        vertical-align: top;\n",
       "    }\n",
       "\n",
       "    .dataframe thead th {\n",
       "        text-align: right;\n",
       "    }\n",
       "</style>\n",
       "<table border=\"1\" class=\"dataframe\">\n",
       "  <thead>\n",
       "    <tr style=\"text-align: right;\">\n",
       "      <th></th>\n",
       "      <th>states</th>\n",
       "      <th>positive</th>\n",
       "      <th>negative</th>\n",
       "      <th>pending</th>\n",
       "      <th>hospitalizedCurrently</th>\n",
       "      <th>hospitalizedCumulative</th>\n",
       "      <th>inIcuCurrently</th>\n",
       "      <th>inIcuCumulative</th>\n",
       "      <th>onVentilatorCurrently</th>\n",
       "      <th>onVentilatorCumulative</th>\n",
       "      <th>...</th>\n",
       "      <th>lastModified</th>\n",
       "      <th>recovered</th>\n",
       "      <th>total</th>\n",
       "      <th>posNeg</th>\n",
       "      <th>deathIncrease</th>\n",
       "      <th>hospitalizedIncrease</th>\n",
       "      <th>negativeIncrease</th>\n",
       "      <th>positiveIncrease</th>\n",
       "      <th>totalTestResultsIncrease</th>\n",
       "      <th>hash</th>\n",
       "    </tr>\n",
       "    <tr>\n",
       "      <th>date</th>\n",
       "      <th></th>\n",
       "      <th></th>\n",
       "      <th></th>\n",
       "      <th></th>\n",
       "      <th></th>\n",
       "      <th></th>\n",
       "      <th></th>\n",
       "      <th></th>\n",
       "      <th></th>\n",
       "      <th></th>\n",
       "      <th></th>\n",
       "      <th></th>\n",
       "      <th></th>\n",
       "      <th></th>\n",
       "      <th></th>\n",
       "      <th></th>\n",
       "      <th></th>\n",
       "      <th></th>\n",
       "      <th></th>\n",
       "      <th></th>\n",
       "      <th></th>\n",
       "    </tr>\n",
       "  </thead>\n",
       "  <tbody>\n",
       "    <tr>\n",
       "      <th>2021-02-08</th>\n",
       "      <td>56</td>\n",
       "      <td>26875063.0</td>\n",
       "      <td>124779892.0</td>\n",
       "      <td>12114.0</td>\n",
       "      <td>80055.0</td>\n",
       "      <td>827944.0</td>\n",
       "      <td>16174.0</td>\n",
       "      <td>42833.0</td>\n",
       "      <td>5260.0</td>\n",
       "      <td>4080.0</td>\n",
       "      <td>...</td>\n",
       "      <td>2021-02-08T24:00:00Z</td>\n",
       "      <td>NaN</td>\n",
       "      <td>0</td>\n",
       "      <td>0</td>\n",
       "      <td>1309</td>\n",
       "      <td>1638</td>\n",
       "      <td>4866739</td>\n",
       "      <td>77737</td>\n",
       "      <td>1434298</td>\n",
       "      <td>fe5eb3c282fee2b8fa0cacce8bc9497711b286db</td>\n",
       "    </tr>\n",
       "    <tr>\n",
       "      <th>2021-02-07</th>\n",
       "      <td>56</td>\n",
       "      <td>26797326.0</td>\n",
       "      <td>119913153.0</td>\n",
       "      <td>12061.0</td>\n",
       "      <td>81439.0</td>\n",
       "      <td>826306.0</td>\n",
       "      <td>16616.0</td>\n",
       "      <td>42779.0</td>\n",
       "      <td>5342.0</td>\n",
       "      <td>4079.0</td>\n",
       "      <td>...</td>\n",
       "      <td>2021-02-07T24:00:00Z</td>\n",
       "      <td>NaN</td>\n",
       "      <td>0</td>\n",
       "      <td>0</td>\n",
       "      <td>1475</td>\n",
       "      <td>1543</td>\n",
       "      <td>393480</td>\n",
       "      <td>95994</td>\n",
       "      <td>1498467</td>\n",
       "      <td>652854f6dbc5adcea89dd9eb3338eba0c155b458</td>\n",
       "    </tr>\n",
       "    <tr>\n",
       "      <th>2021-02-06</th>\n",
       "      <td>56</td>\n",
       "      <td>26701332.0</td>\n",
       "      <td>119519673.0</td>\n",
       "      <td>12070.0</td>\n",
       "      <td>84233.0</td>\n",
       "      <td>824763.0</td>\n",
       "      <td>17093.0</td>\n",
       "      <td>42730.0</td>\n",
       "      <td>5475.0</td>\n",
       "      <td>4078.0</td>\n",
       "      <td>...</td>\n",
       "      <td>2021-02-06T24:00:00Z</td>\n",
       "      <td>NaN</td>\n",
       "      <td>0</td>\n",
       "      <td>0</td>\n",
       "      <td>2994</td>\n",
       "      <td>2443</td>\n",
       "      <td>518729</td>\n",
       "      <td>114557</td>\n",
       "      <td>1881694</td>\n",
       "      <td>049e3795a89dd7b777094aaecc923ed916ea3aee</td>\n",
       "    </tr>\n",
       "    <tr>\n",
       "      <th>2021-02-05</th>\n",
       "      <td>56</td>\n",
       "      <td>26586775.0</td>\n",
       "      <td>119000944.0</td>\n",
       "      <td>11546.0</td>\n",
       "      <td>86373.0</td>\n",
       "      <td>822320.0</td>\n",
       "      <td>17284.0</td>\n",
       "      <td>42626.0</td>\n",
       "      <td>5596.0</td>\n",
       "      <td>4060.0</td>\n",
       "      <td>...</td>\n",
       "      <td>2021-02-05T24:00:00Z</td>\n",
       "      <td>NaN</td>\n",
       "      <td>0</td>\n",
       "      <td>0</td>\n",
       "      <td>3543</td>\n",
       "      <td>2940</td>\n",
       "      <td>595505</td>\n",
       "      <td>131146</td>\n",
       "      <td>1879114</td>\n",
       "      <td>ea7540de670c42935d25446d48c71a2c399f58b0</td>\n",
       "    </tr>\n",
       "    <tr>\n",
       "      <th>2021-02-04</th>\n",
       "      <td>56</td>\n",
       "      <td>26455629.0</td>\n",
       "      <td>118405439.0</td>\n",
       "      <td>11914.0</td>\n",
       "      <td>88668.0</td>\n",
       "      <td>819380.0</td>\n",
       "      <td>17918.0</td>\n",
       "      <td>42472.0</td>\n",
       "      <td>5732.0</td>\n",
       "      <td>4059.0</td>\n",
       "      <td>...</td>\n",
       "      <td>2021-02-04T24:00:00Z</td>\n",
       "      <td>NaN</td>\n",
       "      <td>0</td>\n",
       "      <td>0</td>\n",
       "      <td>5212</td>\n",
       "      <td>3402</td>\n",
       "      <td>518526</td>\n",
       "      <td>123907</td>\n",
       "      <td>1678444</td>\n",
       "      <td>c90621bc51e1e4284915d8ecfd479dbc91020299</td>\n",
       "    </tr>\n",
       "  </tbody>\n",
       "</table>\n",
       "<p>5 rows × 24 columns</p>\n",
       "</div>"
      ],
      "text/plain": [
       "            states    positive     negative  pending  hospitalizedCurrently  \\\n",
       "date                                                                          \n",
       "2021-02-08      56  26875063.0  124779892.0  12114.0                80055.0   \n",
       "2021-02-07      56  26797326.0  119913153.0  12061.0                81439.0   \n",
       "2021-02-06      56  26701332.0  119519673.0  12070.0                84233.0   \n",
       "2021-02-05      56  26586775.0  119000944.0  11546.0                86373.0   \n",
       "2021-02-04      56  26455629.0  118405439.0  11914.0                88668.0   \n",
       "\n",
       "            hospitalizedCumulative  inIcuCurrently  inIcuCumulative  \\\n",
       "date                                                                  \n",
       "2021-02-08                827944.0         16174.0          42833.0   \n",
       "2021-02-07                826306.0         16616.0          42779.0   \n",
       "2021-02-06                824763.0         17093.0          42730.0   \n",
       "2021-02-05                822320.0         17284.0          42626.0   \n",
       "2021-02-04                819380.0         17918.0          42472.0   \n",
       "\n",
       "            onVentilatorCurrently  onVentilatorCumulative  ...  \\\n",
       "date                                                       ...   \n",
       "2021-02-08                 5260.0                  4080.0  ...   \n",
       "2021-02-07                 5342.0                  4079.0  ...   \n",
       "2021-02-06                 5475.0                  4078.0  ...   \n",
       "2021-02-05                 5596.0                  4060.0  ...   \n",
       "2021-02-04                 5732.0                  4059.0  ...   \n",
       "\n",
       "                    lastModified  recovered  total  posNeg deathIncrease  \\\n",
       "date                                                                       \n",
       "2021-02-08  2021-02-08T24:00:00Z        NaN      0       0          1309   \n",
       "2021-02-07  2021-02-07T24:00:00Z        NaN      0       0          1475   \n",
       "2021-02-06  2021-02-06T24:00:00Z        NaN      0       0          2994   \n",
       "2021-02-05  2021-02-05T24:00:00Z        NaN      0       0          3543   \n",
       "2021-02-04  2021-02-04T24:00:00Z        NaN      0       0          5212   \n",
       "\n",
       "            hospitalizedIncrease  negativeIncrease  positiveIncrease  \\\n",
       "date                                                                   \n",
       "2021-02-08                  1638           4866739             77737   \n",
       "2021-02-07                  1543            393480             95994   \n",
       "2021-02-06                  2443            518729            114557   \n",
       "2021-02-05                  2940            595505            131146   \n",
       "2021-02-04                  3402            518526            123907   \n",
       "\n",
       "            totalTestResultsIncrease                                      hash  \n",
       "date                                                                            \n",
       "2021-02-08                   1434298  fe5eb3c282fee2b8fa0cacce8bc9497711b286db  \n",
       "2021-02-07                   1498467  652854f6dbc5adcea89dd9eb3338eba0c155b458  \n",
       "2021-02-06                   1881694  049e3795a89dd7b777094aaecc923ed916ea3aee  \n",
       "2021-02-05                   1879114  ea7540de670c42935d25446d48c71a2c399f58b0  \n",
       "2021-02-04                   1678444  c90621bc51e1e4284915d8ecfd479dbc91020299  \n",
       "\n",
       "[5 rows x 24 columns]"
      ]
     },
     "execution_count": 10,
     "metadata": {},
     "output_type": "execute_result"
    }
   ],
   "source": [
    "df_whole_US.head()"
   ]
  },
  {
   "cell_type": "markdown",
   "metadata": {},
   "source": [
    "### Plot of Ventilators and Deaths for Each State"
   ]
  },
  {
   "cell_type": "code",
   "execution_count": 11,
   "metadata": {
    "scrolled": true
   },
   "outputs": [
    {
     "data": {
      "text/plain": [
       "state                              0\n",
       "positive                         189\n",
       "probableCases                  11015\n",
       "negative                        3927\n",
       "pending                        17257\n",
       "totalTestResultsSource             0\n",
       "totalTestResults                 102\n",
       "hospitalizedCurrently           3354\n",
       "hospitalizedCumulative          7396\n",
       "inIcuCurrently                  8861\n",
       "inIcuCumulative                15793\n",
       "onVentilatorCurrently          11003\n",
       "onVentilatorCumulative         18076\n",
       "recovered                       5445\n",
       "dataQualityGrade                1333\n",
       "lastUpdateEt                     582\n",
       "dateModified                     582\n",
       "checkTimeEt                      582\n",
       "death                            871\n",
       "hospitalized                    7396\n",
       "dateChecked                      582\n",
       "totalTestsViral                 6518\n",
       "positiveTestsViral             11863\n",
       "negativeTestsViral             14831\n",
       "positiveCasesViral              5764\n",
       "deathConfirmed                 10304\n",
       "deathProbable                  12417\n",
       "totalTestEncountersViral       14408\n",
       "totalTestsPeopleViral          10762\n",
       "totalTestsAntibody             14912\n",
       "positiveTestsAntibody          15919\n",
       "negativeTestsAntibody          17882\n",
       "totalTestsPeopleAntibody       17555\n",
       "positiveTestsPeopleAntibody    18275\n",
       "negativeTestsPeopleAntibody    18370\n",
       "totalTestsPeopleAntigen        18397\n",
       "positiveTestsPeopleAntigen     18709\n",
       "totalTestsAntigen              16412\n",
       "positiveTestsAntigen           17387\n",
       "fips                               0\n",
       "positiveIncrease                   0\n",
       "negativeIncrease                   0\n",
       "total                              0\n",
       "totalTestResultsIncrease           0\n",
       "posNeg                             0\n",
       "deathIncrease                      0\n",
       "hospitalizedIncrease               0\n",
       "hash                               0\n",
       "commercialScore                    0\n",
       "negativeRegularScore               0\n",
       "negativeScore                      0\n",
       "positiveScore                      0\n",
       "score                              0\n",
       "grade                          19261\n",
       "dtype: int64"
      ]
     },
     "execution_count": 11,
     "metadata": {},
     "output_type": "execute_result"
    }
   ],
   "source": [
    "df_states.isnull().sum()"
   ]
  },
  {
   "cell_type": "code",
   "execution_count": 12,
   "metadata": {},
   "outputs": [],
   "source": [
    "df_states['death'] = df_states['death'].fillna(0) # nan values for death counts are from early 2020 when there were no deaths\n",
    "df_states['onVentilatorCurrently'] = df_states['onVentilatorCurrently'].fillna(0) # same for onVentilatorCurrently column"
   ]
  },
  {
   "cell_type": "code",
   "execution_count": 13,
   "metadata": {
    "scrolled": true
   },
   "outputs": [],
   "source": [
    "df_states = sort_and_clean_df(df_states,'onVentilatorCurrently',.05)"
   ]
  },
  {
   "cell_type": "code",
   "execution_count": 14,
   "metadata": {
    "scrolled": true
   },
   "outputs": [
    {
     "data": {
      "text/html": [
       "<div>\n",
       "<style scoped>\n",
       "    .dataframe tbody tr th:only-of-type {\n",
       "        vertical-align: middle;\n",
       "    }\n",
       "\n",
       "    .dataframe tbody tr th {\n",
       "        vertical-align: top;\n",
       "    }\n",
       "\n",
       "    .dataframe thead th {\n",
       "        text-align: right;\n",
       "    }\n",
       "</style>\n",
       "<table border=\"1\" class=\"dataframe\">\n",
       "  <thead>\n",
       "    <tr style=\"text-align: right;\">\n",
       "      <th></th>\n",
       "      <th>state</th>\n",
       "      <th>positive</th>\n",
       "      <th>negative</th>\n",
       "      <th>onVentilatorCurrently</th>\n",
       "      <th>death</th>\n",
       "    </tr>\n",
       "    <tr>\n",
       "      <th>date</th>\n",
       "      <th></th>\n",
       "      <th></th>\n",
       "      <th></th>\n",
       "      <th></th>\n",
       "      <th></th>\n",
       "    </tr>\n",
       "  </thead>\n",
       "  <tbody>\n",
       "    <tr>\n",
       "      <th>2021-02-08</th>\n",
       "      <td>CA</td>\n",
       "      <td>3346340.0</td>\n",
       "      <td>0.0</td>\n",
       "      <td>0.0</td>\n",
       "      <td>44150.0</td>\n",
       "    </tr>\n",
       "    <tr>\n",
       "      <th>2021-02-08</th>\n",
       "      <td>TX</td>\n",
       "      <td>2491227.0</td>\n",
       "      <td>0.0</td>\n",
       "      <td>0.0</td>\n",
       "      <td>38700.0</td>\n",
       "    </tr>\n",
       "    <tr>\n",
       "      <th>2021-02-08</th>\n",
       "      <td>NY</td>\n",
       "      <td>1479220.0</td>\n",
       "      <td>0.0</td>\n",
       "      <td>961.0</td>\n",
       "      <td>36339.0</td>\n",
       "    </tr>\n",
       "    <tr>\n",
       "      <th>2021-02-08</th>\n",
       "      <td>FL</td>\n",
       "      <td>1751343.0</td>\n",
       "      <td>8674916.0</td>\n",
       "      <td>0.0</td>\n",
       "      <td>28287.0</td>\n",
       "    </tr>\n",
       "    <tr>\n",
       "      <th>2021-02-08</th>\n",
       "      <td>PA</td>\n",
       "      <td>872825.0</td>\n",
       "      <td>3709112.0</td>\n",
       "      <td>296.0</td>\n",
       "      <td>22471.0</td>\n",
       "    </tr>\n",
       "    <tr>\n",
       "      <th>2021-02-08</th>\n",
       "      <td>NJ</td>\n",
       "      <td>724728.0</td>\n",
       "      <td>8998911.0</td>\n",
       "      <td>373.0</td>\n",
       "      <td>22011.0</td>\n",
       "    </tr>\n",
       "    <tr>\n",
       "      <th>2021-02-08</th>\n",
       "      <td>IL</td>\n",
       "      <td>1148088.0</td>\n",
       "      <td>15535707.0</td>\n",
       "      <td>251.0</td>\n",
       "      <td>21779.0</td>\n",
       "    </tr>\n",
       "    <tr>\n",
       "      <th>2021-02-08</th>\n",
       "      <td>MI</td>\n",
       "      <td>622813.0</td>\n",
       "      <td>9039456.0</td>\n",
       "      <td>163.0</td>\n",
       "      <td>15863.0</td>\n",
       "    </tr>\n",
       "    <tr>\n",
       "      <th>2021-02-08</th>\n",
       "      <td>GA</td>\n",
       "      <td>943695.0</td>\n",
       "      <td>0.0</td>\n",
       "      <td>0.0</td>\n",
       "      <td>15130.0</td>\n",
       "    </tr>\n",
       "    <tr>\n",
       "      <th>2021-02-08</th>\n",
       "      <td>MA</td>\n",
       "      <td>545303.0</td>\n",
       "      <td>4172254.0</td>\n",
       "      <td>188.0</td>\n",
       "      <td>15054.0</td>\n",
       "    </tr>\n",
       "    <tr>\n",
       "      <th>2021-02-08</th>\n",
       "      <td>AZ</td>\n",
       "      <td>782887.0</td>\n",
       "      <td>2820314.0</td>\n",
       "      <td>536.0</td>\n",
       "      <td>14055.0</td>\n",
       "    </tr>\n",
       "    <tr>\n",
       "      <th>2021-02-08</th>\n",
       "      <td>IN</td>\n",
       "      <td>640744.0</td>\n",
       "      <td>2370441.0</td>\n",
       "      <td>146.0</td>\n",
       "      <td>11875.0</td>\n",
       "    </tr>\n",
       "    <tr>\n",
       "      <th>2021-02-08</th>\n",
       "      <td>OH</td>\n",
       "      <td>922143.0</td>\n",
       "      <td>0.0</td>\n",
       "      <td>351.0</td>\n",
       "      <td>11695.0</td>\n",
       "    </tr>\n",
       "    <tr>\n",
       "      <th>2021-02-08</th>\n",
       "      <td>TN</td>\n",
       "      <td>745826.0</td>\n",
       "      <td>5856972.0</td>\n",
       "      <td>208.0</td>\n",
       "      <td>10566.0</td>\n",
       "    </tr>\n",
       "    <tr>\n",
       "      <th>2021-02-08</th>\n",
       "      <td>NC</td>\n",
       "      <td>799279.0</td>\n",
       "      <td>8605230.0</td>\n",
       "      <td>0.0</td>\n",
       "      <td>9991.0</td>\n",
       "    </tr>\n",
       "    <tr>\n",
       "      <th>2021-02-08</th>\n",
       "      <td>LA</td>\n",
       "      <td>412989.0</td>\n",
       "      <td>4783768.0</td>\n",
       "      <td>149.0</td>\n",
       "      <td>9142.0</td>\n",
       "    </tr>\n",
       "    <tr>\n",
       "      <th>2021-02-08</th>\n",
       "      <td>AL</td>\n",
       "      <td>473348.0</td>\n",
       "      <td>1820080.0</td>\n",
       "      <td>0.0</td>\n",
       "      <td>8523.0</td>\n",
       "    </tr>\n",
       "    <tr>\n",
       "      <th>2021-02-08</th>\n",
       "      <td>SC</td>\n",
       "      <td>468403.0</td>\n",
       "      <td>4026401.0</td>\n",
       "      <td>211.0</td>\n",
       "      <td>7690.0</td>\n",
       "    </tr>\n",
       "    <tr>\n",
       "      <th>2021-02-08</th>\n",
       "      <td>MD</td>\n",
       "      <td>364553.0</td>\n",
       "      <td>2890239.0</td>\n",
       "      <td>0.0</td>\n",
       "      <td>7372.0</td>\n",
       "    </tr>\n",
       "    <tr>\n",
       "      <th>2021-02-08</th>\n",
       "      <td>CT</td>\n",
       "      <td>263739.0</td>\n",
       "      <td>5818147.0</td>\n",
       "      <td>0.0</td>\n",
       "      <td>7282.0</td>\n",
       "    </tr>\n",
       "    <tr>\n",
       "      <th>2021-02-08</th>\n",
       "      <td>MO</td>\n",
       "      <td>466664.0</td>\n",
       "      <td>1801580.0</td>\n",
       "      <td>194.0</td>\n",
       "      <td>7143.0</td>\n",
       "    </tr>\n",
       "    <tr>\n",
       "      <th>2021-02-08</th>\n",
       "      <td>VA</td>\n",
       "      <td>530825.0</td>\n",
       "      <td>0.0</td>\n",
       "      <td>298.0</td>\n",
       "      <td>6820.0</td>\n",
       "    </tr>\n",
       "    <tr>\n",
       "      <th>2021-02-08</th>\n",
       "      <td>MN</td>\n",
       "      <td>468682.0</td>\n",
       "      <td>2873714.0</td>\n",
       "      <td>0.0</td>\n",
       "      <td>6302.0</td>\n",
       "    </tr>\n",
       "    <tr>\n",
       "      <th>2021-02-08</th>\n",
       "      <td>MS</td>\n",
       "      <td>282313.0</td>\n",
       "      <td>1327630.0</td>\n",
       "      <td>120.0</td>\n",
       "      <td>6270.0</td>\n",
       "    </tr>\n",
       "    <tr>\n",
       "      <th>2021-02-08</th>\n",
       "      <td>CO</td>\n",
       "      <td>406276.0</td>\n",
       "      <td>2073084.0</td>\n",
       "      <td>0.0</td>\n",
       "      <td>5733.0</td>\n",
       "    </tr>\n",
       "    <tr>\n",
       "      <th>2021-02-08</th>\n",
       "      <td>IA</td>\n",
       "      <td>271698.0</td>\n",
       "      <td>997721.0</td>\n",
       "      <td>35.0</td>\n",
       "      <td>5110.0</td>\n",
       "    </tr>\n",
       "    <tr>\n",
       "      <th>2021-02-08</th>\n",
       "      <td>AR</td>\n",
       "      <td>307373.0</td>\n",
       "      <td>2290742.0</td>\n",
       "      <td>142.0</td>\n",
       "      <td>5106.0</td>\n",
       "    </tr>\n",
       "    <tr>\n",
       "      <th>2021-02-08</th>\n",
       "      <td>NV</td>\n",
       "      <td>284590.0</td>\n",
       "      <td>1070320.0</td>\n",
       "      <td>147.0</td>\n",
       "      <td>4522.0</td>\n",
       "    </tr>\n",
       "    <tr>\n",
       "      <th>2021-02-08</th>\n",
       "      <td>KS</td>\n",
       "      <td>282960.0</td>\n",
       "      <td>920799.0</td>\n",
       "      <td>39.0</td>\n",
       "      <td>4197.0</td>\n",
       "    </tr>\n",
       "    <tr>\n",
       "      <th>2021-02-08</th>\n",
       "      <td>KY</td>\n",
       "      <td>378793.0</td>\n",
       "      <td>0.0</td>\n",
       "      <td>142.0</td>\n",
       "      <td>4091.0</td>\n",
       "    </tr>\n",
       "    <tr>\n",
       "      <th>2021-02-08</th>\n",
       "      <td>OK</td>\n",
       "      <td>404994.0</td>\n",
       "      <td>2889535.0</td>\n",
       "      <td>0.0</td>\n",
       "      <td>3817.0</td>\n",
       "    </tr>\n",
       "    <tr>\n",
       "      <th>2021-02-08</th>\n",
       "      <td>NM</td>\n",
       "      <td>177867.0</td>\n",
       "      <td>2261983.0</td>\n",
       "      <td>0.0</td>\n",
       "      <td>3412.0</td>\n",
       "    </tr>\n",
       "    <tr>\n",
       "      <th>2021-02-08</th>\n",
       "      <td>RI</td>\n",
       "      <td>119104.0</td>\n",
       "      <td>675090.0</td>\n",
       "      <td>20.0</td>\n",
       "      <td>2236.0</td>\n",
       "    </tr>\n",
       "    <tr>\n",
       "      <th>2021-02-08</th>\n",
       "      <td>OR</td>\n",
       "      <td>147122.0</td>\n",
       "      <td>0.0</td>\n",
       "      <td>28.0</td>\n",
       "      <td>2023.0</td>\n",
       "    </tr>\n",
       "    <tr>\n",
       "      <th>2021-02-08</th>\n",
       "      <td>NE</td>\n",
       "      <td>193826.0</td>\n",
       "      <td>742775.0</td>\n",
       "      <td>0.0</td>\n",
       "      <td>1968.0</td>\n",
       "    </tr>\n",
       "    <tr>\n",
       "      <th>2021-02-08</th>\n",
       "      <td>PR</td>\n",
       "      <td>96161.0</td>\n",
       "      <td>305972.0</td>\n",
       "      <td>44.0</td>\n",
       "      <td>1888.0</td>\n",
       "    </tr>\n",
       "    <tr>\n",
       "      <th>2021-02-08</th>\n",
       "      <td>SD</td>\n",
       "      <td>109283.0</td>\n",
       "      <td>298513.0</td>\n",
       "      <td>12.0</td>\n",
       "      <td>1809.0</td>\n",
       "    </tr>\n",
       "    <tr>\n",
       "      <th>2021-02-08</th>\n",
       "      <td>ID</td>\n",
       "      <td>165209.0</td>\n",
       "      <td>478767.0</td>\n",
       "      <td>0.0</td>\n",
       "      <td>1767.0</td>\n",
       "    </tr>\n",
       "    <tr>\n",
       "      <th>2021-02-08</th>\n",
       "      <td>UT</td>\n",
       "      <td>355122.0</td>\n",
       "      <td>1465488.0</td>\n",
       "      <td>0.0</td>\n",
       "      <td>1738.0</td>\n",
       "    </tr>\n",
       "    <tr>\n",
       "      <th>2021-02-08</th>\n",
       "      <td>ND</td>\n",
       "      <td>98184.0</td>\n",
       "      <td>299198.0</td>\n",
       "      <td>0.0</td>\n",
       "      <td>1454.0</td>\n",
       "    </tr>\n",
       "    <tr>\n",
       "      <th>2021-02-08</th>\n",
       "      <td>MT</td>\n",
       "      <td>95914.0</td>\n",
       "      <td>899586.0</td>\n",
       "      <td>10.0</td>\n",
       "      <td>1314.0</td>\n",
       "    </tr>\n",
       "    <tr>\n",
       "      <th>2021-02-08</th>\n",
       "      <td>DE</td>\n",
       "      <td>80931.0</td>\n",
       "      <td>517520.0</td>\n",
       "      <td>0.0</td>\n",
       "      <td>1208.0</td>\n",
       "    </tr>\n",
       "    <tr>\n",
       "      <th>2021-02-08</th>\n",
       "      <td>NH</td>\n",
       "      <td>68499.0</td>\n",
       "      <td>560059.0</td>\n",
       "      <td>0.0</td>\n",
       "      <td>1106.0</td>\n",
       "    </tr>\n",
       "    <tr>\n",
       "      <th>2021-02-08</th>\n",
       "      <td>DC</td>\n",
       "      <td>38136.0</td>\n",
       "      <td>0.0</td>\n",
       "      <td>30.0</td>\n",
       "      <td>956.0</td>\n",
       "    </tr>\n",
       "    <tr>\n",
       "      <th>2021-02-08</th>\n",
       "      <td>ME</td>\n",
       "      <td>41419.0</td>\n",
       "      <td>1422112.0</td>\n",
       "      <td>13.0</td>\n",
       "      <td>636.0</td>\n",
       "    </tr>\n",
       "    <tr>\n",
       "      <th>2021-02-08</th>\n",
       "      <td>HI</td>\n",
       "      <td>27195.0</td>\n",
       "      <td>0.0</td>\n",
       "      <td>16.0</td>\n",
       "      <td>418.0</td>\n",
       "    </tr>\n",
       "    <tr>\n",
       "      <th>2021-02-08</th>\n",
       "      <td>AK</td>\n",
       "      <td>53694.0</td>\n",
       "      <td>0.0</td>\n",
       "      <td>9.0</td>\n",
       "      <td>279.0</td>\n",
       "    </tr>\n",
       "    <tr>\n",
       "      <th>2021-02-08</th>\n",
       "      <td>GU</td>\n",
       "      <td>7664.0</td>\n",
       "      <td>102730.0</td>\n",
       "      <td>3.0</td>\n",
       "      <td>130.0</td>\n",
       "    </tr>\n",
       "    <tr>\n",
       "      <th>2021-02-08</th>\n",
       "      <td>MP</td>\n",
       "      <td>133.0</td>\n",
       "      <td>17429.0</td>\n",
       "      <td>0.0</td>\n",
       "      <td>2.0</td>\n",
       "    </tr>\n",
       "    <tr>\n",
       "      <th>2021-02-08</th>\n",
       "      <td>AS</td>\n",
       "      <td>0.0</td>\n",
       "      <td>2140.0</td>\n",
       "      <td>0.0</td>\n",
       "      <td>0.0</td>\n",
       "    </tr>\n",
       "  </tbody>\n",
       "</table>\n",
       "</div>"
      ],
      "text/plain": [
       "           state   positive    negative  onVentilatorCurrently    death\n",
       "date                                                                   \n",
       "2021-02-08    CA  3346340.0         0.0                    0.0  44150.0\n",
       "2021-02-08    TX  2491227.0         0.0                    0.0  38700.0\n",
       "2021-02-08    NY  1479220.0         0.0                  961.0  36339.0\n",
       "2021-02-08    FL  1751343.0   8674916.0                    0.0  28287.0\n",
       "2021-02-08    PA   872825.0   3709112.0                  296.0  22471.0\n",
       "2021-02-08    NJ   724728.0   8998911.0                  373.0  22011.0\n",
       "2021-02-08    IL  1148088.0  15535707.0                  251.0  21779.0\n",
       "2021-02-08    MI   622813.0   9039456.0                  163.0  15863.0\n",
       "2021-02-08    GA   943695.0         0.0                    0.0  15130.0\n",
       "2021-02-08    MA   545303.0   4172254.0                  188.0  15054.0\n",
       "2021-02-08    AZ   782887.0   2820314.0                  536.0  14055.0\n",
       "2021-02-08    IN   640744.0   2370441.0                  146.0  11875.0\n",
       "2021-02-08    OH   922143.0         0.0                  351.0  11695.0\n",
       "2021-02-08    TN   745826.0   5856972.0                  208.0  10566.0\n",
       "2021-02-08    NC   799279.0   8605230.0                    0.0   9991.0\n",
       "2021-02-08    LA   412989.0   4783768.0                  149.0   9142.0\n",
       "2021-02-08    AL   473348.0   1820080.0                    0.0   8523.0\n",
       "2021-02-08    SC   468403.0   4026401.0                  211.0   7690.0\n",
       "2021-02-08    MD   364553.0   2890239.0                    0.0   7372.0\n",
       "2021-02-08    CT   263739.0   5818147.0                    0.0   7282.0\n",
       "2021-02-08    MO   466664.0   1801580.0                  194.0   7143.0\n",
       "2021-02-08    VA   530825.0         0.0                  298.0   6820.0\n",
       "2021-02-08    MN   468682.0   2873714.0                    0.0   6302.0\n",
       "2021-02-08    MS   282313.0   1327630.0                  120.0   6270.0\n",
       "2021-02-08    CO   406276.0   2073084.0                    0.0   5733.0\n",
       "2021-02-08    IA   271698.0    997721.0                   35.0   5110.0\n",
       "2021-02-08    AR   307373.0   2290742.0                  142.0   5106.0\n",
       "2021-02-08    NV   284590.0   1070320.0                  147.0   4522.0\n",
       "2021-02-08    KS   282960.0    920799.0                   39.0   4197.0\n",
       "2021-02-08    KY   378793.0         0.0                  142.0   4091.0\n",
       "2021-02-08    OK   404994.0   2889535.0                    0.0   3817.0\n",
       "2021-02-08    NM   177867.0   2261983.0                    0.0   3412.0\n",
       "2021-02-08    RI   119104.0    675090.0                   20.0   2236.0\n",
       "2021-02-08    OR   147122.0         0.0                   28.0   2023.0\n",
       "2021-02-08    NE   193826.0    742775.0                    0.0   1968.0\n",
       "2021-02-08    PR    96161.0    305972.0                   44.0   1888.0\n",
       "2021-02-08    SD   109283.0    298513.0                   12.0   1809.0\n",
       "2021-02-08    ID   165209.0    478767.0                    0.0   1767.0\n",
       "2021-02-08    UT   355122.0   1465488.0                    0.0   1738.0\n",
       "2021-02-08    ND    98184.0    299198.0                    0.0   1454.0\n",
       "2021-02-08    MT    95914.0    899586.0                   10.0   1314.0\n",
       "2021-02-08    DE    80931.0    517520.0                    0.0   1208.0\n",
       "2021-02-08    NH    68499.0    560059.0                    0.0   1106.0\n",
       "2021-02-08    DC    38136.0         0.0                   30.0    956.0\n",
       "2021-02-08    ME    41419.0   1422112.0                   13.0    636.0\n",
       "2021-02-08    HI    27195.0         0.0                   16.0    418.0\n",
       "2021-02-08    AK    53694.0         0.0                    9.0    279.0\n",
       "2021-02-08    GU     7664.0    102730.0                    3.0    130.0\n",
       "2021-02-08    MP      133.0     17429.0                    0.0      2.0\n",
       "2021-02-08    AS        0.0      2140.0                    0.0      0.0"
      ]
     },
     "execution_count": 14,
     "metadata": {},
     "output_type": "execute_result"
    }
   ],
   "source": [
    "df_states.iloc[:50].sort_values(by='death',ascending=False) # only graph the top 7 \n",
    "# that keep state ventilator data"
   ]
  },
  {
   "cell_type": "code",
   "execution_count": 15,
   "metadata": {
    "scrolled": false
   },
   "outputs": [
    {
     "data": {
      "text/plain": [
       "array(['AK', 'AL', 'AR', 'AS', 'AZ', 'CA', 'CO', 'CT', 'DC', 'DE', 'FL',\n",
       "       'GA', 'GU', 'HI', 'IA', 'ID', 'IL', 'IN', 'KS', 'KY', 'LA', 'MA',\n",
       "       'MD', 'ME', 'MI', 'MN', 'MO', 'MP', 'MS', 'MT', 'NC', 'ND', 'NE',\n",
       "       'NH', 'NJ', 'NM', 'NV', 'NY', 'OH', 'OK', 'OR', 'PA', 'PR', 'RI',\n",
       "       'SC', 'SD', 'TN', 'TX', 'UT', 'VA', 'VI', 'VT', 'WA', 'WI', 'WV',\n",
       "       'WY'], dtype=object)"
      ]
     },
     "execution_count": 15,
     "metadata": {},
     "output_type": "execute_result"
    }
   ],
   "source": [
    "df_states['state'].unique() # list of states to iterate through"
   ]
  },
  {
   "cell_type": "code",
   "execution_count": 16,
   "metadata": {},
   "outputs": [],
   "source": [
    "# list of unique state postal codes\n",
    "# state_postal = ['AK', 'AL', 'AR', 'AS', 'AZ', 'CA', 'CO', 'CT', 'DC', 'DE', 'FL',\n",
    "#        'GA', 'GU', 'HI', 'IA', 'ID', 'IL', 'IN', 'KS', 'KY', 'LA', 'MA',\n",
    "#        'MD', 'ME', 'MI', 'MN', 'MO', 'MP', 'MS', 'MT', 'NC', 'ND', 'NE',\n",
    "#        'NH', 'NJ', 'NM', 'NV', 'NY', 'OH', 'OK', 'OR', 'PA', 'PR', 'RI',\n",
    "#        'SC', 'SD', 'TN', 'TX', 'UT', 'VA', 'VI', 'VT', 'WA', 'WI', 'WV',\n",
    "#        'WY']\n",
    "\n",
    "state_postal = ['CA', 'NY', 'TX', 'FL', 'PA', 'NJ','IL','MI','MA'] # highest death count states\n",
    "# some do not have ventilator data reported. "
   ]
  },
  {
   "cell_type": "code",
   "execution_count": 17,
   "metadata": {
    "scrolled": false
   },
   "outputs": [
    {
     "data": {
      "image/png": "[encoded data removed]",
      "text/plain": [
       "<Figure size 1008x504 with 1 Axes>"
      ]
     },
     "metadata": {},
     "output_type": "display_data"
    }
   ],
   "source": [
    "# for loop iterates through shortened list and prints ventilator usage\n",
    "# for the trailing 180 day period. \n",
    "state_postal = ['NY', 'PA', 'NJ','IL','MI','MA']\n",
    "\n",
    "fig = plt.figure(figsize=(14,7));\n",
    "\n",
    "for state in state_postal:\n",
    "    df_individual = df_states[df_states['state']==state]['onVentilatorCurrently'].sort_index()\n",
    "    df_plot = df_individual.iloc[(df_individual.index.argmax()-180):(df_individual.index.argmax())]\n",
    "    plt.plot(df_plot,label=f'{state}');\n",
    "    plt.title('Number of People on Ventilators')\n",
    "    plt.xlabel('Date')\n",
    "    plt.ylabel('People')\n",
    "    plt.legend();\n"
   ]
  },
  {
   "cell_type": "code",
   "execution_count": 18,
   "metadata": {
    "scrolled": false
   },
   "outputs": [
    {
     "data": {
      "image/png": "[encoded data removed]",
      "text/plain": [
       "<Figure size 1008x504 with 1 Axes>"
      ]
     },
     "metadata": {},
     "output_type": "display_data"
    }
   ],
   "source": [
    "# same as above graph - all states have death data, this is a graph of the\n",
    "# states with the highest covid mortality \n",
    "state_postal = ['CA', 'NY', 'TX', 'FL', 'PA', 'NJ','IL','MI','MA']\n",
    "\n",
    "fig = plt.figure(figsize=(14,7));\n",
    "\n",
    "for state in state_postal:\n",
    "    df_individual = df_states[df_states['state']==state].death.sort_index()\n",
    "    df_plot = df_individual.iloc[(df_individual.index.argmax()-180):(df_individual.index.argmax())]\n",
    "    plt.plot(df_plot,label=f'{state}');\n",
    "    plt.title('Number of Total Covid Related Deaths')\n",
    "    plt.xlabel('Date')\n",
    "    plt.ylabel('Deaths')\n",
    "    plt.legend();"
   ]
  },
  {
   "cell_type": "markdown",
   "metadata": {},
   "source": [
    "### Plot Alaska Death Count"
   ]
  },
  {
   "cell_type": "code",
   "execution_count": 19,
   "metadata": {},
   "outputs": [],
   "source": [
    "df_AK = df_states[df_states['state']=='AK'] # just look at Alaska for now"
   ]
  },
  {
   "cell_type": "code",
   "execution_count": 20,
   "metadata": {
    "scrolled": false
   },
   "outputs": [
    {
     "data": {
      "image/png": "[encoded data removed]",
      "text/plain": [
       "<Figure size 1080x504 with 1 Axes>"
      ]
     },
     "metadata": {},
     "output_type": "display_data"
    }
   ],
   "source": [
    "fig = plt.figure(figsize=(15,7));\n",
    "\n",
    "df_AK['death'].plot(legend=True,title='Current Ventilator Usage and Death Totals');\n",
    "df_AK['onVentilatorCurrently'].plot(legend=True);"
   ]
  },
  {
   "cell_type": "markdown",
   "metadata": {},
   "source": [
    "## Modeling and Forecasts"
   ]
  },
  {
   "cell_type": "markdown",
   "metadata": {},
   "source": [
    "### Auto Regression Models"
   ]
  },
  {
   "cell_type": "markdown",
   "metadata": {},
   "source": [
    "### Working Model with Exogenous Input (Ventilator forecast)"
   ]
  },
  {
   "cell_type": "code",
   "execution_count": 21,
   "metadata": {
    "scrolled": true
   },
   "outputs": [
    {
     "name": "stdout",
     "output_type": "stream",
     "text": [
      "Successfully returned indexed dataframe for AK\n"
     ]
    }
   ],
   "source": [
    "alaska_ref = state_dataframe(df_states, 'AK')"
   ]
  },
  {
   "cell_type": "code",
   "execution_count": 22,
   "metadata": {
    "scrolled": true
   },
   "outputs": [
    {
     "name": "stdout",
     "output_type": "stream",
     "text": [
      "Successfully returned indexed dataframe for AK\n"
     ]
    }
   ],
   "source": [
    "alaska_df = state_dataframe(df_states, 'AK')"
   ]
  },
  {
   "cell_type": "code",
   "execution_count": 23,
   "metadata": {
    "scrolled": true
   },
   "outputs": [
    {
     "name": "stdout",
     "output_type": "stream",
     "text": [
      "ARIMA order is:  (0, 1, 1)\n",
      "Seasonal ARIMA order is:  (0, 0, 0, 52)\n",
      "Use ARIMA object stepwise_fit to store ARIMA and seasonal ARIMA orders in variables.\n"
     ]
    }
   ],
   "source": [
    "stepwise_fit, results = return_sarima_model(alaska_df, 'onVentilatorCurrently', days=30)"
   ]
  },
  {
   "cell_type": "code",
   "execution_count": 24,
   "metadata": {},
   "outputs": [
    {
     "data": {
      "image/png": "[encoded data removed]",
      "text/plain": [
       "<Figure size 1008x576 with 1 Axes>"
      ]
     },
     "metadata": {},
     "output_type": "display_data"
    }
   ],
   "source": [
    "evaluate_predictions(results, alaska_df, 'onVentilatorCurrently', days=30, stepwise_fit=stepwise_fit)"
   ]
  },
  {
   "cell_type": "code",
   "execution_count": 25,
   "metadata": {
    "scrolled": false
   },
   "outputs": [
    {
     "data": {
      "image/png": "[encoded data removed]",
      "text/plain": [
       "<Figure size 1008x504 with 1 Axes>"
      ]
     },
     "metadata": {},
     "output_type": "display_data"
    }
   ],
   "source": [
    "forecast = build_SARIMAX_forecast(alaska_df, 'onVentilatorCurrently', days=30, stepwise_fit=stepwise_fit)"
   ]
  },
  {
   "cell_type": "markdown",
   "metadata": {},
   "source": [
    "### Alaska Deaths Forecast"
   ]
  },
  {
   "cell_type": "code",
   "execution_count": 26,
   "metadata": {
    "scrolled": true
   },
   "outputs": [
    {
     "name": "stdout",
     "output_type": "stream",
     "text": [
      "ARIMA order is:  (0, 2, 1)\n",
      "Seasonal ARIMA order is:  (0, 0, 0, 52)\n",
      "Use ARIMA object stepwise_fit to store ARIMA and seasonal ARIMA orders in variables.\n"
     ]
    }
   ],
   "source": [
    "stepwise_fit, alaska_df_forecast = get_exogenous_forecast_dataframe(dataframe=alaska_df,\n",
    "                                                                    original_dataframe=alaska_ref,\n",
    "                                                                    forecast=forecast, \n",
    "                                                                    target_column='death',\n",
    "                                                                    exogenous_column='onVentilatorCurrently',\n",
    "                                                                    days=30)"
   ]
  },
  {
   "cell_type": "code",
   "execution_count": 27,
   "metadata": {
    "scrolled": true
   },
   "outputs": [
    {
     "data": {
      "text/html": [
       "<div>\n",
       "<style scoped>\n",
       "    .dataframe tbody tr th:only-of-type {\n",
       "        vertical-align: middle;\n",
       "    }\n",
       "\n",
       "    .dataframe tbody tr th {\n",
       "        vertical-align: top;\n",
       "    }\n",
       "\n",
       "    .dataframe thead th {\n",
       "        text-align: right;\n",
       "    }\n",
       "</style>\n",
       "<table border=\"1\" class=\"dataframe\">\n",
       "  <thead>\n",
       "    <tr style=\"text-align: right;\">\n",
       "      <th></th>\n",
       "      <th>state</th>\n",
       "      <th>positive</th>\n",
       "      <th>negative</th>\n",
       "      <th>onVentilatorCurrently</th>\n",
       "      <th>death</th>\n",
       "    </tr>\n",
       "  </thead>\n",
       "  <tbody>\n",
       "    <tr>\n",
       "      <th>2021-03-02</th>\n",
       "      <td>NaN</td>\n",
       "      <td>NaN</td>\n",
       "      <td>NaN</td>\n",
       "      <td>9.396662</td>\n",
       "      <td>NaN</td>\n",
       "    </tr>\n",
       "    <tr>\n",
       "      <th>2021-03-03</th>\n",
       "      <td>NaN</td>\n",
       "      <td>NaN</td>\n",
       "      <td>NaN</td>\n",
       "      <td>9.390789</td>\n",
       "      <td>NaN</td>\n",
       "    </tr>\n",
       "    <tr>\n",
       "      <th>2021-03-04</th>\n",
       "      <td>NaN</td>\n",
       "      <td>NaN</td>\n",
       "      <td>NaN</td>\n",
       "      <td>9.384722</td>\n",
       "      <td>NaN</td>\n",
       "    </tr>\n",
       "    <tr>\n",
       "      <th>2021-03-05</th>\n",
       "      <td>NaN</td>\n",
       "      <td>NaN</td>\n",
       "      <td>NaN</td>\n",
       "      <td>9.378462</td>\n",
       "      <td>NaN</td>\n",
       "    </tr>\n",
       "    <tr>\n",
       "      <th>2021-03-06</th>\n",
       "      <td>NaN</td>\n",
       "      <td>NaN</td>\n",
       "      <td>NaN</td>\n",
       "      <td>9.372010</td>\n",
       "      <td>NaN</td>\n",
       "    </tr>\n",
       "    <tr>\n",
       "      <th>2021-03-07</th>\n",
       "      <td>NaN</td>\n",
       "      <td>NaN</td>\n",
       "      <td>NaN</td>\n",
       "      <td>9.365364</td>\n",
       "      <td>NaN</td>\n",
       "    </tr>\n",
       "    <tr>\n",
       "      <th>2021-03-08</th>\n",
       "      <td>NaN</td>\n",
       "      <td>NaN</td>\n",
       "      <td>NaN</td>\n",
       "      <td>9.358525</td>\n",
       "      <td>NaN</td>\n",
       "    </tr>\n",
       "    <tr>\n",
       "      <th>2021-03-09</th>\n",
       "      <td>NaN</td>\n",
       "      <td>NaN</td>\n",
       "      <td>NaN</td>\n",
       "      <td>9.351493</td>\n",
       "      <td>NaN</td>\n",
       "    </tr>\n",
       "    <tr>\n",
       "      <th>2021-03-10</th>\n",
       "      <td>NaN</td>\n",
       "      <td>NaN</td>\n",
       "      <td>NaN</td>\n",
       "      <td>9.344268</td>\n",
       "      <td>NaN</td>\n",
       "    </tr>\n",
       "    <tr>\n",
       "      <th>2021-03-11</th>\n",
       "      <td>NaN</td>\n",
       "      <td>NaN</td>\n",
       "      <td>NaN</td>\n",
       "      <td>9.336850</td>\n",
       "      <td>NaN</td>\n",
       "    </tr>\n",
       "  </tbody>\n",
       "</table>\n",
       "</div>"
      ],
      "text/plain": [
       "           state  positive  negative  onVentilatorCurrently  death\n",
       "2021-03-02   NaN       NaN       NaN               9.396662    NaN\n",
       "2021-03-03   NaN       NaN       NaN               9.390789    NaN\n",
       "2021-03-04   NaN       NaN       NaN               9.384722    NaN\n",
       "2021-03-05   NaN       NaN       NaN               9.378462    NaN\n",
       "2021-03-06   NaN       NaN       NaN               9.372010    NaN\n",
       "2021-03-07   NaN       NaN       NaN               9.365364    NaN\n",
       "2021-03-08   NaN       NaN       NaN               9.358525    NaN\n",
       "2021-03-09   NaN       NaN       NaN               9.351493    NaN\n",
       "2021-03-10   NaN       NaN       NaN               9.344268    NaN\n",
       "2021-03-11   NaN       NaN       NaN               9.336850    NaN"
      ]
     },
     "execution_count": 27,
     "metadata": {},
     "output_type": "execute_result"
    }
   ],
   "source": [
    "alaska_df_forecast.tail(10)"
   ]
  },
  {
   "cell_type": "code",
   "execution_count": 29,
   "metadata": {},
   "outputs": [
    {
     "data": {
      "image/png": "[encoded data removed]",
      "text/plain": [
       "<Figure size 1008x504 with 1 Axes>"
      ]
     },
     "metadata": {},
     "output_type": "display_data"
    },
    {
     "ename": "TypeError",
     "evalue": "'Text' object is not callable",
     "output_type": "error",
     "traceback": [
      "\u001b[1;31m---------------------------------------------------------------------------\u001b[0m",
      "\u001b[1;31mTypeError\u001b[0m                                 Traceback (most recent call last)",
      "\u001b[1;32m<ipython-input-29-ba0e7e5581fc>\u001b[0m in \u001b[0;36m<module>\u001b[1;34m\u001b[0m\n\u001b[1;32m----> 1\u001b[1;33m exog_forecast, results_forecast = build_SARIMAX_forecast(dataframe=alaska_df_forecast, \n\u001b[0m\u001b[0;32m      2\u001b[0m                                                          \u001b[0mtarget_column\u001b[0m\u001b[1;33m=\u001b[0m\u001b[1;34m'death'\u001b[0m\u001b[1;33m,\u001b[0m \u001b[0mdays\u001b[0m\u001b[1;33m=\u001b[0m\u001b[1;36m30\u001b[0m\u001b[1;33m,\u001b[0m\u001b[1;33m\u001b[0m\u001b[1;33m\u001b[0m\u001b[0m\n\u001b[0;32m      3\u001b[0m                                                          \u001b[0mstepwise_fit\u001b[0m\u001b[1;33m=\u001b[0m\u001b[0mstepwise_fit\u001b[0m\u001b[1;33m,\u001b[0m\u001b[1;33m\u001b[0m\u001b[1;33m\u001b[0m\u001b[0m\n\u001b[0;32m      4\u001b[0m                                                          \u001b[0moriginal_df\u001b[0m\u001b[1;33m=\u001b[0m\u001b[0malaska_ref\u001b[0m\u001b[1;33m,\u001b[0m\u001b[1;33m\u001b[0m\u001b[1;33m\u001b[0m\u001b[0m\n\u001b[0;32m      5\u001b[0m                                                          exogenous_column='onVentilatorCurrently')\n",
      "\u001b[1;32m~\\desktop\\coursework\\phase_1\\Phase5 - Capstone\\Covid-19_Analysis\\Cust_Func.py\u001b[0m in \u001b[0;36mbuild_SARIMAX_forecast\u001b[1;34m(dataframe, target_column, days, stepwise_fit, m_periods, original_df, exogenous_column)\u001b[0m\n\u001b[0;32m    350\u001b[0m         \u001b[0max\u001b[0m\u001b[1;33m.\u001b[0m\u001b[0mset_xlabel\u001b[0m\u001b[1;33m(\u001b[0m\u001b[1;34m'Date'\u001b[0m\u001b[1;33m)\u001b[0m\u001b[1;33m\u001b[0m\u001b[1;33m\u001b[0m\u001b[0m\n\u001b[0;32m    351\u001b[0m         \u001b[0max\u001b[0m\u001b[1;33m.\u001b[0m\u001b[0mset_ylabel\u001b[0m\u001b[1;33m(\u001b[0m\u001b[1;34m'Deaths'\u001b[0m\u001b[1;33m)\u001b[0m\u001b[1;33m\u001b[0m\u001b[1;33m\u001b[0m\u001b[0m\n\u001b[1;32m--> 352\u001b[1;33m         \u001b[0mplt\u001b[0m\u001b[1;33m.\u001b[0m\u001b[0mtitle\u001b[0m\u001b[1;33m(\u001b[0m\u001b[1;34m'Covid-19 Deaths Forecast'\u001b[0m\u001b[1;33m)\u001b[0m\u001b[1;33m\u001b[0m\u001b[1;33m\u001b[0m\u001b[0m\n\u001b[0m\u001b[0;32m    353\u001b[0m         \u001b[0mplt\u001b[0m\u001b[1;33m.\u001b[0m\u001b[0mlegend\u001b[0m\u001b[1;33m(\u001b[0m\u001b[1;33m)\u001b[0m\u001b[1;33m\u001b[0m\u001b[1;33m\u001b[0m\u001b[0m\n\u001b[0;32m    354\u001b[0m         \u001b[0mplt\u001b[0m\u001b[1;33m.\u001b[0m\u001b[0mshow\u001b[0m\u001b[1;33m(\u001b[0m\u001b[1;33m)\u001b[0m\u001b[1;33m\u001b[0m\u001b[1;33m\u001b[0m\u001b[0m\n",
      "\u001b[1;31mTypeError\u001b[0m: 'Text' object is not callable"
     ]
    },
    {
     "data": {
      "image/png": "[encoded data removed]",
      "text/plain": [
       "<Figure size 1008x504 with 1 Axes>"
      ]
     },
     "metadata": {},
     "output_type": "display_data"
    }
   ],
   "source": [
    "exog_forecast, results_forecast = build_SARIMAX_forecast(dataframe=alaska_df_forecast, \n",
    "                                                         target_column='death', days=30, \n",
    "                                                         stepwise_fit=stepwise_fit, \n",
    "                                                         original_df=alaska_ref,\n",
    "                                                         exogenous_column='onVentilatorCurrently')"
   ]
  },
  {
   "cell_type": "code",
   "execution_count": null,
   "metadata": {},
   "outputs": [],
   "source": []
  },
  {
   "cell_type": "code",
   "execution_count": null,
   "metadata": {},
   "outputs": [],
   "source": []
  },
  {
   "cell_type": "code",
   "execution_count": 77,
   "metadata": {},
   "outputs": [],
   "source": [
    "forecast_object = results_forecast.get_forecast(steps=30,exog=alaska_df_forecast.iloc[-30:]['onVentilatorCurrently'])\n",
    "# exog=alaska_df_forecast.iloc[-30:]['onVentilatorCurrently']"
   ]
  },
  {
   "cell_type": "code",
   "execution_count": 73,
   "metadata": {},
   "outputs": [],
   "source": [
    "# write a for loop to keep any value from decreasing? \n",
    "\n",
    "forecast_interval = forecast_object.conf_int(alpha=.50) # \n",
    "predicted_mean = forecast_object.predicted_mean"
   ]
  },
  {
   "cell_type": "code",
   "execution_count": 74,
   "metadata": {
    "scrolled": true
   },
   "outputs": [],
   "source": [
    "days=30\n",
    "length = -days\n",
    "forecast_interval = forecast_interval[length:]\n",
    "predicted_mean = predicted_mean[length:]"
   ]
  },
  {
   "cell_type": "code",
   "execution_count": 78,
   "metadata": {
    "scrolled": false
   },
   "outputs": [
    {
     "data": {
      "image/png": "[encoded data removed]",
      "text/plain": [
       "<Figure size 1152x576 with 1 Axes>"
      ]
     },
     "metadata": {},
     "output_type": "display_data"
    }
   ],
   "source": [
    "ax = alaska_df.iloc[50:]['death'].plot(label='observed', figsize=(16,8))\n",
    "predicted_mean.plot(ax=ax, label='Forecast')\n",
    "ax.fill_between(forecast_interval.index,\n",
    "                forecast_interval.iloc[:, 0],\n",
    "                forecast_interval.iloc[:, 1], color='k', alpha=0.15)\n",
    "ax.set_xlabel('Date')\n",
    "ax.set_ylabel('Deaths')\n",
    "\n",
    "plt.legend()\n",
    "plt.show()"
   ]
  },
  {
   "cell_type": "code",
   "execution_count": null,
   "metadata": {},
   "outputs": [],
   "source": []
  },
  {
   "cell_type": "code",
   "execution_count": null,
   "metadata": {},
   "outputs": [],
   "source": []
  },
  {
   "cell_type": "code",
   "execution_count": null,
   "metadata": {},
   "outputs": [],
   "source": []
  },
  {
   "cell_type": "markdown",
   "metadata": {},
   "source": [
    "### Alaska SARIMA Model"
   ]
  },
  {
   "cell_type": "code",
   "execution_count": null,
   "metadata": {},
   "outputs": [],
   "source": [
    "df_AK = df_AK.sort_index()"
   ]
  },
  {
   "cell_type": "code",
   "execution_count": null,
   "metadata": {},
   "outputs": [],
   "source": [
    "df_AK = df_AK.dropna(subset=['death'])\n",
    "df_AK = df_AK.dropna(subset=['onVentilatorCurrently'])"
   ]
  },
  {
   "cell_type": "code",
   "execution_count": null,
   "metadata": {},
   "outputs": [],
   "source": [
    "df_alaska = pd.DataFrame(df_AK)"
   ]
  },
  {
   "cell_type": "code",
   "execution_count": null,
   "metadata": {},
   "outputs": [],
   "source": [
    "print(df_alaska.index.min())\n",
    "print(df_alaska.index.max())\n",
    "print('Length of dataframe: ' , len(df_alaska))"
   ]
  },
  {
   "cell_type": "code",
   "execution_count": null,
   "metadata": {},
   "outputs": [],
   "source": [
    "sd(df_alaska['death'], model='additive').plot(); # alaska = seasonal"
   ]
  },
  {
   "cell_type": "code",
   "execution_count": null,
   "metadata": {},
   "outputs": [],
   "source": [
    "stepwise_fit = auto_arima(df_alaska['death'],start_p=0,start_q=0,max_p=10,\n",
    "                          max_q=10, seasonal=True, seasonal_test='ocsb', maxiter=75, method='lbfgs',\n",
    "                          n_jobs=-1,stepwise=True)"
   ]
  },
  {
   "cell_type": "code",
   "execution_count": null,
   "metadata": {},
   "outputs": [],
   "source": [
    "model = SARIMAX(df_alaska['death'], order=stepwise_fit.order,seasonal_order=stepwise_fit.seasonal_order).fit()\n",
    "model.summary()"
   ]
  },
  {
   "cell_type": "code",
   "execution_count": null,
   "metadata": {},
   "outputs": [],
   "source": [
    "# dont forget get_predict\n",
    "predictions_AK = model.get_forecast(30)"
   ]
  },
  {
   "cell_type": "code",
   "execution_count": null,
   "metadata": {
    "scrolled": true
   },
   "outputs": [],
   "source": [
    "predictions_AK.predicted_mean"
   ]
  },
  {
   "cell_type": "code",
   "execution_count": null,
   "metadata": {
    "scrolled": true
   },
   "outputs": [],
   "source": [
    "predictions_AK.predicted_mean\n",
    "predictions_AK.conf_int(alpha=.05) # lower and upper confidence intervals, \n",
    "# phase4 appendix will tell you how to graph and shade in between these two plots\n",
    "\n",
    "# # Get forecast 500 steps ahead in future\n",
    "# prediction = output.get_forecast(steps=500)\n",
    "\n",
    "# # Get confidence intervals of forecasts\n",
    "# pred_conf = prediction.conf_int()\n",
    "\n",
    "# ax = CO2.plot(label='observed', figsize=(20, 15))\n",
    "# prediction.predicted_mean.plot(ax=ax, label='Forecast')\n",
    "# ax.fill_between(pred_conf.index,\n",
    "#                 pred_conf.iloc[:, 0],\n",
    "#                 pred_conf.iloc[:, 1], color='k', alpha=0.25)\n",
    "# ax.set_xlabel('Date')\n",
    "# ax.set_ylabel('CO2 Levels')\n",
    "\n",
    "# plt.legend()\n",
    "# plt.show()"
   ]
  },
  {
   "cell_type": "code",
   "execution_count": null,
   "metadata": {},
   "outputs": [],
   "source": [
    "stepwise_fit.order"
   ]
  },
  {
   "cell_type": "code",
   "execution_count": null,
   "metadata": {},
   "outputs": [],
   "source": [
    "stepwise_fit.summary()"
   ]
  },
  {
   "cell_type": "code",
   "execution_count": null,
   "metadata": {},
   "outputs": [],
   "source": [
    "length = len(df_alaska)-45"
   ]
  },
  {
   "cell_type": "code",
   "execution_count": null,
   "metadata": {},
   "outputs": [],
   "source": [
    "train_data = df_alaska.iloc[:length]\n",
    "test_data = df_alaska.iloc[length:]"
   ]
  },
  {
   "cell_type": "code",
   "execution_count": null,
   "metadata": {},
   "outputs": [],
   "source": [
    "train_data"
   ]
  },
  {
   "cell_type": "code",
   "execution_count": null,
   "metadata": {
    "scrolled": true
   },
   "outputs": [],
   "source": [
    "test_data"
   ]
  },
  {
   "cell_type": "code",
   "execution_count": null,
   "metadata": {},
   "outputs": [],
   "source": [
    "model = sm.tsa.statespace.SARIMAX(train_data['death'],trend='ct', order=(0,2,1))\n",
    "res = model.fit(disp=False)\n",
    "print(res.summary())"
   ]
  },
  {
   "cell_type": "code",
   "execution_count": null,
   "metadata": {},
   "outputs": [],
   "source": [
    "start = len(train_data)\n",
    "end = len(train_data) + len(test_data) - 1"
   ]
  },
  {
   "cell_type": "code",
   "execution_count": null,
   "metadata": {},
   "outputs": [],
   "source": [
    "predictions_AK = res.predict(start,end,typ='endogenous').rename('SARIMAX(0,2,1) Predictions')"
   ]
  },
  {
   "cell_type": "code",
   "execution_count": null,
   "metadata": {},
   "outputs": [],
   "source": [
    "train_data.index"
   ]
  },
  {
   "cell_type": "code",
   "execution_count": null,
   "metadata": {},
   "outputs": [],
   "source": [
    "test_data.index"
   ]
  },
  {
   "cell_type": "code",
   "execution_count": null,
   "metadata": {},
   "outputs": [],
   "source": [
    "predictions_AK = pd.DataFrame(predictions_AK)"
   ]
  },
  {
   "cell_type": "code",
   "execution_count": null,
   "metadata": {
    "scrolled": true
   },
   "outputs": [],
   "source": [
    "predictions_AK.index.name = 'date'"
   ]
  },
  {
   "cell_type": "markdown",
   "metadata": {},
   "source": [
    "#### Compare Test Data with Predictions"
   ]
  },
  {
   "cell_type": "code",
   "execution_count": null,
   "metadata": {},
   "outputs": [],
   "source": [
    "train_data.index.freq = 'D'\n",
    "test_data.index.freq = 'D' # -1D is reverse index, ie most recent date is at top of dataframe\n",
    "# perform sort_index on dataframe to correct. set frequencies to match for plotting\n",
    "# on same visualization"
   ]
  },
  {
   "cell_type": "code",
   "execution_count": null,
   "metadata": {
    "scrolled": true
   },
   "outputs": [],
   "source": [
    "pd.DataFrame(test_data['death']).info()"
   ]
  },
  {
   "cell_type": "code",
   "execution_count": null,
   "metadata": {},
   "outputs": [],
   "source": [
    "predictions_AK.info()"
   ]
  },
  {
   "cell_type": "code",
   "execution_count": null,
   "metadata": {},
   "outputs": [],
   "source": [
    "pd.DataFrame(test_data['death']).plot(figsize=(16,8),legend=True,title='Test Data vs SARIMA',grid=True)\n",
    "plt.plot(pd.DataFrame(predictions_AK))\n",
    "plt.show()"
   ]
  },
  {
   "cell_type": "code",
   "execution_count": null,
   "metadata": {},
   "outputs": [],
   "source": [
    "model = sm.tsa.statespace.SARIMAX(df_alaska['death'],trend='ct', order=(0,2,1))\n",
    "res = model.fit(disp=False)\n",
    "print(res.summary())"
   ]
  },
  {
   "cell_type": "code",
   "execution_count": null,
   "metadata": {},
   "outputs": [],
   "source": [
    "fcast = res.predict(start=len(df_AK),end=len(df_AK)+45, typ='endogenous').rename('SARIMAX FORECAST')"
   ]
  },
  {
   "cell_type": "code",
   "execution_count": null,
   "metadata": {
    "scrolled": false
   },
   "outputs": [],
   "source": [
    "fig, ax = plt.subplots()\n",
    "\n",
    "train_data['death'].plot(figsize=(16,8),legend=True,ylabel='Deaths',title='Forecast Deaths, Alaska',grid=True);\n",
    "test_data['death'].plot(grid=True);\n",
    "fcast.plot(legend=True,figsize=(18,8)); \n",
    "ax.grid();\n",
    "plt.show();"
   ]
  },
  {
   "cell_type": "code",
   "execution_count": null,
   "metadata": {
    "scrolled": false
   },
   "outputs": [],
   "source": [
    "fig, ax = plt.subplots()\n",
    "\n",
    "test_data['death'].plot(figsize=(16,8),legend=True,title='Forecast Deaths, Alaska',grid=True);\n",
    "train_data['death'].plot(figsize=(16,8),legend=True,ylabel='Deaths',grid=True);\n",
    "plt.plot(pd.DataFrame(predictions_AK)); # 'FORECAST' FROM END OF TRAINING DATA\n",
    "fcast.plot(legend=True,figsize=(18,8)); # SARIMA FORECAST\n",
    "ax.grid();\n",
    "plt.show();"
   ]
  },
  {
   "cell_type": "markdown",
   "metadata": {
    "heading_collapsed": true
   },
   "source": [
    "### Dashboard Dev, Work in Progress"
   ]
  },
  {
   "cell_type": "code",
   "execution_count": null,
   "metadata": {
    "hidden": true
   },
   "outputs": [],
   "source": [
    "# ## getting S&P500 symbols\n",
    "# import requests\n",
    "# url= 'https://api.covidtracking.com/v1/states/daily.csv'\n",
    "# response = requests.get(url)\n",
    "# response.status_code"
   ]
  },
  {
   "cell_type": "code",
   "execution_count": null,
   "metadata": {
    "hidden": true,
    "scrolled": true
   },
   "outputs": [],
   "source": [
    "# response."
   ]
  },
  {
   "cell_type": "code",
   "execution_count": null,
   "metadata": {
    "hidden": true
   },
   "outputs": [],
   "source": [
    "# def summary_states(df_states,state_postal_code,days):\n",
    "    \n",
    "#     '''\n",
    "#     *purpose: creates a SARIMA model based on datetime dataframe with column 'death'\n",
    "#               and a state postal code under column 'state'\n",
    "    \n",
    "#     *inputs:\n",
    "#     df_states: a dataframe of the state Covid data\n",
    "#     state_postal_code: state postal code to get state related death data\n",
    "#     days: number of days out you wish to forecast\n",
    "#     '''\n",
    "#     # create dataframe based on state_postal_code\n",
    "#     df_state = df_states[df_states['state']==state_postal_code]    \n",
    "\n",
    "#     # sort index, lowest index to oldest date, drop na's in death column\n",
    "#     df_state = df_state.sort_index()\n",
    "#     df_state = df_state.dropna(subset=['death'])\n",
    "#     df_state_new = pd.DataFrame(df_state)\n",
    "\n",
    "#     # create stepwise fit model, see summary\n",
    "#     stepwise_fit = auto_arima(df_state_new['death'],start_p=0,start_q=0,max_p=10,\n",
    "#                               max_q=10, seasonal=True, maxiter=1000, method='bfgs',\n",
    "#                               n_jobs=-1,stepwise=True) \n",
    "\n",
    "#     # auto_arima automatically differences and returns that differencing for the model in the arima_order = stepwise_fit.order below\n",
    "#     ## find correct ARIMA order\n",
    "\n",
    "#     arima_order = stepwise_fit.order\n",
    "\n",
    "#     length = len(df_state_new)-days\n",
    "\n",
    "#     df_actuals = df_state_new\n",
    "#     train_data = df_state_new.iloc[:length]\n",
    "#     test_data = df_state_new.iloc[length:]\n",
    "\n",
    "#     model = sm.tsa.statespace.SARIMAX(train_data['death'],trend='ct', order=arima_order)\n",
    "#     res = model.fit(disp=False)\n",
    "\n",
    "#     start = len(train_data)\n",
    "#     end = len(train_data) + len(test_data) - 1\n",
    "\n",
    "#     predictions_state = res.predict(start,end,typ='endogenous').rename(f'SARIMA{arima_order} Predictions')\n",
    "\n",
    "#     # ensure predictions are in DataFrame format, label index as date to match df_alaska\n",
    "#     # predictions_state = pd.DataFrame(predictions_state)\n",
    "#     predictions_state.index.name = 'date'\n",
    "\n",
    "#     train_data.index.freq = 'D'\n",
    "#     test_data.index.freq = 'D' # -1D is reverse index, ie most recent date is at top of dataframe\n",
    "#     # perform sort_index on dataframe to correct. set frequencies to match for plotting\n",
    "#     # on same visualization\n",
    "\n",
    "#     # graph test vs. prediction data - {PLOT}\n",
    "#     legend_elements = [Line2D([0], [0], color='b', lw=4, label='Actual Deaths'),\n",
    "#                        Line2D([0], [0], color='r', lw=4, label=f'SARIMA{arima_order} Predictions')]\n",
    "\n",
    "#     fig, ax = plt.subplots(figsize=(20,10));\n",
    "#     ax.plot(test_data['death'])\n",
    "#     ax.plot(predictions_state);\n",
    "#     ax.grid(b=True,alpha=.5)\n",
    "#     plt.title(f'Test Data vs SARIMA, {state_postal_code}')\n",
    "#     ax.legend(handles=legend_elements)\n",
    "#     plt.xlabel('Date')\n",
    "#     plt.ylabel('Deaths')\n",
    "#     plt.show();\n",
    "\n",
    "#     # train model for forecast\n",
    "#     model = sm.tsa.statespace.SARIMAX(df_state['death'],trend='ct', order=arima_order)\n",
    "#     res = model.fit(disp=False)\n",
    "\n",
    "#     # create forecast\n",
    "#     fcast = res.predict(start=len(df_state_new),end=len(df_state_new)+days, typ='endogenous').rename(f'SARIMA{arima_order} {days} Days Forecast')\n",
    "\n",
    "#     # graph forecast deaths, breakout of train and test split is present in graph - {PLOT}\n",
    "#     legend_elements = [Line2D([0], [0], color='b', lw=5, label='Actual Deaths'),\n",
    "#                        Line2D([0], [0], color='r', lw=5, label='Actual Deaths'),\n",
    "#                        Line2D([0], [0], color='y', lw=5, label=f'SARIMA{arima_order} Predictions'),\n",
    "#                        Line2D([0], [0], color='g', lw=5, label=f'SARIMA{arima_order} {days} Day Forecast')]\n",
    "\n",
    "#     fig, ax = plt.subplots(figsize=(20,10));\n",
    "#     ax.plot(train_data['death'])\n",
    "#     ax.plot(test_data['death'])\n",
    "#     ax.plot(predictions_state)\n",
    "#     ax.plot(fcast)\n",
    "#     ax.grid(b=True,alpha=.5)\n",
    "#     plt.title(f'SARIMA {days} Day Forecast, {state_postal_code}')\n",
    "#     ax.legend(handles=legend_elements)\n",
    "#     plt.xlabel('Date')\n",
    "#     plt.ylabel('Deaths')\n",
    "#     plt.show();\n",
    "    \n",
    "#     return df_actuals\n",
    "#     return fcast # returning fcast to put into plot_forecast"
   ]
  },
  {
   "cell_type": "code",
   "execution_count": null,
   "metadata": {
    "hidden": true
   },
   "outputs": [],
   "source": [
    "# summary_states(df_states,'CA',30)"
   ]
  },
  {
   "cell_type": "code",
   "execution_count": null,
   "metadata": {
    "hidden": true
   },
   "outputs": [],
   "source": [
    "# def plot_forecast(df,states=[]):\n",
    "#     if len(states)==0:\n",
    "#         states=None\n",
    "#     pfig = px.line(df)\n",
    "#     return pfig"
   ]
  },
  {
   "cell_type": "code",
   "execution_count": null,
   "metadata": {
    "hidden": true,
    "scrolled": true
   },
   "outputs": [],
   "source": [
    "# def make_options(menu_choices,ignore_cols=['Date']):\n",
    "#     \"\"\"Returns list of dictionary with {'label':menu_choice,'value':menu_choice}\"\"\"\n",
    "#     options = []\n",
    "#     for choice in menu_choices:\n",
    "#         if choice not in ignore_cols:\n",
    "#             options.append({'State':choice,'Postal Code':choice})\n",
    "#     return options\n",
    "\n",
    "# state_options = make_options(state_postal)\n",
    "# make_options(state_postal)"
   ]
  },
  {
   "cell_type": "code",
   "execution_count": null,
   "metadata": {
    "hidden": true
   },
   "outputs": [],
   "source": [
    "# pio.templates.default = \"plotly_dark\""
   ]
  },
  {
   "cell_type": "code",
   "execution_count": null,
   "metadata": {
    "hidden": true
   },
   "outputs": [],
   "source": [
    "# df_state = df_states[df_states['state']=='CA']    \n",
    "\n",
    "# # sort index, lowest index to oldest date, drop na's in death column\n",
    "# df_state = df_state.sort_index()\n",
    "# df_state = df_state.dropna(subset=['death'])\n",
    "# df_actuals = pd.DataFrame(df_state)\n",
    "    \n",
    "# ## App here\n",
    "# app = JupyterDash('App2')\n",
    "\n",
    "# app.layout = html.Div(children=[\n",
    "#     html.H1('Forecasting'),\n",
    "#     html.H2('COVID-19 Deaths Forecast'),\n",
    "#     dcc.Dropdown(id='states',options=state_options,multi=True),\n",
    "#     dcc.Graph(id=f'{state}',figure=plot_forecast(df_actuals['death'],fcast))])\n",
    "# app    \n",
    "\n",
    "# @app.callback(Output('states','figure'),\n",
    "#               [Input(f'{state}','value')])\n",
    "\n",
    "# def update_forecast(states,state):\n",
    "#     return plot_forecast(df_states[f'{state}'])\n",
    "# app"
   ]
  },
  {
   "cell_type": "code",
   "execution_count": null,
   "metadata": {
    "hidden": true
   },
   "outputs": [],
   "source": [
    "# today = dt.date.today().strftime(\"%Y-%m-%d\")\n",
    "\n",
    "# def get_data(start_date=df_states,end_date=today,state_codes=state_postal_code):\n",
    "    \n",
    "#     data = {}\n",
    "#     for state in state_codes:\n",
    "#         try:\n",
    "#             data[state] = pdr.DataReader(df_states,'yahoo',start_date,end_date)['death']\n",
    "#         except:\n",
    "#             print('Error with stock: '+stock)\n",
    "#     df = pd.DataFrame(data).reset_index()\n",
    "#     return df\n",
    "\n",
    "\n",
    "# def plot_forecast_df(df=None,stocks=['FB','AAPL']):\n",
    "#     if df is None:\n",
    "#         df = get_data(stocks)#.reset_index()\n",
    "#     stocks_exist = [s for s in stocks if s in df.columns]\n",
    "#     pfig = px.scatter(df,x='Date',y=stocks_exist)\n",
    "#     return pfig\n",
    "\n",
    "# from jupyter_plotly_dash import JupyterDash\n",
    "# app = JupyterDash('Example', \n",
    "#                   serve_locally=False)\n",
    "# defaults = ['MSFT','AMZN']\n",
    "# # df = get_data(date(2012, 1, 1))\n",
    "\n",
    "# app.layout = html.Div(children = [\n",
    "#     html.H1('Our AMAZING Dashboard'),\n",
    "    \n",
    "#     html.Div(children=[\n",
    "#         html.Div(style={\"border\":'1px solid black','padding':'3px'},id='menu',children=[\n",
    "#             html.H3('Enter state postal codes, separated by a comma.\\nPress Enter to update.'),\n",
    "\n",
    "#             dcc.Input(id='choose_stocks',value='MSFT,AMZN',\n",
    "#                       placeholder='MSFT,AAPL',#,\n",
    "#                          style={'width': '90%', 'height': 50}),           \n",
    "\n",
    "#             dcc.DatePickerRange( id='my-date-picker-range',\n",
    "#                                 start_date=date(2012,1,1),\n",
    "#                                 min_date_allowed=date(2010, 1, 1),\n",
    "#                                 max_date_allowed=today,#date.today(),#date(2021),\n",
    "#                                 end_date=today,style={'width':'50%'}),#date.today()), #date(2017, 8, 25)),\n",
    "#             html.Button('Submit',id='submit',style={'size':'40 px'})\n",
    "    \n",
    "#         ]),\n",
    "        \n",
    "#         dcc.Graph(id='line_plot')\n",
    "\n",
    "#     ])\n",
    "# ])\n",
    "\n",
    "# @app.callback(Output('line_plot','figure'),\n",
    "#               [Input('submit','n_clicks')],\n",
    "#               [State('choose_stocks','value'),\n",
    "#                State('my-date-picker-range', 'start_date'),\n",
    "#                State('my-date-picker-range', 'end_date')])\n",
    "# def update_stocks(n_clicks, stocks,start_date,end_date):\n",
    "#     stocks = stocks.split(',')\n",
    "#     plot_df = get_data(start_date,end_date,symbols=stocks)\n",
    "#     return plot_stocks_df(df=plot_df,stocks=stocks)#,start_date,end_date)\n",
    "    \n",
    "# app"
   ]
  },
  {
   "cell_type": "code",
   "execution_count": null,
   "metadata": {
    "hidden": true
   },
   "outputs": [],
   "source": [
    "# data = {}\n",
    "# days = 20\n",
    "\n",
    "# for state in state_postal:\n",
    "#     cas_state(df_states,state,days)"
   ]
  },
  {
   "cell_type": "code",
   "execution_count": null,
   "metadata": {
    "hidden": true
   },
   "outputs": [],
   "source": []
  },
  {
   "cell_type": "code",
   "execution_count": null,
   "metadata": {
    "hidden": true
   },
   "outputs": [],
   "source": []
  },
  {
   "cell_type": "markdown",
   "metadata": {},
   "source": [
    "### Forecast by State, SARIMA"
   ]
  },
  {
   "cell_type": "markdown",
   "metadata": {},
   "source": [
    "#### Here, provide DataFrame, postal code, and number of days in the future you wish to forecast. Code for this function is in Python file, Cust_Func.py"
   ]
  },
  {
   "cell_type": "markdown",
   "metadata": {},
   "source": [
    "### Alaska"
   ]
  },
  {
   "cell_type": "code",
   "execution_count": null,
   "metadata": {
    "scrolled": false
   },
   "outputs": [],
   "source": [
    "cas_state(df_states=df_states, state_postal_code='AK',days=35)"
   ]
  },
  {
   "cell_type": "markdown",
   "metadata": {},
   "source": [
    "#### Based on a 35 day forecast as of data pulled on 01-24-2021 and good thru 01-23-2021, Alaska is seeing an increase in death rate. As of mid-December, the trend was flatter than the forecasted trend. Deaths currently sit at just over 250, but are projected to reach over 400 by the beginning of March. "
   ]
  },
  {
   "cell_type": "markdown",
   "metadata": {},
   "source": [
    "## Univariate Forecast with RNN"
   ]
  },
  {
   "cell_type": "markdown",
   "metadata": {},
   "source": [
    "### Texas"
   ]
  },
  {
   "cell_type": "code",
   "execution_count": null,
   "metadata": {},
   "outputs": [],
   "source": [
    "create_nn(df_states=df_states,state_postal_code='TX',days=25,epochs=4) # "
   ]
  },
  {
   "cell_type": "markdown",
   "metadata": {},
   "source": [
    "### Florida"
   ]
  },
  {
   "cell_type": "code",
   "execution_count": null,
   "metadata": {},
   "outputs": [],
   "source": [
    "create_nn(df_states,'FL',20,epochs=4)"
   ]
  },
  {
   "cell_type": "markdown",
   "metadata": {},
   "source": [
    "### California"
   ]
  },
  {
   "cell_type": "code",
   "execution_count": null,
   "metadata": {},
   "outputs": [],
   "source": [
    "create_nn(df_states,'CA',20,epochs=4)"
   ]
  },
  {
   "cell_type": "markdown",
   "metadata": {},
   "source": [
    "## Using an Exogenous Variable with SARIMAX"
   ]
  },
  {
   "cell_type": "markdown",
   "metadata": {},
   "source": [
    "### pdq SARIMAX build"
   ]
  },
  {
   "cell_type": "code",
   "execution_count": null,
   "metadata": {},
   "outputs": [],
   "source": [
    "# Define the p, d and q parameters to take any value between 0 and 2\n",
    "p = d = q = [0,1,2]\n",
    "\n",
    "# Generate all different combinations of p, q and q triplets\n",
    "pdq = list(itertools.product(p, d, q))\n",
    "\n",
    "# Generate all different combinations of seasonal p, q and q triplets\n",
    "pdqs = [(x[0], x[1], x[2], 52) for x in list(itertools.product(p, d, q))]"
   ]
  },
  {
   "cell_type": "code",
   "execution_count": null,
   "metadata": {},
   "outputs": [],
   "source": [
    "# Run a grid with pdq and seasonal pdq parameters calculated above and get the best AIC value\n",
    "ans = []\n",
    "for comb in pdq:\n",
    "    for combs in pdqs:\n",
    "        try:\n",
    "            mod = sm.tsa.statespace.SARIMAX(alaska_df['death'],\n",
    "                                            order=comb,\n",
    "                                            seasonal_order=combs,\n",
    "                                            enforce_stationarity=False,\n",
    "                                            enforce_invertibility=False)\n",
    "\n",
    "            output = mod.fit()\n",
    "            ans.append([comb, combs, output.aic])\n",
    "            print('ARIMA {} x {}52 : AIC Calculated ={}'.format(comb, combs, output.aic))\n",
    "        except:\n",
    "            continue"
   ]
  },
  {
   "cell_type": "code",
   "execution_count": null,
   "metadata": {},
   "outputs": [],
   "source": [
    "# Find the parameters with minimal AIC value\n",
    "ans_df = pd.DataFrame(ans, columns=['pdq', 'pdqs', 'aic'])\n",
    "arima_order = ans_df['pdq'].loc[ans_df['aic'].idxmin()]\n",
    "seasonal_arima = ans_df['pdqs'].loc[ans_df['aic'].idxmin()]"
   ]
  },
  {
   "cell_type": "code",
   "execution_count": null,
   "metadata": {},
   "outputs": [],
   "source": [
    "# Plug the optimal parameter values into a new SARIMAX model\n",
    "ARIMA_MODEL = sm.tsa.statespace.SARIMAX(df_alaska['death'],\n",
    "                                        exogenous=df_alaska['ventilator_forecast']\n",
    "                                        order=arima_order, \n",
    "                                        seasonal_order=seasonal_arima, \n",
    "                                        enforce_stationarity=False, \n",
    "                                        enforce_invertibility=False)\n",
    "\n",
    "# Fit the model and print results\n",
    "output = ARIMA_MODEL.fit()\n",
    "\n",
    "print(output.summary().tables[1])"
   ]
  },
  {
   "cell_type": "code",
   "execution_count": null,
   "metadata": {},
   "outputs": [],
   "source": [
    "# Call plot_diagnostics() on the results calculated above \n",
    "output.plot_diagnostics(figsize=(15, 18))\n",
    "plt.show()"
   ]
  },
  {
   "cell_type": "code",
   "execution_count": null,
   "metadata": {},
   "outputs": [],
   "source": []
  },
  {
   "cell_type": "code",
   "execution_count": null,
   "metadata": {},
   "outputs": [],
   "source": [
    "# adding holidays into dataframe below"
   ]
  },
  {
   "cell_type": "code",
   "execution_count": null,
   "metadata": {
    "scrolled": true
   },
   "outputs": [],
   "source": [
    "from pandas.tseries.holiday import USFederalHolidayCalendar as calendar\n",
    "\n",
    "calendar = calendar()\n",
    "holidays = calendar.holidays(start=df_states.index.min(), end=df_states.index.max())\n",
    "\n",
    "df_states['holiday'] = df_states.index.isin(holidays)\n",
    "\n",
    "df_whole_US['holiday'] = df_whole_US.index.isin(holidays)"
   ]
  },
  {
   "cell_type": "code",
   "execution_count": null,
   "metadata": {
    "scrolled": true
   },
   "outputs": [],
   "source": [
    "df_states = clean_df(df_states,.05)"
   ]
  },
  {
   "cell_type": "code",
   "execution_count": null,
   "metadata": {},
   "outputs": [],
   "source": [
    "state_postal_code = 'TX'\n",
    "days = 30\n",
    "\n",
    "df_state = df_states[df_states['state']==state_postal_code]    \n",
    "\n",
    "# sort index, lowest index to oldest date, drop na's in death column\n",
    "df_state = df_state.sort_index()\n",
    "df_state = df_state.dropna(subset=['death'])\n",
    "df_state_new = pd.DataFrame(df_state)\n",
    "\n",
    "#     ets_decomp = sd(df_state_new['death'])\n",
    "#     ets_decomp.plot();\n",
    "\n",
    "# create stepwise fit model, see summary\n",
    "stepwise_fit = auto_arima(df_state_new['death'],seasonal=True,m=52,maxiter=2)\n",
    "\n",
    "# auto_arima automatically differences and returns that differencing for the model in the arima_order = stepwise_fit.order below\n",
    "## find correct ARIMA order\n",
    "\n",
    "arima_order = stepwise_fit.order\n",
    "seasonal_order = stepwise_fit.seasonal_order\n",
    "\n",
    "length = len(df_state_new)-days\n",
    "\n",
    "train_data = df_state_new.iloc[:length]\n",
    "test_data = df_state_new.iloc[length:]\n",
    "\n",
    "model = sm.tsa.statespace.SARIMAX(train_data['death'], trend='ct', seasonal_order=seasonal_order, \n",
    "                                  order=arima_order, enforce_invertibility=False)\n",
    "res = model.fit()\n",
    "\n",
    "start = len(train_data)\n",
    "end = len(train_data) + len(test_data) - 1\n",
    "\n",
    "predictions_state = res.predict(start,end,dynamic=False).rename(f'SARIMAX {arima_order} Predictions')\n",
    "\n",
    "# ensure predictions are in DataFrame format, label index as date to match df_alaska\n",
    "predictions_state = pd.DataFrame(predictions_state)\n",
    "predictions_state.index.name = 'date'\n",
    "\n",
    "train_data.index.freq = 'D'\n",
    "test_data.index.freq = 'D' # -1D is reverse index, ie most recent date is at top of dataframe\n",
    "# perform sort_index on dataframe to correct. set frequencies to match for plotting\n",
    "# on same visualization\n",
    "\n",
    "# graph test vs. prediction data - {PLOT}\n",
    "legend_elements = [Line2D([0], [0], color='b', lw=4, label='Actual Deaths'),\n",
    "                   Line2D([0], [0], color='#FFA500', lw=4, label=f'SARIMAX {arima_order} Predictions')]\n",
    "\n",
    "fig, ax = plt.subplots(figsize=(20,10));\n",
    "ax.plot(test_data['death'])\n",
    "ax.plot(predictions_state);\n",
    "ax.grid(b=True,alpha=.5)\n",
    "plt.title(f'Test Data vs SARIMA, {state_postal_code}')\n",
    "ax.legend(handles=legend_elements)\n",
    "for x in test_data.index:\n",
    "    if test_data['holiday'].loc[x]==1:    # for days where holiday == 1\n",
    "        ax.axvline(x=x, color='red', alpha = 0.4);   \n",
    "plt.xlabel('Date')\n",
    "plt.ylabel('Deaths')\n",
    "plt.show();\n",
    "\n",
    "error1 = mse(test_data['death'], predictions_state)\n",
    "error2 = rmse(test_data['death'], predictions_state)\n",
    "\n",
    "# print(f'SARIMAX{arima_order}{seasonal_order} MSE Error: {error1}')\n",
    "# print(f'SARIMAX{arima_order}{seasonal_order} RMSE Error: {error2}')\n",
    "\n",
    "# train model for forecast\n",
    "model = sm.tsa.statespace.SARIMAX(df_state_new['death'],exog=df_state_new['holiday'],\n",
    "                                  order=arima_order, seasonal_order=seasonal_order,\n",
    "                                  enforce_invertibility=False)\n",
    "res = model.fit(disp=False)\n",
    "\n",
    "# create forecast\n",
    "exog_forecast = df_state_new[length:][['holiday']]\n",
    "fcast = res.predict(start=len(df_state_new),end=len(df_state_new)+days-1,exog=exog_forecast).rename(f'SARIMAX{arima_order},{seasonal_order} {days} Days Forecast')\n",
    "\n",
    "# graph forecast deaths, breakout of train and test split is present in graph - {PLOT}\n",
    "legend_elements = [Line2D([0], [0], color='b', lw=5, label='Actual Deaths'),\n",
    "                   Line2D([0], [0], color='#FFA500', lw=5, label='Actual Deaths'),\n",
    "                   Line2D([0], [0], color='g', lw=5, label=f'SARIMAX {arima_order} , {seasonal_order} Predictions'),\n",
    "                   Line2D([0], [0], color='r', lw=5, label=f'SARIMAX {arima_order} , {seasonal_order} {days} Day Forecast')]\n",
    "\n",
    "fig, ax = plt.subplots(figsize=(20,10));\n",
    "ax.plot(train_data['death'])\n",
    "ax.plot(test_data['death'])\n",
    "ax.plot(predictions_state)\n",
    "ax.plot(fcast)\n",
    "ax.grid(b=True,alpha=.5)\n",
    "plt.title(f'SARIMAX {days} Day Forecast, {state_postal_code}')\n",
    "ax.legend(handles=legend_elements)\n",
    "for x in df_state_new.index:\n",
    "    if df_state_new['holiday'].loc[x]==1:    # for days where holiday == 1\n",
    "        ax.axvline(x=x, color='red', alpha = 0.4);   \n",
    "plt.xlabel('Date')\n",
    "plt.ylabel('Deaths')\n",
    "plt.show();\n",
    "\n",
    "last_predictions = len(fcast)-5\n",
    "actual_numbers = fcast[last_predictions:]\n",
    "\n",
    "return actual_numbers"
   ]
  },
  {
   "cell_type": "markdown",
   "metadata": {},
   "source": [
    "### Texas"
   ]
  },
  {
   "cell_type": "code",
   "execution_count": null,
   "metadata": {},
   "outputs": [],
   "source": []
  },
  {
   "cell_type": "code",
   "execution_count": null,
   "metadata": {},
   "outputs": [],
   "source": []
  },
  {
   "cell_type": "code",
   "execution_count": null,
   "metadata": {},
   "outputs": [],
   "source": []
  },
  {
   "cell_type": "code",
   "execution_count": null,
   "metadata": {},
   "outputs": [],
   "source": []
  },
  {
   "cell_type": "code",
   "execution_count": null,
   "metadata": {},
   "outputs": [],
   "source": [
    "create_SAX(df_states,'TX',30)"
   ]
  },
  {
   "cell_type": "markdown",
   "metadata": {},
   "source": [
    "#### An exogenous SARIMA model is taking holidays into account and provides an accurate picture. Red vertical lines represent holidays. Green and orange graphed lines in the second graph are the evaluation of the model against the Test Data. Forecasted data is putting Texas deaths at 44,000 by February 22nd. \n",
    "\n",
    "#### The largest states in the country are problem areas because of their concentrations of populations in large metropolitan areas, regardless of political leanings or affiliations. People need to be more careful and stay away from others on a more strict basis."
   ]
  },
  {
   "cell_type": "markdown",
   "metadata": {},
   "source": [
    "### California"
   ]
  },
  {
   "cell_type": "code",
   "execution_count": null,
   "metadata": {},
   "outputs": [],
   "source": [
    "create_SAX(df_states,'CA',30)"
   ]
  },
  {
   "cell_type": "markdown",
   "metadata": {},
   "source": [
    "#### An exogenous SARIMA model is taking holidays into account and provides an accurate picture. Red vertical lines represent holidays. Green and orange graphed lines in the second graph are the evaluation of the model against the Test Data. Forecasted data is putting California deaths at 51,000 by February 22nd. \n",
    "\n",
    "#### The largest states in the country are problem areas because of their concentrations of populations in large metropolitan areas, regardless of political leanings or affiliations. People need to be more careful and stay away from others on a more strict basis."
   ]
  },
  {
   "cell_type": "markdown",
   "metadata": {},
   "source": [
    "### Florida"
   ]
  },
  {
   "cell_type": "code",
   "execution_count": null,
   "metadata": {},
   "outputs": [],
   "source": [
    "create_SAX(df_states,'FL',30)"
   ]
  },
  {
   "cell_type": "markdown",
   "metadata": {},
   "source": [
    "#### An exogenous SARIMA model is taking holidays into account and provides an accurate picture. Red vertical lines represent holidays. Green and orange graphed lines in the second graph are the evaluation of the model against the Test Data. Forecasted data is putting Florida deaths at over 30,000 by February 22nd. \n",
    "\n",
    "#### The largest states in the country are problem areas because of their concentrations of populations in large metropolitan areas, regardless of political leanings or affiliations. People need to be more careful and stay away from others on a more strict basis."
   ]
  },
  {
   "cell_type": "markdown",
   "metadata": {},
   "source": [
    "### All States"
   ]
  },
  {
   "cell_type": "code",
   "execution_count": null,
   "metadata": {},
   "outputs": [],
   "source": [
    "create_SAX_usa(df_whole_US,25)"
   ]
  },
  {
   "cell_type": "markdown",
   "metadata": {},
   "source": [
    "## Multivariate Forecast with RNN"
   ]
  },
  {
   "cell_type": "markdown",
   "metadata": {},
   "source": [
    "### Data Import and Ventilator/Death Plot"
   ]
  },
  {
   "cell_type": "code",
   "execution_count": null,
   "metadata": {},
   "outputs": [],
   "source": [
    "# initialize Df\n",
    "df_whole_US = pd.read_csv('https://api.covidtracking.com/v1/us/daily.csv',index_col='date',parse_dates=True)"
   ]
  },
  {
   "cell_type": "code",
   "execution_count": null,
   "metadata": {},
   "outputs": [],
   "source": [
    "# we can see some lag here, common sense tells us we will probably see a \n",
    "#decrease in death rate after ICU and Ventilator populations fall. \n",
    "df_whole_US['inIcuCurrently'].plot(legend=True, figsize=(15,7))\n",
    "df_whole_US['onVentilatorCurrently'].plot(legend=True, figsize=(15,7))\n",
    "(df_whole_US['death']/10).plot(legend=True);  # to scale to other graphs"
   ]
  },
  {
   "cell_type": "code",
   "execution_count": null,
   "metadata": {},
   "outputs": [],
   "source": [
    "mv_forecast(df_whole_US,days_to_train=50,days_to_forecast=20,epochs=100) \n",
    "#hyperparameters to optimize days to train?"
   ]
  },
  {
   "cell_type": "code",
   "execution_count": null,
   "metadata": {},
   "outputs": [],
   "source": [
    "# right now deaths is running total, in icu currently is the current value. utility\n",
    "# slash usefulness are slightly different.\n",
    "# currently indicates pressure on the healthcare system\n",
    "\n",
    "# Feed in a ventilator forecast into the exogenous SARIMAX functions to\n",
    "# improve the modeling while adding sophistication. make this and return this\n",
    "# in a separate function. "
   ]
  },
  {
   "cell_type": "markdown",
   "metadata": {},
   "source": [
    "## Questions"
   ]
  },
  {
   "cell_type": "markdown",
   "metadata": {},
   "source": [
    "### Question 1"
   ]
  },
  {
   "cell_type": "code",
   "execution_count": null,
   "metadata": {},
   "outputs": [],
   "source": []
  },
  {
   "cell_type": "markdown",
   "metadata": {},
   "source": [
    "### Question 2"
   ]
  },
  {
   "cell_type": "code",
   "execution_count": null,
   "metadata": {},
   "outputs": [],
   "source": []
  },
  {
   "cell_type": "markdown",
   "metadata": {},
   "source": [
    "### Question 3"
   ]
  },
  {
   "cell_type": "code",
   "execution_count": null,
   "metadata": {},
   "outputs": [],
   "source": []
  },
  {
   "cell_type": "markdown",
   "metadata": {},
   "source": [
    "## Conclusions"
   ]
  },
  {
   "cell_type": "code",
   "execution_count": null,
   "metadata": {},
   "outputs": [],
   "source": []
  },
  {
   "cell_type": "markdown",
   "metadata": {},
   "source": [
    "## Future Work"
   ]
  },
  {
   "cell_type": "code",
   "execution_count": null,
   "metadata": {},
   "outputs": [],
   "source": []
  }
 ],
 "metadata": {
  "kernelspec": {
   "display_name": "Python 3",
   "language": "python",
   "name": "python3"
  },
  "language_info": {
   "codemirror_mode": {
    "name": "ipython",
    "version": 3
   },
   "file_extension": ".py",
   "mimetype": "text/x-python",
   "name": "python",
   "nbconvert_exporter": "python",
   "pygments_lexer": "ipython3",
   "version": "3.8.5"
  },
  "toc": {
   "base_numbering": 1,
   "nav_menu": {},
   "number_sections": true,
   "sideBar": true,
   "skip_h1_title": false,
   "title_cell": "Table of Contents",
   "title_sidebar": "Contents",
   "toc_cell": false,
   "toc_position": {
    "height": "calc(100% - 180px)",
    "left": "10px",
    "top": "150px",
    "width": "202px"
   },
   "toc_section_display": true,
   "toc_window_display": true
  }
 },
 "nbformat": 4,
 "nbformat_minor": 4
}
